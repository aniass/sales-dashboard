{
 "cells": [
  {
   "cell_type": "markdown",
   "metadata": {},
   "source": [
    "# Sales dashboard \n",
    "\n",
    "### Interactive Sales Dashboard using Bokeh and Pandas\n",
    "\n",
    "The **Bokeh** is an Open-Source library for interactive visualization that renders graphics using HTML and JavaScript. It is common used for visualization and can be support EDA analysis. It can also be used to build web-based dashboards and applications. The Bokeh library supports many charts such as line graphs, bar charts, pie charts, stacked bar charts, histograms, and scatter plots. \n",
    "\n",
    "For this analysis we used \"Supermarket sales\" dataset. Based on data analysis of this dataset we build interactive dashboard by using Bokeh library.\n",
    "\n",
    "Firstly we start by installing the library **pandas-bokeh** using pip."
   ]
  },
  {
   "cell_type": "code",
   "execution_count": 1,
   "metadata": {},
   "outputs": [
    {
     "name": "stdout",
     "output_type": "stream",
     "text": [
      "Requirement already satisfied: pandas-bokeh in c:\\users\\pc\\anaconda3\\lib\\site-packages (0.5.5)\n",
      "Requirement already satisfied: pandas>=0.22.0 in c:\\users\\pc\\anaconda3\\lib\\site-packages (from pandas-bokeh) (1.0.5)\n",
      "Requirement already satisfied: bokeh>=2.0 in c:\\users\\pc\\anaconda3\\lib\\site-packages (from pandas-bokeh) (2.1.1)\n",
      "Requirement already satisfied: python-dateutil>=2.6.1 in c:\\users\\pc\\anaconda3\\lib\\site-packages (from pandas>=0.22.0->pandas-bokeh) (2.8.1)\n",
      "Requirement already satisfied: pytz>=2017.2 in c:\\users\\pc\\anaconda3\\lib\\site-packages (from pandas>=0.22.0->pandas-bokeh) (2018.7)\n",
      "Requirement already satisfied: numpy>=1.13.3 in c:\\users\\pc\\anaconda3\\lib\\site-packages (from pandas>=0.22.0->pandas-bokeh) (1.19.5)\n",
      "Requirement already satisfied: packaging>=16.8 in c:\\users\\pc\\anaconda3\\lib\\site-packages (from bokeh>=2.0->pandas-bokeh) (18.0)\n",
      "Requirement already satisfied: PyYAML>=3.10 in c:\\users\\pc\\anaconda3\\lib\\site-packages (from bokeh>=2.0->pandas-bokeh) (3.13)\n",
      "Requirement already satisfied: tornado>=5.1 in c:\\users\\pc\\anaconda3\\lib\\site-packages (from bokeh>=2.0->pandas-bokeh) (5.1.1)\n",
      "Requirement already satisfied: pillow>=4.0 in c:\\users\\pc\\anaconda3\\lib\\site-packages (from bokeh>=2.0->pandas-bokeh) (7.1.1)\n",
      "Requirement already satisfied: Jinja2>=2.7 in c:\\users\\pc\\anaconda3\\lib\\site-packages (from bokeh>=2.0->pandas-bokeh) (2.10)\n",
      "Requirement already satisfied: typing-extensions>=3.7.4 in c:\\users\\pc\\anaconda3\\lib\\site-packages (from bokeh>=2.0->pandas-bokeh) (3.7.4.3)\n",
      "Requirement already satisfied: six>=1.5 in c:\\users\\pc\\anaconda3\\lib\\site-packages (from python-dateutil>=2.6.1->pandas>=0.22.0->pandas-bokeh) (1.15.0)\n",
      "Requirement already satisfied: pyparsing>=2.0.2 in c:\\users\\pc\\anaconda3\\lib\\site-packages (from packaging>=16.8->bokeh>=2.0->pandas-bokeh) (2.3.0)\n",
      "Requirement already satisfied: MarkupSafe>=0.23 in c:\\users\\pc\\anaconda3\\lib\\site-packages (from Jinja2>=2.7->bokeh>=2.0->pandas-bokeh) (1.0)\n"
     ]
    }
   ],
   "source": [
    "!pip install pandas-bokeh"
   ]
  },
  {
   "cell_type": "markdown",
   "metadata": {},
   "source": [
    "### Importing libraries and data"
   ]
  },
  {
   "cell_type": "code",
   "execution_count": 1,
   "metadata": {},
   "outputs": [],
   "source": [
    "import pandas as pd\n",
    "import numpy as np\n",
    "import matplotlib.pyplot as plt\n",
    "\n",
    "import pandas_bokeh\n",
    "from bokeh.io import output_file, show"
   ]
  },
  {
   "cell_type": "code",
   "execution_count": 2,
   "metadata": {},
   "outputs": [
    {
     "data": {
      "text/html": [
       "\n",
       "    <div class=\"bk-root\">\n",
       "        <a href=\"https://bokeh.org\" target=\"_blank\" class=\"bk-logo bk-logo-small bk-logo-notebook\"></a>\n",
       "        <span id=\"1001\">Loading BokehJS ...</span>\n",
       "    </div>"
      ]
     },
     "metadata": {},
     "output_type": "display_data"
    },
    {
     "data": {
      "application/javascript": [
       "\n",
       "(function(root) {\n",
       "  function now() {\n",
       "    return new Date();\n",
       "  }\n",
       "\n",
       "  var force = true;\n",
       "\n",
       "  if (typeof root._bokeh_onload_callbacks === \"undefined\" || force === true) {\n",
       "    root._bokeh_onload_callbacks = [];\n",
       "    root._bokeh_is_loading = undefined;\n",
       "  }\n",
       "\n",
       "  var JS_MIME_TYPE = 'application/javascript';\n",
       "  var HTML_MIME_TYPE = 'text/html';\n",
       "  var EXEC_MIME_TYPE = 'application/vnd.bokehjs_exec.v0+json';\n",
       "  var CLASS_NAME = 'output_bokeh rendered_html';\n",
       "\n",
       "  /**\n",
       "   * Render data to the DOM node\n",
       "   */\n",
       "  function render(props, node) {\n",
       "    var script = document.createElement(\"script\");\n",
       "    node.appendChild(script);\n",
       "  }\n",
       "\n",
       "  /**\n",
       "   * Handle when an output is cleared or removed\n",
       "   */\n",
       "  function handleClearOutput(event, handle) {\n",
       "    var cell = handle.cell;\n",
       "\n",
       "    var id = cell.output_area._bokeh_element_id;\n",
       "    var server_id = cell.output_area._bokeh_server_id;\n",
       "    // Clean up Bokeh references\n",
       "    if (id != null && id in Bokeh.index) {\n",
       "      Bokeh.index[id].model.document.clear();\n",
       "      delete Bokeh.index[id];\n",
       "    }\n",
       "\n",
       "    if (server_id !== undefined) {\n",
       "      // Clean up Bokeh references\n",
       "      var cmd = \"from bokeh.io.state import curstate; print(curstate().uuid_to_server['\" + server_id + \"'].get_sessions()[0].document.roots[0]._id)\";\n",
       "      cell.notebook.kernel.execute(cmd, {\n",
       "        iopub: {\n",
       "          output: function(msg) {\n",
       "            var id = msg.content.text.trim();\n",
       "            if (id in Bokeh.index) {\n",
       "              Bokeh.index[id].model.document.clear();\n",
       "              delete Bokeh.index[id];\n",
       "            }\n",
       "          }\n",
       "        }\n",
       "      });\n",
       "      // Destroy server and session\n",
       "      var cmd = \"import bokeh.io.notebook as ion; ion.destroy_server('\" + server_id + \"')\";\n",
       "      cell.notebook.kernel.execute(cmd);\n",
       "    }\n",
       "  }\n",
       "\n",
       "  /**\n",
       "   * Handle when a new output is added\n",
       "   */\n",
       "  function handleAddOutput(event, handle) {\n",
       "    var output_area = handle.output_area;\n",
       "    var output = handle.output;\n",
       "\n",
       "    // limit handleAddOutput to display_data with EXEC_MIME_TYPE content only\n",
       "    if ((output.output_type != \"display_data\") || (!output.data.hasOwnProperty(EXEC_MIME_TYPE))) {\n",
       "      return\n",
       "    }\n",
       "\n",
       "    var toinsert = output_area.element.find(\".\" + CLASS_NAME.split(' ')[0]);\n",
       "\n",
       "    if (output.metadata[EXEC_MIME_TYPE][\"id\"] !== undefined) {\n",
       "      toinsert[toinsert.length - 1].firstChild.textContent = output.data[JS_MIME_TYPE];\n",
       "      // store reference to embed id on output_area\n",
       "      output_area._bokeh_element_id = output.metadata[EXEC_MIME_TYPE][\"id\"];\n",
       "    }\n",
       "    if (output.metadata[EXEC_MIME_TYPE][\"server_id\"] !== undefined) {\n",
       "      var bk_div = document.createElement(\"div\");\n",
       "      bk_div.innerHTML = output.data[HTML_MIME_TYPE];\n",
       "      var script_attrs = bk_div.children[0].attributes;\n",
       "      for (var i = 0; i < script_attrs.length; i++) {\n",
       "        toinsert[toinsert.length - 1].firstChild.setAttribute(script_attrs[i].name, script_attrs[i].value);\n",
       "        toinsert[toinsert.length - 1].firstChild.textContent = bk_div.children[0].textContent\n",
       "      }\n",
       "      // store reference to server id on output_area\n",
       "      output_area._bokeh_server_id = output.metadata[EXEC_MIME_TYPE][\"server_id\"];\n",
       "    }\n",
       "  }\n",
       "\n",
       "  function register_renderer(events, OutputArea) {\n",
       "\n",
       "    function append_mime(data, metadata, element) {\n",
       "      // create a DOM node to render to\n",
       "      var toinsert = this.create_output_subarea(\n",
       "        metadata,\n",
       "        CLASS_NAME,\n",
       "        EXEC_MIME_TYPE\n",
       "      );\n",
       "      this.keyboard_manager.register_events(toinsert);\n",
       "      // Render to node\n",
       "      var props = {data: data, metadata: metadata[EXEC_MIME_TYPE]};\n",
       "      render(props, toinsert[toinsert.length - 1]);\n",
       "      element.append(toinsert);\n",
       "      return toinsert\n",
       "    }\n",
       "\n",
       "    /* Handle when an output is cleared or removed */\n",
       "    events.on('clear_output.CodeCell', handleClearOutput);\n",
       "    events.on('delete.Cell', handleClearOutput);\n",
       "\n",
       "    /* Handle when a new output is added */\n",
       "    events.on('output_added.OutputArea', handleAddOutput);\n",
       "\n",
       "    /**\n",
       "     * Register the mime type and append_mime function with output_area\n",
       "     */\n",
       "    OutputArea.prototype.register_mime_type(EXEC_MIME_TYPE, append_mime, {\n",
       "      /* Is output safe? */\n",
       "      safe: true,\n",
       "      /* Index of renderer in `output_area.display_order` */\n",
       "      index: 0\n",
       "    });\n",
       "  }\n",
       "\n",
       "  // register the mime type if in Jupyter Notebook environment and previously unregistered\n",
       "  if (root.Jupyter !== undefined) {\n",
       "    var events = require('base/js/events');\n",
       "    var OutputArea = require('notebook/js/outputarea').OutputArea;\n",
       "\n",
       "    if (OutputArea.prototype.mime_types().indexOf(EXEC_MIME_TYPE) == -1) {\n",
       "      register_renderer(events, OutputArea);\n",
       "    }\n",
       "  }\n",
       "\n",
       "  \n",
       "  if (typeof (root._bokeh_timeout) === \"undefined\" || force === true) {\n",
       "    root._bokeh_timeout = Date.now() + 5000;\n",
       "    root._bokeh_failed_load = false;\n",
       "  }\n",
       "\n",
       "  var NB_LOAD_WARNING = {'data': {'text/html':\n",
       "     \"<div style='background-color: #fdd'>\\n\"+\n",
       "     \"<p>\\n\"+\n",
       "     \"BokehJS does not appear to have successfully loaded. If loading BokehJS from CDN, this \\n\"+\n",
       "     \"may be due to a slow or bad network connection. Possible fixes:\\n\"+\n",
       "     \"</p>\\n\"+\n",
       "     \"<ul>\\n\"+\n",
       "     \"<li>re-rerun `output_notebook()` to attempt to load from CDN again, or</li>\\n\"+\n",
       "     \"<li>use INLINE resources instead, as so:</li>\\n\"+\n",
       "     \"</ul>\\n\"+\n",
       "     \"<code>\\n\"+\n",
       "     \"from bokeh.resources import INLINE\\n\"+\n",
       "     \"output_notebook(resources=INLINE)\\n\"+\n",
       "     \"</code>\\n\"+\n",
       "     \"</div>\"}};\n",
       "\n",
       "  function display_loaded() {\n",
       "    var el = document.getElementById(\"1001\");\n",
       "    if (el != null) {\n",
       "      el.textContent = \"BokehJS is loading...\";\n",
       "    }\n",
       "    if (root.Bokeh !== undefined) {\n",
       "      if (el != null) {\n",
       "        el.textContent = \"BokehJS \" + root.Bokeh.version + \" successfully loaded.\";\n",
       "      }\n",
       "    } else if (Date.now() < root._bokeh_timeout) {\n",
       "      setTimeout(display_loaded, 100)\n",
       "    }\n",
       "  }\n",
       "\n",
       "\n",
       "  function run_callbacks() {\n",
       "    try {\n",
       "      root._bokeh_onload_callbacks.forEach(function(callback) {\n",
       "        if (callback != null)\n",
       "          callback();\n",
       "      });\n",
       "    } finally {\n",
       "      delete root._bokeh_onload_callbacks\n",
       "    }\n",
       "    console.debug(\"Bokeh: all callbacks have finished\");\n",
       "  }\n",
       "\n",
       "  function load_libs(css_urls, js_urls, callback) {\n",
       "    if (css_urls == null) css_urls = [];\n",
       "    if (js_urls == null) js_urls = [];\n",
       "\n",
       "    root._bokeh_onload_callbacks.push(callback);\n",
       "    if (root._bokeh_is_loading > 0) {\n",
       "      console.debug(\"Bokeh: BokehJS is being loaded, scheduling callback at\", now());\n",
       "      return null;\n",
       "    }\n",
       "    if (js_urls == null || js_urls.length === 0) {\n",
       "      run_callbacks();\n",
       "      return null;\n",
       "    }\n",
       "    console.debug(\"Bokeh: BokehJS not loaded, scheduling load and callback at\", now());\n",
       "    root._bokeh_is_loading = css_urls.length + js_urls.length;\n",
       "\n",
       "    function on_load() {\n",
       "      root._bokeh_is_loading--;\n",
       "      if (root._bokeh_is_loading === 0) {\n",
       "        console.debug(\"Bokeh: all BokehJS libraries/stylesheets loaded\");\n",
       "        run_callbacks()\n",
       "      }\n",
       "    }\n",
       "\n",
       "    function on_error() {\n",
       "      console.error(\"failed to load \" + url);\n",
       "    }\n",
       "\n",
       "    for (var i = 0; i < css_urls.length; i++) {\n",
       "      var url = css_urls[i];\n",
       "      const element = document.createElement(\"link\");\n",
       "      element.onload = on_load;\n",
       "      element.onerror = on_error;\n",
       "      element.rel = \"stylesheet\";\n",
       "      element.type = \"text/css\";\n",
       "      element.href = url;\n",
       "      console.debug(\"Bokeh: injecting link tag for BokehJS stylesheet: \", url);\n",
       "      document.body.appendChild(element);\n",
       "    }\n",
       "\n",
       "    const hashes = {\"https://cdn.bokeh.org/bokeh/release/bokeh-2.1.1.min.js\": \"kLr4fYcqcSpbuI95brIH3vnnYCquzzSxHPU6XGQCIkQRGJwhg0StNbj1eegrHs12\", \"https://cdn.bokeh.org/bokeh/release/bokeh-widgets-2.1.1.min.js\": \"xIGPmVtaOm+z0BqfSOMn4lOR6ciex448GIKG4eE61LsAvmGj48XcMQZtKcE/UXZe\", \"https://cdn.bokeh.org/bokeh/release/bokeh-tables-2.1.1.min.js\": \"Dc9u1wF/0zApGIWoBbH77iWEHtdmkuYWG839Uzmv8y8yBLXebjO9ZnERsde5Ln/P\", \"https://cdn.bokeh.org/bokeh/release/bokeh-gl-2.1.1.min.js\": \"cT9JaBz7GiRXdENrJLZNSC6eMNF3nh3fa5fTF51Svp+ukxPdwcU5kGXGPBgDCa2j\"};\n",
       "\n",
       "    for (var i = 0; i < js_urls.length; i++) {\n",
       "      var url = js_urls[i];\n",
       "      var element = document.createElement('script');\n",
       "      element.onload = on_load;\n",
       "      element.onerror = on_error;\n",
       "      element.async = false;\n",
       "      element.src = url;\n",
       "      if (url in hashes) {\n",
       "        element.crossOrigin = \"anonymous\";\n",
       "        element.integrity = \"sha384-\" + hashes[url];\n",
       "      }\n",
       "      console.debug(\"Bokeh: injecting script tag for BokehJS library: \", url);\n",
       "      document.head.appendChild(element);\n",
       "    }\n",
       "  };\n",
       "\n",
       "  function inject_raw_css(css) {\n",
       "    const element = document.createElement(\"style\");\n",
       "    element.appendChild(document.createTextNode(css));\n",
       "    document.body.appendChild(element);\n",
       "  }\n",
       "\n",
       "  \n",
       "  var js_urls = [\"https://cdn.bokeh.org/bokeh/release/bokeh-2.1.1.min.js\", \"https://cdn.bokeh.org/bokeh/release/bokeh-widgets-2.1.1.min.js\", \"https://cdn.bokeh.org/bokeh/release/bokeh-tables-2.1.1.min.js\", \"https://cdn.bokeh.org/bokeh/release/bokeh-gl-2.1.1.min.js\"];\n",
       "  var css_urls = [];\n",
       "  \n",
       "\n",
       "  var inline_js = [\n",
       "    function(Bokeh) {\n",
       "      Bokeh.set_log_level(\"info\");\n",
       "    },\n",
       "    function(Bokeh) {\n",
       "    \n",
       "    \n",
       "    }\n",
       "  ];\n",
       "\n",
       "  function run_inline_js() {\n",
       "    \n",
       "    if (root.Bokeh !== undefined || force === true) {\n",
       "      \n",
       "    for (var i = 0; i < inline_js.length; i++) {\n",
       "      inline_js[i].call(root, root.Bokeh);\n",
       "    }\n",
       "    if (force === true) {\n",
       "        display_loaded();\n",
       "      }} else if (Date.now() < root._bokeh_timeout) {\n",
       "      setTimeout(run_inline_js, 100);\n",
       "    } else if (!root._bokeh_failed_load) {\n",
       "      console.log(\"Bokeh: BokehJS failed to load within specified timeout.\");\n",
       "      root._bokeh_failed_load = true;\n",
       "    } else if (force !== true) {\n",
       "      var cell = $(document.getElementById(\"1001\")).parents('.cell').data().cell;\n",
       "      cell.output_area.append_execute_result(NB_LOAD_WARNING)\n",
       "    }\n",
       "\n",
       "  }\n",
       "\n",
       "  if (root._bokeh_is_loading === 0) {\n",
       "    console.debug(\"Bokeh: BokehJS loaded, going straight to plotting\");\n",
       "    run_inline_js();\n",
       "  } else {\n",
       "    load_libs(css_urls, js_urls, function() {\n",
       "      console.debug(\"Bokeh: BokehJS plotting callback run at\", now());\n",
       "      run_inline_js();\n",
       "    });\n",
       "  }\n",
       "}(window));"
      ],
      "application/vnd.bokehjs_load.v0+json": "\n(function(root) {\n  function now() {\n    return new Date();\n  }\n\n  var force = true;\n\n  if (typeof root._bokeh_onload_callbacks === \"undefined\" || force === true) {\n    root._bokeh_onload_callbacks = [];\n    root._bokeh_is_loading = undefined;\n  }\n\n  \n\n  \n  if (typeof (root._bokeh_timeout) === \"undefined\" || force === true) {\n    root._bokeh_timeout = Date.now() + 5000;\n    root._bokeh_failed_load = false;\n  }\n\n  var NB_LOAD_WARNING = {'data': {'text/html':\n     \"<div style='background-color: #fdd'>\\n\"+\n     \"<p>\\n\"+\n     \"BokehJS does not appear to have successfully loaded. If loading BokehJS from CDN, this \\n\"+\n     \"may be due to a slow or bad network connection. Possible fixes:\\n\"+\n     \"</p>\\n\"+\n     \"<ul>\\n\"+\n     \"<li>re-rerun `output_notebook()` to attempt to load from CDN again, or</li>\\n\"+\n     \"<li>use INLINE resources instead, as so:</li>\\n\"+\n     \"</ul>\\n\"+\n     \"<code>\\n\"+\n     \"from bokeh.resources import INLINE\\n\"+\n     \"output_notebook(resources=INLINE)\\n\"+\n     \"</code>\\n\"+\n     \"</div>\"}};\n\n  function display_loaded() {\n    var el = document.getElementById(\"1001\");\n    if (el != null) {\n      el.textContent = \"BokehJS is loading...\";\n    }\n    if (root.Bokeh !== undefined) {\n      if (el != null) {\n        el.textContent = \"BokehJS \" + root.Bokeh.version + \" successfully loaded.\";\n      }\n    } else if (Date.now() < root._bokeh_timeout) {\n      setTimeout(display_loaded, 100)\n    }\n  }\n\n\n  function run_callbacks() {\n    try {\n      root._bokeh_onload_callbacks.forEach(function(callback) {\n        if (callback != null)\n          callback();\n      });\n    } finally {\n      delete root._bokeh_onload_callbacks\n    }\n    console.debug(\"Bokeh: all callbacks have finished\");\n  }\n\n  function load_libs(css_urls, js_urls, callback) {\n    if (css_urls == null) css_urls = [];\n    if (js_urls == null) js_urls = [];\n\n    root._bokeh_onload_callbacks.push(callback);\n    if (root._bokeh_is_loading > 0) {\n      console.debug(\"Bokeh: BokehJS is being loaded, scheduling callback at\", now());\n      return null;\n    }\n    if (js_urls == null || js_urls.length === 0) {\n      run_callbacks();\n      return null;\n    }\n    console.debug(\"Bokeh: BokehJS not loaded, scheduling load and callback at\", now());\n    root._bokeh_is_loading = css_urls.length + js_urls.length;\n\n    function on_load() {\n      root._bokeh_is_loading--;\n      if (root._bokeh_is_loading === 0) {\n        console.debug(\"Bokeh: all BokehJS libraries/stylesheets loaded\");\n        run_callbacks()\n      }\n    }\n\n    function on_error() {\n      console.error(\"failed to load \" + url);\n    }\n\n    for (var i = 0; i < css_urls.length; i++) {\n      var url = css_urls[i];\n      const element = document.createElement(\"link\");\n      element.onload = on_load;\n      element.onerror = on_error;\n      element.rel = \"stylesheet\";\n      element.type = \"text/css\";\n      element.href = url;\n      console.debug(\"Bokeh: injecting link tag for BokehJS stylesheet: \", url);\n      document.body.appendChild(element);\n    }\n\n    const hashes = {\"https://cdn.bokeh.org/bokeh/release/bokeh-2.1.1.min.js\": \"kLr4fYcqcSpbuI95brIH3vnnYCquzzSxHPU6XGQCIkQRGJwhg0StNbj1eegrHs12\", \"https://cdn.bokeh.org/bokeh/release/bokeh-widgets-2.1.1.min.js\": \"xIGPmVtaOm+z0BqfSOMn4lOR6ciex448GIKG4eE61LsAvmGj48XcMQZtKcE/UXZe\", \"https://cdn.bokeh.org/bokeh/release/bokeh-tables-2.1.1.min.js\": \"Dc9u1wF/0zApGIWoBbH77iWEHtdmkuYWG839Uzmv8y8yBLXebjO9ZnERsde5Ln/P\", \"https://cdn.bokeh.org/bokeh/release/bokeh-gl-2.1.1.min.js\": \"cT9JaBz7GiRXdENrJLZNSC6eMNF3nh3fa5fTF51Svp+ukxPdwcU5kGXGPBgDCa2j\"};\n\n    for (var i = 0; i < js_urls.length; i++) {\n      var url = js_urls[i];\n      var element = document.createElement('script');\n      element.onload = on_load;\n      element.onerror = on_error;\n      element.async = false;\n      element.src = url;\n      if (url in hashes) {\n        element.crossOrigin = \"anonymous\";\n        element.integrity = \"sha384-\" + hashes[url];\n      }\n      console.debug(\"Bokeh: injecting script tag for BokehJS library: \", url);\n      document.head.appendChild(element);\n    }\n  };\n\n  function inject_raw_css(css) {\n    const element = document.createElement(\"style\");\n    element.appendChild(document.createTextNode(css));\n    document.body.appendChild(element);\n  }\n\n  \n  var js_urls = [\"https://cdn.bokeh.org/bokeh/release/bokeh-2.1.1.min.js\", \"https://cdn.bokeh.org/bokeh/release/bokeh-widgets-2.1.1.min.js\", \"https://cdn.bokeh.org/bokeh/release/bokeh-tables-2.1.1.min.js\", \"https://cdn.bokeh.org/bokeh/release/bokeh-gl-2.1.1.min.js\"];\n  var css_urls = [];\n  \n\n  var inline_js = [\n    function(Bokeh) {\n      Bokeh.set_log_level(\"info\");\n    },\n    function(Bokeh) {\n    \n    \n    }\n  ];\n\n  function run_inline_js() {\n    \n    if (root.Bokeh !== undefined || force === true) {\n      \n    for (var i = 0; i < inline_js.length; i++) {\n      inline_js[i].call(root, root.Bokeh);\n    }\n    if (force === true) {\n        display_loaded();\n      }} else if (Date.now() < root._bokeh_timeout) {\n      setTimeout(run_inline_js, 100);\n    } else if (!root._bokeh_failed_load) {\n      console.log(\"Bokeh: BokehJS failed to load within specified timeout.\");\n      root._bokeh_failed_load = true;\n    } else if (force !== true) {\n      var cell = $(document.getElementById(\"1001\")).parents('.cell').data().cell;\n      cell.output_area.append_execute_result(NB_LOAD_WARNING)\n    }\n\n  }\n\n  if (root._bokeh_is_loading === 0) {\n    console.debug(\"Bokeh: BokehJS loaded, going straight to plotting\");\n    run_inline_js();\n  } else {\n    load_libs(css_urls, js_urls, function() {\n      console.debug(\"Bokeh: BokehJS plotting callback run at\", now());\n      run_inline_js();\n    });\n  }\n}(window));"
     },
     "metadata": {},
     "output_type": "display_data"
    }
   ],
   "source": [
    "pandas_bokeh.output_notebook() "
   ]
  },
  {
   "cell_type": "code",
   "execution_count": 3,
   "metadata": {},
   "outputs": [
    {
     "data": {
      "text/html": [
       "<div>\n",
       "<style scoped>\n",
       "    .dataframe tbody tr th:only-of-type {\n",
       "        vertical-align: middle;\n",
       "    }\n",
       "\n",
       "    .dataframe tbody tr th {\n",
       "        vertical-align: top;\n",
       "    }\n",
       "\n",
       "    .dataframe thead th {\n",
       "        text-align: right;\n",
       "    }\n",
       "</style>\n",
       "<table border=\"1\" class=\"dataframe\">\n",
       "  <thead>\n",
       "    <tr style=\"text-align: right;\">\n",
       "      <th></th>\n",
       "      <th>Invoice ID</th>\n",
       "      <th>Branch</th>\n",
       "      <th>City</th>\n",
       "      <th>Customer type</th>\n",
       "      <th>Gender</th>\n",
       "      <th>Product line</th>\n",
       "      <th>Unit price</th>\n",
       "      <th>Quantity</th>\n",
       "      <th>Tax 5%</th>\n",
       "      <th>Total</th>\n",
       "      <th>Date</th>\n",
       "      <th>Time</th>\n",
       "      <th>Payment</th>\n",
       "      <th>cogs</th>\n",
       "      <th>gross margin percentage</th>\n",
       "      <th>gross income</th>\n",
       "      <th>Rating</th>\n",
       "    </tr>\n",
       "  </thead>\n",
       "  <tbody>\n",
       "    <tr>\n",
       "      <th>0</th>\n",
       "      <td>750-67-8428</td>\n",
       "      <td>A</td>\n",
       "      <td>Yangon</td>\n",
       "      <td>Member</td>\n",
       "      <td>Female</td>\n",
       "      <td>Health and beauty</td>\n",
       "      <td>74.69</td>\n",
       "      <td>7</td>\n",
       "      <td>26.1415</td>\n",
       "      <td>548.9715</td>\n",
       "      <td>1/5/2019</td>\n",
       "      <td>13:08</td>\n",
       "      <td>Ewallet</td>\n",
       "      <td>522.83</td>\n",
       "      <td>4.761905</td>\n",
       "      <td>26.1415</td>\n",
       "      <td>9.1</td>\n",
       "    </tr>\n",
       "    <tr>\n",
       "      <th>1</th>\n",
       "      <td>226-31-3081</td>\n",
       "      <td>C</td>\n",
       "      <td>Naypyitaw</td>\n",
       "      <td>Normal</td>\n",
       "      <td>Female</td>\n",
       "      <td>Electronic accessories</td>\n",
       "      <td>15.28</td>\n",
       "      <td>5</td>\n",
       "      <td>3.8200</td>\n",
       "      <td>80.2200</td>\n",
       "      <td>3/8/2019</td>\n",
       "      <td>10:29</td>\n",
       "      <td>Cash</td>\n",
       "      <td>76.40</td>\n",
       "      <td>4.761905</td>\n",
       "      <td>3.8200</td>\n",
       "      <td>9.6</td>\n",
       "    </tr>\n",
       "    <tr>\n",
       "      <th>2</th>\n",
       "      <td>631-41-3108</td>\n",
       "      <td>A</td>\n",
       "      <td>Yangon</td>\n",
       "      <td>Normal</td>\n",
       "      <td>Male</td>\n",
       "      <td>Home and lifestyle</td>\n",
       "      <td>46.33</td>\n",
       "      <td>7</td>\n",
       "      <td>16.2155</td>\n",
       "      <td>340.5255</td>\n",
       "      <td>3/3/2019</td>\n",
       "      <td>13:23</td>\n",
       "      <td>Credit card</td>\n",
       "      <td>324.31</td>\n",
       "      <td>4.761905</td>\n",
       "      <td>16.2155</td>\n",
       "      <td>7.4</td>\n",
       "    </tr>\n",
       "    <tr>\n",
       "      <th>3</th>\n",
       "      <td>123-19-1176</td>\n",
       "      <td>A</td>\n",
       "      <td>Yangon</td>\n",
       "      <td>Member</td>\n",
       "      <td>Male</td>\n",
       "      <td>Health and beauty</td>\n",
       "      <td>58.22</td>\n",
       "      <td>8</td>\n",
       "      <td>23.2880</td>\n",
       "      <td>489.0480</td>\n",
       "      <td>1/27/2019</td>\n",
       "      <td>20:33</td>\n",
       "      <td>Ewallet</td>\n",
       "      <td>465.76</td>\n",
       "      <td>4.761905</td>\n",
       "      <td>23.2880</td>\n",
       "      <td>8.4</td>\n",
       "    </tr>\n",
       "    <tr>\n",
       "      <th>4</th>\n",
       "      <td>373-73-7910</td>\n",
       "      <td>A</td>\n",
       "      <td>Yangon</td>\n",
       "      <td>Normal</td>\n",
       "      <td>Male</td>\n",
       "      <td>Sports and travel</td>\n",
       "      <td>86.31</td>\n",
       "      <td>7</td>\n",
       "      <td>30.2085</td>\n",
       "      <td>634.3785</td>\n",
       "      <td>2/8/2019</td>\n",
       "      <td>10:37</td>\n",
       "      <td>Ewallet</td>\n",
       "      <td>604.17</td>\n",
       "      <td>4.761905</td>\n",
       "      <td>30.2085</td>\n",
       "      <td>5.3</td>\n",
       "    </tr>\n",
       "  </tbody>\n",
       "</table>\n",
       "</div>"
      ],
      "text/plain": [
       "    Invoice ID Branch       City Customer type  Gender  \\\n",
       "0  750-67-8428      A     Yangon        Member  Female   \n",
       "1  226-31-3081      C  Naypyitaw        Normal  Female   \n",
       "2  631-41-3108      A     Yangon        Normal    Male   \n",
       "3  123-19-1176      A     Yangon        Member    Male   \n",
       "4  373-73-7910      A     Yangon        Normal    Male   \n",
       "\n",
       "             Product line  Unit price  Quantity   Tax 5%     Total       Date  \\\n",
       "0       Health and beauty       74.69         7  26.1415  548.9715   1/5/2019   \n",
       "1  Electronic accessories       15.28         5   3.8200   80.2200   3/8/2019   \n",
       "2      Home and lifestyle       46.33         7  16.2155  340.5255   3/3/2019   \n",
       "3       Health and beauty       58.22         8  23.2880  489.0480  1/27/2019   \n",
       "4       Sports and travel       86.31         7  30.2085  634.3785   2/8/2019   \n",
       "\n",
       "    Time      Payment    cogs  gross margin percentage  gross income  Rating  \n",
       "0  13:08      Ewallet  522.83                 4.761905       26.1415     9.1  \n",
       "1  10:29         Cash   76.40                 4.761905        3.8200     9.6  \n",
       "2  13:23  Credit card  324.31                 4.761905       16.2155     7.4  \n",
       "3  20:33      Ewallet  465.76                 4.761905       23.2880     8.4  \n",
       "4  10:37      Ewallet  604.17                 4.761905       30.2085     5.3  "
      ]
     },
     "execution_count": 3,
     "metadata": {},
     "output_type": "execute_result"
    }
   ],
   "source": [
    "df = pd.read_csv(r'C:\\Python Scripts\\Datasets\\supermarket_sales.csv')\n",
    "df.head()"
   ]
  },
  {
   "cell_type": "markdown",
   "metadata": {},
   "source": [
    "### Data cleaning and preparation\n",
    "\n",
    "Changing names of selected column:"
   ]
  },
  {
   "cell_type": "code",
   "execution_count": 4,
   "metadata": {},
   "outputs": [],
   "source": [
    "df.rename(columns={'gross margin percentage': 'gross margin %'}, inplace=True)"
   ]
  },
  {
   "cell_type": "markdown",
   "metadata": {},
   "source": [
    "Replacing names of product line variable:"
   ]
  },
  {
   "cell_type": "code",
   "execution_count": 5,
   "metadata": {},
   "outputs": [],
   "source": [
    "df.replace({'Product line': {'Electronic accessories': 'Electronics',\n",
    "                                            'Fashion accessories': 'Fashion',\n",
    "                                            'Food and beverages': 'Food',\n",
    "                                            'Health and beauty': 'Health',\n",
    "                                            'Home and lifestyle': 'Home',\n",
    "                                            'Sports and travel': 'Sports'}}, inplace=True)"
   ]
  },
  {
   "cell_type": "markdown",
   "metadata": {},
   "source": [
    "Changing Date variable:"
   ]
  },
  {
   "cell_type": "code",
   "execution_count": 6,
   "metadata": {},
   "outputs": [],
   "source": [
    "df[\"Date\"] = pd.to_datetime(df[\"Date\"], errors='coerce')"
   ]
  },
  {
   "cell_type": "code",
   "execution_count": 7,
   "metadata": {},
   "outputs": [
    {
     "data": {
      "text/plain": [
       "2019-02-07    20\n",
       "2019-02-15    19\n",
       "2019-01-08    18\n",
       "2019-03-02    18\n",
       "2019-03-14    18\n",
       "              ..\n",
       "2019-03-17     6\n",
       "2019-02-01     6\n",
       "2019-01-04     6\n",
       "2019-03-21     6\n",
       "2019-02-21     6\n",
       "Name: Date, Length: 89, dtype: int64"
      ]
     },
     "execution_count": 7,
     "metadata": {},
     "output_type": "execute_result"
    }
   ],
   "source": [
    "df.Date.value_counts()"
   ]
  },
  {
   "cell_type": "code",
   "execution_count": 8,
   "metadata": {},
   "outputs": [
    {
     "data": {
      "text/html": [
       "<div>\n",
       "<style scoped>\n",
       "    .dataframe tbody tr th:only-of-type {\n",
       "        vertical-align: middle;\n",
       "    }\n",
       "\n",
       "    .dataframe tbody tr th {\n",
       "        vertical-align: top;\n",
       "    }\n",
       "\n",
       "    .dataframe thead th {\n",
       "        text-align: right;\n",
       "    }\n",
       "</style>\n",
       "<table border=\"1\" class=\"dataframe\">\n",
       "  <thead>\n",
       "    <tr style=\"text-align: right;\">\n",
       "      <th></th>\n",
       "      <th>Invoice ID</th>\n",
       "      <th>Branch</th>\n",
       "      <th>City</th>\n",
       "      <th>Customer type</th>\n",
       "      <th>Gender</th>\n",
       "      <th>Product line</th>\n",
       "      <th>Unit price</th>\n",
       "      <th>Quantity</th>\n",
       "      <th>Tax 5%</th>\n",
       "      <th>Total</th>\n",
       "      <th>Date</th>\n",
       "      <th>Time</th>\n",
       "      <th>Payment</th>\n",
       "      <th>cogs</th>\n",
       "      <th>gross margin %</th>\n",
       "      <th>gross income</th>\n",
       "      <th>Rating</th>\n",
       "    </tr>\n",
       "  </thead>\n",
       "  <tbody>\n",
       "    <tr>\n",
       "      <th>0</th>\n",
       "      <td>750-67-8428</td>\n",
       "      <td>A</td>\n",
       "      <td>Yangon</td>\n",
       "      <td>Member</td>\n",
       "      <td>Female</td>\n",
       "      <td>Health</td>\n",
       "      <td>74.69</td>\n",
       "      <td>7</td>\n",
       "      <td>26.1415</td>\n",
       "      <td>548.9715</td>\n",
       "      <td>2019-01-05</td>\n",
       "      <td>13:08</td>\n",
       "      <td>Ewallet</td>\n",
       "      <td>522.83</td>\n",
       "      <td>4.761905</td>\n",
       "      <td>26.1415</td>\n",
       "      <td>9.1</td>\n",
       "    </tr>\n",
       "    <tr>\n",
       "      <th>1</th>\n",
       "      <td>226-31-3081</td>\n",
       "      <td>C</td>\n",
       "      <td>Naypyitaw</td>\n",
       "      <td>Normal</td>\n",
       "      <td>Female</td>\n",
       "      <td>Electronics</td>\n",
       "      <td>15.28</td>\n",
       "      <td>5</td>\n",
       "      <td>3.8200</td>\n",
       "      <td>80.2200</td>\n",
       "      <td>2019-03-08</td>\n",
       "      <td>10:29</td>\n",
       "      <td>Cash</td>\n",
       "      <td>76.40</td>\n",
       "      <td>4.761905</td>\n",
       "      <td>3.8200</td>\n",
       "      <td>9.6</td>\n",
       "    </tr>\n",
       "    <tr>\n",
       "      <th>2</th>\n",
       "      <td>631-41-3108</td>\n",
       "      <td>A</td>\n",
       "      <td>Yangon</td>\n",
       "      <td>Normal</td>\n",
       "      <td>Male</td>\n",
       "      <td>Home</td>\n",
       "      <td>46.33</td>\n",
       "      <td>7</td>\n",
       "      <td>16.2155</td>\n",
       "      <td>340.5255</td>\n",
       "      <td>2019-03-03</td>\n",
       "      <td>13:23</td>\n",
       "      <td>Credit card</td>\n",
       "      <td>324.31</td>\n",
       "      <td>4.761905</td>\n",
       "      <td>16.2155</td>\n",
       "      <td>7.4</td>\n",
       "    </tr>\n",
       "    <tr>\n",
       "      <th>3</th>\n",
       "      <td>123-19-1176</td>\n",
       "      <td>A</td>\n",
       "      <td>Yangon</td>\n",
       "      <td>Member</td>\n",
       "      <td>Male</td>\n",
       "      <td>Health</td>\n",
       "      <td>58.22</td>\n",
       "      <td>8</td>\n",
       "      <td>23.2880</td>\n",
       "      <td>489.0480</td>\n",
       "      <td>2019-01-27</td>\n",
       "      <td>20:33</td>\n",
       "      <td>Ewallet</td>\n",
       "      <td>465.76</td>\n",
       "      <td>4.761905</td>\n",
       "      <td>23.2880</td>\n",
       "      <td>8.4</td>\n",
       "    </tr>\n",
       "    <tr>\n",
       "      <th>4</th>\n",
       "      <td>373-73-7910</td>\n",
       "      <td>A</td>\n",
       "      <td>Yangon</td>\n",
       "      <td>Normal</td>\n",
       "      <td>Male</td>\n",
       "      <td>Sports</td>\n",
       "      <td>86.31</td>\n",
       "      <td>7</td>\n",
       "      <td>30.2085</td>\n",
       "      <td>634.3785</td>\n",
       "      <td>2019-02-08</td>\n",
       "      <td>10:37</td>\n",
       "      <td>Ewallet</td>\n",
       "      <td>604.17</td>\n",
       "      <td>4.761905</td>\n",
       "      <td>30.2085</td>\n",
       "      <td>5.3</td>\n",
       "    </tr>\n",
       "  </tbody>\n",
       "</table>\n",
       "</div>"
      ],
      "text/plain": [
       "    Invoice ID Branch       City Customer type  Gender Product line  \\\n",
       "0  750-67-8428      A     Yangon        Member  Female       Health   \n",
       "1  226-31-3081      C  Naypyitaw        Normal  Female  Electronics   \n",
       "2  631-41-3108      A     Yangon        Normal    Male         Home   \n",
       "3  123-19-1176      A     Yangon        Member    Male       Health   \n",
       "4  373-73-7910      A     Yangon        Normal    Male       Sports   \n",
       "\n",
       "   Unit price  Quantity   Tax 5%     Total       Date   Time      Payment  \\\n",
       "0       74.69         7  26.1415  548.9715 2019-01-05  13:08      Ewallet   \n",
       "1       15.28         5   3.8200   80.2200 2019-03-08  10:29         Cash   \n",
       "2       46.33         7  16.2155  340.5255 2019-03-03  13:23  Credit card   \n",
       "3       58.22         8  23.2880  489.0480 2019-01-27  20:33      Ewallet   \n",
       "4       86.31         7  30.2085  634.3785 2019-02-08  10:37      Ewallet   \n",
       "\n",
       "     cogs  gross margin %  gross income  Rating  \n",
       "0  522.83        4.761905       26.1415     9.1  \n",
       "1   76.40        4.761905        3.8200     9.6  \n",
       "2  324.31        4.761905       16.2155     7.4  \n",
       "3  465.76        4.761905       23.2880     8.4  \n",
       "4  604.17        4.761905       30.2085     5.3  "
      ]
     },
     "execution_count": 8,
     "metadata": {},
     "output_type": "execute_result"
    }
   ],
   "source": [
    "df.head()"
   ]
  },
  {
   "cell_type": "markdown",
   "metadata": {},
   "source": [
    "### Data analysis\n",
    "\n",
    "**Build sales functions**"
   ]
  },
  {
   "cell_type": "markdown",
   "metadata": {},
   "source": [
    "7-day moving average of daily sales:"
   ]
  },
  {
   "cell_type": "code",
   "execution_count": 9,
   "metadata": {},
   "outputs": [],
   "source": [
    "days = (df[\"Total\"].groupby(df['Date']).sum().rolling(7, min_periods=7).mean())"
   ]
  },
  {
   "cell_type": "markdown",
   "metadata": {},
   "source": [
    "Income by city:"
   ]
  },
  {
   "cell_type": "code",
   "execution_count": 10,
   "metadata": {},
   "outputs": [],
   "source": [
    "income_city = df.pivot_table(index='City',\n",
    "                                values='gross income',\n",
    "                                aggfunc='sum').round(0)"
   ]
  },
  {
   "cell_type": "code",
   "execution_count": 11,
   "metadata": {},
   "outputs": [
    {
     "data": {
      "text/html": [
       "<div>\n",
       "<style scoped>\n",
       "    .dataframe tbody tr th:only-of-type {\n",
       "        vertical-align: middle;\n",
       "    }\n",
       "\n",
       "    .dataframe tbody tr th {\n",
       "        vertical-align: top;\n",
       "    }\n",
       "\n",
       "    .dataframe thead th {\n",
       "        text-align: right;\n",
       "    }\n",
       "</style>\n",
       "<table border=\"1\" class=\"dataframe\">\n",
       "  <thead>\n",
       "    <tr style=\"text-align: right;\">\n",
       "      <th></th>\n",
       "      <th>gross income</th>\n",
       "    </tr>\n",
       "    <tr>\n",
       "      <th>City</th>\n",
       "      <th></th>\n",
       "    </tr>\n",
       "  </thead>\n",
       "  <tbody>\n",
       "    <tr>\n",
       "      <th>Mandalay</th>\n",
       "      <td>5057.0</td>\n",
       "    </tr>\n",
       "    <tr>\n",
       "      <th>Naypyitaw</th>\n",
       "      <td>5265.0</td>\n",
       "    </tr>\n",
       "    <tr>\n",
       "      <th>Yangon</th>\n",
       "      <td>5057.0</td>\n",
       "    </tr>\n",
       "  </tbody>\n",
       "</table>\n",
       "</div>"
      ],
      "text/plain": [
       "           gross income\n",
       "City                   \n",
       "Mandalay         5057.0\n",
       "Naypyitaw        5265.0\n",
       "Yangon           5057.0"
      ]
     },
     "execution_count": 11,
     "metadata": {},
     "output_type": "execute_result"
    }
   ],
   "source": [
    "income_city"
   ]
  },
  {
   "cell_type": "markdown",
   "metadata": {},
   "source": [
    "Sales by gender and product line:"
   ]
  },
  {
   "cell_type": "code",
   "execution_count": 12,
   "metadata": {},
   "outputs": [],
   "source": [
    "total_gender = df.pivot_table(index='Gender',\n",
    "                                columns='Product line',\n",
    "                                values='Total',\n",
    "                                aggfunc='sum').round(0)"
   ]
  },
  {
   "cell_type": "markdown",
   "metadata": {},
   "source": [
    "Sales by City and Customer type:"
   ]
  },
  {
   "cell_type": "code",
   "execution_count": 13,
   "metadata": {},
   "outputs": [],
   "source": [
    "total_customer = df.pivot_table(index='City',\n",
    "                                columns='Customer type',\n",
    "                                values='gross income',\n",
    "                                aggfunc='sum').round(0)"
   ]
  },
  {
   "cell_type": "code",
   "execution_count": 14,
   "metadata": {
    "scrolled": true
   },
   "outputs": [
    {
     "data": {
      "text/html": [
       "<div>\n",
       "<style scoped>\n",
       "    .dataframe tbody tr th:only-of-type {\n",
       "        vertical-align: middle;\n",
       "    }\n",
       "\n",
       "    .dataframe tbody tr th {\n",
       "        vertical-align: top;\n",
       "    }\n",
       "\n",
       "    .dataframe thead th {\n",
       "        text-align: right;\n",
       "    }\n",
       "</style>\n",
       "<table border=\"1\" class=\"dataframe\">\n",
       "  <thead>\n",
       "    <tr style=\"text-align: right;\">\n",
       "      <th>Customer type</th>\n",
       "      <th>Member</th>\n",
       "      <th>Normal</th>\n",
       "    </tr>\n",
       "    <tr>\n",
       "      <th>City</th>\n",
       "      <th></th>\n",
       "      <th></th>\n",
       "    </tr>\n",
       "  </thead>\n",
       "  <tbody>\n",
       "    <tr>\n",
       "      <th>Mandalay</th>\n",
       "      <td>2557.0</td>\n",
       "      <td>2500.0</td>\n",
       "    </tr>\n",
       "    <tr>\n",
       "      <th>Naypyitaw</th>\n",
       "      <td>2709.0</td>\n",
       "      <td>2557.0</td>\n",
       "    </tr>\n",
       "    <tr>\n",
       "      <th>Yangon</th>\n",
       "      <td>2554.0</td>\n",
       "      <td>2503.0</td>\n",
       "    </tr>\n",
       "  </tbody>\n",
       "</table>\n",
       "</div>"
      ],
      "text/plain": [
       "Customer type  Member  Normal\n",
       "City                         \n",
       "Mandalay       2557.0  2500.0\n",
       "Naypyitaw      2709.0  2557.0\n",
       "Yangon         2554.0  2503.0"
      ]
     },
     "execution_count": 14,
     "metadata": {},
     "output_type": "execute_result"
    }
   ],
   "source": [
    "total_customer"
   ]
  },
  {
   "cell_type": "markdown",
   "metadata": {},
   "source": [
    "The products generate the most income:"
   ]
  },
  {
   "cell_type": "code",
   "execution_count": 15,
   "metadata": {},
   "outputs": [
    {
     "data": {
      "text/html": [
       "<div>\n",
       "<style scoped>\n",
       "    .dataframe tbody tr th:only-of-type {\n",
       "        vertical-align: middle;\n",
       "    }\n",
       "\n",
       "    .dataframe tbody tr th {\n",
       "        vertical-align: top;\n",
       "    }\n",
       "\n",
       "    .dataframe thead th {\n",
       "        text-align: right;\n",
       "    }\n",
       "</style>\n",
       "<table border=\"1\" class=\"dataframe\">\n",
       "  <thead>\n",
       "    <tr style=\"text-align: right;\">\n",
       "      <th></th>\n",
       "      <th>gross income</th>\n",
       "    </tr>\n",
       "    <tr>\n",
       "      <th>Product line</th>\n",
       "      <th></th>\n",
       "    </tr>\n",
       "  </thead>\n",
       "  <tbody>\n",
       "    <tr>\n",
       "      <th>Health</th>\n",
       "      <td>2342.5590</td>\n",
       "    </tr>\n",
       "    <tr>\n",
       "      <th>Home</th>\n",
       "      <td>2564.8530</td>\n",
       "    </tr>\n",
       "    <tr>\n",
       "      <th>Fashion</th>\n",
       "      <td>2585.9950</td>\n",
       "    </tr>\n",
       "    <tr>\n",
       "      <th>Electronics</th>\n",
       "      <td>2587.5015</td>\n",
       "    </tr>\n",
       "    <tr>\n",
       "      <th>Sports</th>\n",
       "      <td>2624.8965</td>\n",
       "    </tr>\n",
       "    <tr>\n",
       "      <th>Food</th>\n",
       "      <td>2673.5640</td>\n",
       "    </tr>\n",
       "  </tbody>\n",
       "</table>\n",
       "</div>"
      ],
      "text/plain": [
       "              gross income\n",
       "Product line              \n",
       "Health           2342.5590\n",
       "Home             2564.8530\n",
       "Fashion          2585.9950\n",
       "Electronics      2587.5015\n",
       "Sports           2624.8965\n",
       "Food             2673.5640"
      ]
     },
     "execution_count": 15,
     "metadata": {},
     "output_type": "execute_result"
    }
   ],
   "source": [
    "product = df.groupby('Product line')['gross income'].sum().sort_values(ascending=True).to_frame()\n",
    "product"
   ]
  },
  {
   "cell_type": "markdown",
   "metadata": {},
   "source": [
    "### Plotting charts \n",
    "\n",
    "At this moment we can plot the charts in a dashboard. From above functions we create a folowing charts: line plot, two bar charts, two stacked bar chart and pie chart."
   ]
  },
  {
   "cell_type": "code",
   "execution_count": 16,
   "metadata": {},
   "outputs": [],
   "source": [
    "#color palette\n",
    "colors=['#FDE724', '#D01C8B', '#4DAC26', '#d7191c']"
   ]
  },
  {
   "cell_type": "code",
   "execution_count": 17,
   "metadata": {},
   "outputs": [
    {
     "data": {
      "text/html": [
       "\n",
       "\n",
       "\n",
       "\n",
       "\n",
       "\n",
       "  <div class=\"bk-root\" id=\"2218b4c8-98a9-422b-a17e-441bb394a057\" data-root-id=\"1002\"></div>\n"
      ]
     },
     "metadata": {},
     "output_type": "display_data"
    },
    {
     "data": {
      "application/javascript": [
       "(function(root) {\n",
       "  function embed_document(root) {\n",
       "    \n",
       "  var docs_json = {\"509a8df0-492e-45ab-a133-df0b5834f132\":{\"roots\":{\"references\":[{\"attributes\":{\"below\":[{\"id\":\"1013\"}],\"center\":[{\"id\":\"1016\"},{\"id\":\"1020\"},{\"id\":\"1061\"}],\"left\":[{\"id\":\"1017\"}],\"output_backend\":\"webgl\",\"plot_height\":400,\"renderers\":[{\"id\":\"1039\"},{\"id\":\"1067\"}],\"sizing_mode\":\"fixed\",\"title\":{\"id\":\"1003\"},\"toolbar\":{\"id\":\"1028\"},\"x_range\":{\"id\":\"1005\"},\"x_scale\":{\"id\":\"1009\"},\"y_range\":{\"id\":\"1007\"},\"y_scale\":{\"id\":\"1011\"}},\"id\":\"1002\",\"subtype\":\"Figure\",\"type\":\"Plot\"},{\"attributes\":{\"months\":[0,6]},\"id\":\"1057\",\"type\":\"MonthsTicker\"},{\"attributes\":{\"num_minor_ticks\":5,\"tickers\":[{\"id\":\"1047\"},{\"id\":\"1048\"},{\"id\":\"1049\"},{\"id\":\"1050\"},{\"id\":\"1051\"},{\"id\":\"1052\"},{\"id\":\"1053\"},{\"id\":\"1054\"},{\"id\":\"1055\"},{\"id\":\"1056\"},{\"id\":\"1057\"},{\"id\":\"1058\"}]},\"id\":\"1014\",\"type\":\"DatetimeTicker\"},{\"attributes\":{},\"id\":\"1058\",\"type\":\"YearsTicker\"},{\"attributes\":{\"axis_label\":\"Date\",\"formatter\":{\"id\":\"1093\"},\"ticker\":{\"id\":\"1014\"}},\"id\":\"1013\",\"type\":\"DatetimeAxis\"},{\"attributes\":{\"axis\":{\"id\":\"1013\"},\"ticker\":null},\"id\":\"1016\",\"type\":\"Grid\"},{\"attributes\":{},\"id\":\"1059\",\"type\":\"UnionRenderers\"},{\"attributes\":{},\"id\":\"1043\",\"type\":\"BasicTickFormatter\"},{\"attributes\":{},\"id\":\"1089\",\"type\":\"UnionRenderers\"},{\"attributes\":{\"data_source\":{\"id\":\"1035\"},\"glyph\":{\"id\":\"1037\"},\"hover_glyph\":null,\"muted_glyph\":null,\"nonselection_glyph\":{\"id\":\"1038\"},\"selection_glyph\":null,\"view\":{\"id\":\"1040\"}},\"id\":\"1039\",\"type\":\"GlyphRenderer\"},{\"attributes\":{},\"id\":\"1007\",\"type\":\"DataRange1d\"},{\"attributes\":{\"axis_label\":\"Total\",\"formatter\":{\"id\":\"1043\"},\"ticker\":{\"id\":\"1018\"}},\"id\":\"1017\",\"type\":\"LinearAxis\"},{\"attributes\":{},\"id\":\"1060\",\"type\":\"Selection\"},{\"attributes\":{\"bottom_units\":\"screen\",\"fill_alpha\":0.5,\"fill_color\":\"lightgrey\",\"left_units\":\"screen\",\"level\":\"overlay\",\"line_alpha\":1.0,\"line_color\":\"black\",\"line_dash\":[4,4],\"line_width\":2,\"right_units\":\"screen\",\"top_units\":\"screen\"},\"id\":\"1027\",\"type\":\"BoxAnnotation\"},{\"attributes\":{\"click_policy\":\"hide\",\"items\":[{\"id\":\"1062\"}]},\"id\":\"1061\",\"type\":\"Legend\"},{\"attributes\":{},\"id\":\"1018\",\"type\":\"BasicTicker\"},{\"attributes\":{\"source\":{\"id\":\"1035\"}},\"id\":\"1040\",\"type\":\"CDSView\"},{\"attributes\":{\"axis\":{\"id\":\"1017\"},\"dimension\":1,\"ticker\":null},\"id\":\"1020\",\"type\":\"Grid\"},{\"attributes\":{\"label\":{\"value\":\" Total\"},\"renderers\":[{\"id\":\"1039\"},{\"id\":\"1067\"}]},\"id\":\"1062\",\"type\":\"LegendItem\"},{\"attributes\":{\"callback\":null,\"formatters\":{\"@__x__values_original\":\"datetime\"},\"mode\":\"vline\",\"renderers\":[{\"id\":\"1039\"}],\"tooltips\":[[\"Date\",\"@__x__values_original{%F}\"],[\"Total\",\"@{Total}\"]]},\"id\":\"1091\",\"type\":\"HoverTool\"},{\"attributes\":{\"days\":[\"%d %B %Y\"],\"hours\":[\"%H:%M:%S\"],\"milliseconds\":[\"%H:%M:%S.%f\"],\"minutes\":[\"%H:%M:%S\"],\"months\":[\"%d %B %Y\"],\"seconds\":[\"%H:%M:%S\"],\"years\":[\"%d %B %Y\"]},\"id\":\"1093\",\"type\":\"DatetimeTickFormatter\"},{\"attributes\":{\"data\":{\"Total\":{\"__ndarray__\":\"AAAAAAAA+H8AAAAAAAD4fwAAAAAAAPh/AAAAAAAA+H8AAAAAAAD4fwAAAAAAAPh/khgEVi6+pkBbj8L16FqnQLlJDAJLjqhA+X5qvPQ1qkC4HoXrUcKqQDMzMzMzmaxAi2zn++lMq0Do+6nxcpCsQPHSTWJQSq1AZmZmZoa0rkAi2/l+Cj2uQFlkO98v+65AwyCwcgiurkC+nxovDQOwQFUOLbI9RK5AkO18P/WIqUDFSzeJIXCrQJ4aL92k9a1A4HoUrhcNsECtcmiRjZevQEgMAivXV7BABIGVQ1vMsUAaWmQ7L8+yQAoCK4dW5LBAVA4tsh3MsEDZJAaBtROvQImXbhJDua5AjcL1KPymr0CC61G4fsusQH6VQ4vMQKxAcGiR7fyjrEDSeOkmMd6uQMZLN4lB6LBAukkMAhtssEDFSzeJYT+uQLcehesRTLBAItv5fnpHsEA/YOXQwluuQC4IrBy6B6lAzSLb+Z76qkApsp3vJx+qQKfx0k3ih6xAopvEIJAhqUDpfD81voCqQKpH4XoUe6xAGVpkOx9Mq0CAwMqhRWamQLufGi9dN6ZA5yYxCAxXo0Be5dAiGwmnQDe0yHYeAaVA2Pl+avyFqEAyXrpJ7E6pQJvvp8bLhalAonA9Crc7rkCF61G4Pk6wQIhBYOWwl69A9Shcj/LtsUCE61G4rmKwQOb7qfGSBLBAHYXrUbhKsEDTeOkmQc2wQLZJDAKrt69AtkkMAgutrkAyiUFghdOrQBYv3SSGrapANYlBYPWPsEARg8DK0XWwQJeZmZl5GaxAS2IQWFnGqkDCILByqOmoQCDb+X4KN6tAFgRWDu0Ar0BZj8L1CAypQDJeukmsT6lAd+kmMWhcqkDv0k1iUAmsQC4IrBxaIa1Aju18P/XpqED/KocW2Q+mQImXbhJjdKZA2k+Nl45lp0BVZDvfj9WnQA==\",\"dtype\":\"float64\",\"order\":\"little\",\"shape\":[89]},\"__x__values\":{\"__ndarray__\":\"AADAW2uAdkIAAIDBvYB2QgAAQCcQgXZCAAAAjWKBdkIAAMDytIF2QgAAgFgHgnZCAABAvlmCdkIAAAAkrIJ2QgAAwIn+gnZCAACA71CDdkIAAEBVo4N2QgAAALv1g3ZCAADAIEiEdkIAAICGmoR2QgAAQOzshHZCAAAAUj+FdkIAAMC3kYV2QgAAgB3khXZCAABAgzaGdkIAAADpiIZ2QgAAwE7bhnZCAACAtC2HdkIAAEAagId2QgAAAIDSh3ZCAADA5SSIdkIAAIBLd4h2QgAAQLHJiHZCAAAAFxyJdkIAAMB8bol2QgAAgOLAiXZCAABASBOKdkIAAACuZYp2QgAAwBO4inZCAACAeQqLdkIAAEDfXIt2QgAAAEWvi3ZCAADAqgGMdkIAAIAQVIx2QgAAQHamjHZCAAAA3PiMdkIAAMBBS412QgAAgKedjXZCAABADfCNdkIAAABzQo52QgAAwNiUjnZCAACAPueOdkIAAECkOY92QgAAAAqMj3ZCAADAb96PdkIAAIDVMJB2QgAAQDuDkHZCAAAAodWQdkIAAMAGKJF2QgAAgGx6kXZCAABA0syRdkIAAAA4H5J2QgAAwJ1xknZCAACAA8SSdkIAAEBpFpN2QgAAAM9ok3ZCAADANLuTdkIAAICaDZR2QgAAQABglHZCAAAAZrKUdkIAAMDLBJV2QgAAgDFXlXZCAABAl6mVdkIAAAD9+5V2QgAAwGJOlnZCAACAyKCWdkIAAEAu85Z2QgAAAJRFl3ZCAADA+ZeXdkIAAIBf6pd2QgAAQMU8mHZCAAAAK4+YdkIAAMCQ4Zh2QgAAgPYzmXZCAABAXIaZdkIAAADC2Jl2QgAAwCcrmnZCAACAjX2adkIAAEDzz5p2QgAAAFkim3ZCAADAvnSbdkIAAIAkx5t2QgAAQIoZnHZCAAAA8GucdkIAAMBVvpx2Qg==\",\"dtype\":\"float64\",\"order\":\"little\",\"shape\":[89]},\"__x__values_original\":{\"__ndarray__\":\"AADAW2uAdkIAAIDBvYB2QgAAQCcQgXZCAAAAjWKBdkIAAMDytIF2QgAAgFgHgnZCAABAvlmCdkIAAAAkrIJ2QgAAwIn+gnZCAACA71CDdkIAAEBVo4N2QgAAALv1g3ZCAADAIEiEdkIAAICGmoR2QgAAQOzshHZCAAAAUj+FdkIAAMC3kYV2QgAAgB3khXZCAABAgzaGdkIAAADpiIZ2QgAAwE7bhnZCAACAtC2HdkIAAEAagId2QgAAAIDSh3ZCAADA5SSIdkIAAIBLd4h2QgAAQLHJiHZCAAAAFxyJdkIAAMB8bol2QgAAgOLAiXZCAABASBOKdkIAAACuZYp2QgAAwBO4inZCAACAeQqLdkIAAEDfXIt2QgAAAEWvi3ZCAADAqgGMdkIAAIAQVIx2QgAAQHamjHZCAAAA3PiMdkIAAMBBS412QgAAgKedjXZCAABADfCNdkIAAABzQo52QgAAwNiUjnZCAACAPueOdkIAAECkOY92QgAAAAqMj3ZCAADAb96PdkIAAIDVMJB2QgAAQDuDkHZCAAAAodWQdkIAAMAGKJF2QgAAgGx6kXZCAABA0syRdkIAAAA4H5J2QgAAwJ1xknZCAACAA8SSdkIAAEBpFpN2QgAAAM9ok3ZCAADANLuTdkIAAICaDZR2QgAAQABglHZCAAAAZrKUdkIAAMDLBJV2QgAAgDFXlXZCAABAl6mVdkIAAAD9+5V2QgAAwGJOlnZCAACAyKCWdkIAAEAu85Z2QgAAAJRFl3ZCAADA+ZeXdkIAAIBf6pd2QgAAQMU8mHZCAAAAK4+YdkIAAMCQ4Zh2QgAAgPYzmXZCAABAXIaZdkIAAADC2Jl2QgAAwCcrmnZCAACAjX2adkIAAEDzz5p2QgAAAFkim3ZCAADAvnSbdkIAAIAkx5t2QgAAQIoZnHZCAAAA8GucdkIAAMBVvpx2Qg==\",\"dtype\":\"float64\",\"order\":\"little\",\"shape\":[89]}},\"selected\":{\"id\":\"1090\"},\"selection_policy\":{\"id\":\"1089\"}},\"id\":\"1063\",\"type\":\"ColumnDataSource\"},{\"attributes\":{\"mantissas\":[1,2,5],\"max_interval\":500.0,\"num_minor_ticks\":0},\"id\":\"1047\",\"type\":\"AdaptiveTicker\"},{\"attributes\":{\"data_source\":{\"id\":\"1063\"},\"glyph\":{\"id\":\"1065\"},\"hover_glyph\":null,\"muted_glyph\":null,\"nonselection_glyph\":{\"id\":\"1066\"},\"selection_glyph\":null,\"view\":{\"id\":\"1068\"}},\"id\":\"1067\",\"type\":\"GlyphRenderer\"},{\"attributes\":{},\"id\":\"1021\",\"type\":\"PanTool\"},{\"attributes\":{},\"id\":\"1022\",\"type\":\"WheelZoomTool\"},{\"attributes\":{\"line_alpha\":0.1,\"line_color\":\"#d01c8b\",\"line_width\":2,\"x\":{\"field\":\"__x__values\"},\"y\":{\"field\":\"Total\"}},\"id\":\"1038\",\"type\":\"Line\"},{\"attributes\":{\"text\":\"7-day moving average of daily sales.\"},\"id\":\"1003\",\"type\":\"Title\"},{\"attributes\":{\"base\":60,\"mantissas\":[1,2,5,10,15,20,30],\"max_interval\":1800000.0,\"min_interval\":1000.0,\"num_minor_ticks\":0},\"id\":\"1048\",\"type\":\"AdaptiveTicker\"},{\"attributes\":{\"base\":24,\"mantissas\":[1,2,4,6,8,12],\"max_interval\":43200000.0,\"min_interval\":3600000.0,\"num_minor_ticks\":0},\"id\":\"1049\",\"type\":\"AdaptiveTicker\"},{\"attributes\":{\"overlay\":{\"id\":\"1027\"}},\"id\":\"1023\",\"type\":\"BoxZoomTool\"},{\"attributes\":{\"fill_alpha\":{\"value\":0.1},\"fill_color\":{\"value\":\"#d01c8b\"},\"line_alpha\":{\"value\":0.1},\"line_color\":{\"value\":\"#d01c8b\"},\"size\":{\"units\":\"screen\",\"value\":5},\"x\":{\"field\":\"__x__values\"},\"y\":{\"field\":\"Total\"}},\"id\":\"1066\",\"type\":\"Scatter\"},{\"attributes\":{\"source\":{\"id\":\"1063\"}},\"id\":\"1068\",\"type\":\"CDSView\"},{\"attributes\":{\"days\":[1,2,3,4,5,6,7,8,9,10,11,12,13,14,15,16,17,18,19,20,21,22,23,24,25,26,27,28,29,30,31]},\"id\":\"1050\",\"type\":\"DaysTicker\"},{\"attributes\":{},\"id\":\"1024\",\"type\":\"SaveTool\"},{\"attributes\":{},\"id\":\"1009\",\"type\":\"LinearScale\"},{\"attributes\":{\"days\":[1,4,7,10,13,16,19,22,25,28]},\"id\":\"1051\",\"type\":\"DaysTicker\"},{\"attributes\":{},\"id\":\"1025\",\"type\":\"ResetTool\"},{\"attributes\":{\"fill_color\":{\"value\":\"#d01c8b\"},\"line_color\":{\"value\":\"#d01c8b\"},\"size\":{\"units\":\"screen\",\"value\":5},\"x\":{\"field\":\"__x__values\"},\"y\":{\"field\":\"Total\"}},\"id\":\"1065\",\"type\":\"Scatter\"},{\"attributes\":{\"days\":[1,8,15,22]},\"id\":\"1052\",\"type\":\"DaysTicker\"},{\"attributes\":{},\"id\":\"1026\",\"type\":\"HelpTool\"},{\"attributes\":{\"months\":[0,2,4,6,8,10]},\"id\":\"1055\",\"type\":\"MonthsTicker\"},{\"attributes\":{\"days\":[1,15]},\"id\":\"1053\",\"type\":\"DaysTicker\"},{\"attributes\":{\"line_color\":\"#d01c8b\",\"line_width\":2,\"x\":{\"field\":\"__x__values\"},\"y\":{\"field\":\"Total\"}},\"id\":\"1037\",\"type\":\"Line\"},{\"attributes\":{},\"id\":\"1011\",\"type\":\"LinearScale\"},{\"attributes\":{\"data\":{\"Total\":{\"__ndarray__\":\"AAAAAAAA+H8AAAAAAAD4fwAAAAAAAPh/AAAAAAAA+H8AAAAAAAD4fwAAAAAAAPh/khgEVi6+pkBbj8L16FqnQLlJDAJLjqhA+X5qvPQ1qkC4HoXrUcKqQDMzMzMzmaxAi2zn++lMq0Do+6nxcpCsQPHSTWJQSq1AZmZmZoa0rkAi2/l+Cj2uQFlkO98v+65AwyCwcgiurkC+nxovDQOwQFUOLbI9RK5AkO18P/WIqUDFSzeJIXCrQJ4aL92k9a1A4HoUrhcNsECtcmiRjZevQEgMAivXV7BABIGVQ1vMsUAaWmQ7L8+yQAoCK4dW5LBAVA4tsh3MsEDZJAaBtROvQImXbhJDua5AjcL1KPymr0CC61G4fsusQH6VQ4vMQKxAcGiR7fyjrEDSeOkmMd6uQMZLN4lB6LBAukkMAhtssEDFSzeJYT+uQLcehesRTLBAItv5fnpHsEA/YOXQwluuQC4IrBy6B6lAzSLb+Z76qkApsp3vJx+qQKfx0k3ih6xAopvEIJAhqUDpfD81voCqQKpH4XoUe6xAGVpkOx9Mq0CAwMqhRWamQLufGi9dN6ZA5yYxCAxXo0Be5dAiGwmnQDe0yHYeAaVA2Pl+avyFqEAyXrpJ7E6pQJvvp8bLhalAonA9Crc7rkCF61G4Pk6wQIhBYOWwl69A9Shcj/LtsUCE61G4rmKwQOb7qfGSBLBAHYXrUbhKsEDTeOkmQc2wQLZJDAKrt69AtkkMAgutrkAyiUFghdOrQBYv3SSGrapANYlBYPWPsEARg8DK0XWwQJeZmZl5GaxAS2IQWFnGqkDCILByqOmoQCDb+X4KN6tAFgRWDu0Ar0BZj8L1CAypQDJeukmsT6lAd+kmMWhcqkDv0k1iUAmsQC4IrBxaIa1Aju18P/XpqED/KocW2Q+mQImXbhJjdKZA2k+Nl45lp0BVZDvfj9WnQA==\",\"dtype\":\"float64\",\"order\":\"little\",\"shape\":[89]},\"__x__values\":{\"__ndarray__\":\"AADAW2uAdkIAAIDBvYB2QgAAQCcQgXZCAAAAjWKBdkIAAMDytIF2QgAAgFgHgnZCAABAvlmCdkIAAAAkrIJ2QgAAwIn+gnZCAACA71CDdkIAAEBVo4N2QgAAALv1g3ZCAADAIEiEdkIAAICGmoR2QgAAQOzshHZCAAAAUj+FdkIAAMC3kYV2QgAAgB3khXZCAABAgzaGdkIAAADpiIZ2QgAAwE7bhnZCAACAtC2HdkIAAEAagId2QgAAAIDSh3ZCAADA5SSIdkIAAIBLd4h2QgAAQLHJiHZCAAAAFxyJdkIAAMB8bol2QgAAgOLAiXZCAABASBOKdkIAAACuZYp2QgAAwBO4inZCAACAeQqLdkIAAEDfXIt2QgAAAEWvi3ZCAADAqgGMdkIAAIAQVIx2QgAAQHamjHZCAAAA3PiMdkIAAMBBS412QgAAgKedjXZCAABADfCNdkIAAABzQo52QgAAwNiUjnZCAACAPueOdkIAAECkOY92QgAAAAqMj3ZCAADAb96PdkIAAIDVMJB2QgAAQDuDkHZCAAAAodWQdkIAAMAGKJF2QgAAgGx6kXZCAABA0syRdkIAAAA4H5J2QgAAwJ1xknZCAACAA8SSdkIAAEBpFpN2QgAAAM9ok3ZCAADANLuTdkIAAICaDZR2QgAAQABglHZCAAAAZrKUdkIAAMDLBJV2QgAAgDFXlXZCAABAl6mVdkIAAAD9+5V2QgAAwGJOlnZCAACAyKCWdkIAAEAu85Z2QgAAAJRFl3ZCAADA+ZeXdkIAAIBf6pd2QgAAQMU8mHZCAAAAK4+YdkIAAMCQ4Zh2QgAAgPYzmXZCAABAXIaZdkIAAADC2Jl2QgAAwCcrmnZCAACAjX2adkIAAEDzz5p2QgAAAFkim3ZCAADAvnSbdkIAAIAkx5t2QgAAQIoZnHZCAAAA8GucdkIAAMBVvpx2Qg==\",\"dtype\":\"float64\",\"order\":\"little\",\"shape\":[89]},\"__x__values_original\":{\"__ndarray__\":\"AADAW2uAdkIAAIDBvYB2QgAAQCcQgXZCAAAAjWKBdkIAAMDytIF2QgAAgFgHgnZCAABAvlmCdkIAAAAkrIJ2QgAAwIn+gnZCAACA71CDdkIAAEBVo4N2QgAAALv1g3ZCAADAIEiEdkIAAICGmoR2QgAAQOzshHZCAAAAUj+FdkIAAMC3kYV2QgAAgB3khXZCAABAgzaGdkIAAADpiIZ2QgAAwE7bhnZCAACAtC2HdkIAAEAagId2QgAAAIDSh3ZCAADA5SSIdkIAAIBLd4h2QgAAQLHJiHZCAAAAFxyJdkIAAMB8bol2QgAAgOLAiXZCAABASBOKdkIAAACuZYp2QgAAwBO4inZCAACAeQqLdkIAAEDfXIt2QgAAAEWvi3ZCAADAqgGMdkIAAIAQVIx2QgAAQHamjHZCAAAA3PiMdkIAAMBBS412QgAAgKedjXZCAABADfCNdkIAAABzQo52QgAAwNiUjnZCAACAPueOdkIAAECkOY92QgAAAAqMj3ZCAADAb96PdkIAAIDVMJB2QgAAQDuDkHZCAAAAodWQdkIAAMAGKJF2QgAAgGx6kXZCAABA0syRdkIAAAA4H5J2QgAAwJ1xknZCAACAA8SSdkIAAEBpFpN2QgAAAM9ok3ZCAADANLuTdkIAAICaDZR2QgAAQABglHZCAAAAZrKUdkIAAMDLBJV2QgAAgDFXlXZCAABAl6mVdkIAAAD9+5V2QgAAwGJOlnZCAACAyKCWdkIAAEAu85Z2QgAAAJRFl3ZCAADA+ZeXdkIAAIBf6pd2QgAAQMU8mHZCAAAAK4+YdkIAAMCQ4Zh2QgAAgPYzmXZCAABAXIaZdkIAAADC2Jl2QgAAwCcrmnZCAACAjX2adkIAAEDzz5p2QgAAAFkim3ZCAADAvnSbdkIAAIAkx5t2QgAAQIoZnHZCAAAA8GucdkIAAMBVvpx2Qg==\",\"dtype\":\"float64\",\"order\":\"little\",\"shape\":[89]}},\"selected\":{\"id\":\"1060\"},\"selection_policy\":{\"id\":\"1059\"}},\"id\":\"1035\",\"type\":\"ColumnDataSource\"},{\"attributes\":{\"months\":[0,1,2,3,4,5,6,7,8,9,10,11]},\"id\":\"1054\",\"type\":\"MonthsTicker\"},{\"attributes\":{\"active_drag\":\"auto\",\"active_inspect\":\"auto\",\"active_multi\":null,\"active_scroll\":{\"id\":\"1022\"},\"active_tap\":\"auto\",\"tools\":[{\"id\":\"1021\"},{\"id\":\"1022\"},{\"id\":\"1023\"},{\"id\":\"1024\"},{\"id\":\"1025\"},{\"id\":\"1026\"},{\"id\":\"1091\"}]},\"id\":\"1028\",\"type\":\"Toolbar\"},{\"attributes\":{},\"id\":\"1090\",\"type\":\"Selection\"},{\"attributes\":{},\"id\":\"1005\",\"type\":\"DataRange1d\"},{\"attributes\":{\"months\":[0,4,8]},\"id\":\"1056\",\"type\":\"MonthsTicker\"}],\"root_ids\":[\"1002\"]},\"title\":\"Bokeh Application\",\"version\":\"2.1.1\"}};\n",
       "  var render_items = [{\"docid\":\"509a8df0-492e-45ab-a133-df0b5834f132\",\"root_ids\":[\"1002\"],\"roots\":{\"1002\":\"2218b4c8-98a9-422b-a17e-441bb394a057\"}}];\n",
       "  root.Bokeh.embed.embed_items_notebook(docs_json, render_items);\n",
       "\n",
       "  }\n",
       "  if (root.Bokeh !== undefined) {\n",
       "    embed_document(root);\n",
       "  } else {\n",
       "    var attempts = 0;\n",
       "    var timer = setInterval(function(root) {\n",
       "      if (root.Bokeh !== undefined) {\n",
       "        clearInterval(timer);\n",
       "        embed_document(root);\n",
       "      } else {\n",
       "        attempts++;\n",
       "        if (attempts > 100) {\n",
       "          clearInterval(timer);\n",
       "          console.log(\"Bokeh: ERROR: Unable to run BokehJS code because BokehJS library is missing\");\n",
       "        }\n",
       "      }\n",
       "    }, 10, root)\n",
       "  }\n",
       "})(window);"
      ],
      "application/vnd.bokehjs_exec.v0+json": ""
     },
     "metadata": {
      "application/vnd.bokehjs_exec.v0+json": {
       "id": "1002"
      }
     },
     "output_type": "display_data"
    }
   ],
   "source": [
    "# plot 1 - line plot\n",
    "p_line = days.plot_bokeh(kind=\"line\",y=\"Total\",color='#d01c8b', title='7-day moving average of daily sales.', plot_data_points=True,show_figure=True)"
   ]
  },
  {
   "cell_type": "code",
   "execution_count": 18,
   "metadata": {},
   "outputs": [
    {
     "data": {
      "text/html": [
       "\n",
       "\n",
       "\n",
       "\n",
       "\n",
       "\n",
       "  <div class=\"bk-root\" id=\"50285735-f8ec-4ba9-a18a-2a3a041ff05a\" data-root-id=\"1278\"></div>\n"
      ]
     },
     "metadata": {},
     "output_type": "display_data"
    },
    {
     "data": {
      "application/javascript": [
       "(function(root) {\n",
       "  function embed_document(root) {\n",
       "    \n",
       "  var docs_json = {\"5685a8f8-919c-4a2c-9784-c8eab9ab3581\":{\"roots\":{\"references\":[{\"attributes\":{\"below\":[{\"id\":\"1289\"}],\"center\":[{\"id\":\"1292\"},{\"id\":\"1296\"},{\"id\":\"1326\"}],\"left\":[{\"id\":\"1293\"}],\"output_backend\":\"webgl\",\"plot_height\":400,\"renderers\":[{\"id\":\"1317\"}],\"sizing_mode\":\"fixed\",\"title\":{\"id\":\"1279\"},\"toolbar\":{\"id\":\"1304\"},\"x_range\":{\"id\":\"1281\"},\"x_scale\":{\"id\":\"1285\"},\"y_range\":{\"id\":\"1283\"},\"y_scale\":{\"id\":\"1287\"}},\"id\":\"1278\",\"subtype\":\"Figure\",\"type\":\"Plot\"},{\"attributes\":{\"data_source\":{\"id\":\"1277\"},\"glyph\":{\"id\":\"1315\"},\"hover_glyph\":null,\"muted_glyph\":null,\"nonselection_glyph\":{\"id\":\"1316\"},\"selection_glyph\":null,\"view\":{\"id\":\"1318\"}},\"id\":\"1317\",\"type\":\"GlyphRenderer\"},{\"attributes\":{\"axis\":{\"id\":\"1289\"},\"ticker\":null},\"id\":\"1292\",\"type\":\"Grid\"},{\"attributes\":{\"axis_label\":\"gross income\",\"formatter\":{\"id\":\"1321\"},\"ticker\":{\"id\":\"1294\"}},\"id\":\"1293\",\"type\":\"LinearAxis\"},{\"attributes\":{},\"id\":\"1301\",\"type\":\"ResetTool\"},{\"attributes\":{\"source\":{\"id\":\"1277\"}},\"id\":\"1318\",\"type\":\"CDSView\"},{\"attributes\":{},\"id\":\"1321\",\"type\":\"BasicTickFormatter\"},{\"attributes\":{},\"id\":\"1294\",\"type\":\"BasicTicker\"},{\"attributes\":{\"data\":{\"__x__values\":[0,1,2],\"__x__values_original\":[\"Mandalay\",\"Naypyitaw\",\"Yangon\"],\"gross income\":{\"__ndarray__\":\"AAAAAADBs0AAAAAAAJG0QAAAAAAAwbNA\",\"dtype\":\"float64\",\"order\":\"little\",\"shape\":[3]}},\"selected\":{\"id\":\"1325\"},\"selection_policy\":{\"id\":\"1324\"}},\"id\":\"1277\",\"type\":\"ColumnDataSource\"},{\"attributes\":{\"fill_alpha\":{\"value\":0.1},\"fill_color\":{\"value\":\"#d01c8b\"},\"line_alpha\":{\"value\":0.1},\"line_color\":{\"value\":\"#d01c8b\"},\"line_width\":{\"value\":2},\"top\":{\"field\":\"gross income\"},\"width\":{\"value\":0.7},\"x\":{\"field\":\"__x__values\",\"transform\":{\"id\":\"1313\"}}},\"id\":\"1316\",\"type\":\"VBar\"},{\"attributes\":{\"axis\":{\"id\":\"1293\"},\"dimension\":1,\"ticker\":null},\"id\":\"1296\",\"type\":\"Grid\"},{\"attributes\":{},\"id\":\"1283\",\"type\":\"DataRange1d\"},{\"attributes\":{},\"id\":\"1324\",\"type\":\"UnionRenderers\"},{\"attributes\":{},\"id\":\"1281\",\"type\":\"DataRange1d\"},{\"attributes\":{},\"id\":\"1325\",\"type\":\"Selection\"},{\"attributes\":{\"code\":\"\\n                                    var labels = {0: 'Mandalay', 1: 'Naypyitaw', 2: 'Yangon'};\\n                                    return labels[tick];\\n                                    \"},\"id\":\"1311\",\"type\":\"FuncTickFormatter\"},{\"attributes\":{\"click_policy\":\"hide\",\"items\":[{\"id\":\"1327\"}],\"visible\":false},\"id\":\"1326\",\"type\":\"Legend\"},{\"attributes\":{\"label\":{\"value\":\" gross income\"},\"renderers\":[{\"id\":\"1317\"}]},\"id\":\"1327\",\"type\":\"LegendItem\"},{\"attributes\":{},\"id\":\"1297\",\"type\":\"PanTool\"},{\"attributes\":{\"callback\":null,\"mode\":\"vline\",\"renderers\":[{\"id\":\"1317\"}],\"tooltips\":[[\"City\",\"@__x__values_original\"],[\"gross income\",\"@{gross income}\"]]},\"id\":\"1328\",\"type\":\"HoverTool\"},{\"attributes\":{\"text\":\"Revenue by the city.\"},\"id\":\"1279\",\"type\":\"Title\"},{\"attributes\":{},\"id\":\"1298\",\"type\":\"WheelZoomTool\"},{\"attributes\":{\"ticks\":[0,1,2]},\"id\":\"1330\",\"type\":\"FixedTicker\"},{\"attributes\":{\"active_drag\":\"auto\",\"active_inspect\":\"auto\",\"active_multi\":null,\"active_scroll\":{\"id\":\"1298\"},\"active_tap\":\"auto\",\"tools\":[{\"id\":\"1297\"},{\"id\":\"1298\"},{\"id\":\"1299\"},{\"id\":\"1300\"},{\"id\":\"1301\"},{\"id\":\"1302\"},{\"id\":\"1328\"}]},\"id\":\"1304\",\"type\":\"Toolbar\"},{\"attributes\":{},\"id\":\"1287\",\"type\":\"LinearScale\"},{\"attributes\":{\"bottom_units\":\"screen\",\"fill_alpha\":0.5,\"fill_color\":\"lightgrey\",\"left_units\":\"screen\",\"level\":\"overlay\",\"line_alpha\":1.0,\"line_color\":\"black\",\"line_dash\":[4,4],\"line_width\":2,\"right_units\":\"screen\",\"top_units\":\"screen\"},\"id\":\"1303\",\"type\":\"BoxAnnotation\"},{\"attributes\":{},\"id\":\"1302\",\"type\":\"HelpTool\"},{\"attributes\":{\"range\":{\"id\":\"1281\"}},\"id\":\"1313\",\"type\":\"Dodge\"},{\"attributes\":{},\"id\":\"1285\",\"type\":\"LinearScale\"},{\"attributes\":{\"axis_label\":\"City\",\"formatter\":{\"id\":\"1311\"},\"ticker\":{\"id\":\"1330\"}},\"id\":\"1289\",\"type\":\"LinearAxis\"},{\"attributes\":{},\"id\":\"1300\",\"type\":\"SaveTool\"},{\"attributes\":{\"overlay\":{\"id\":\"1303\"}},\"id\":\"1299\",\"type\":\"BoxZoomTool\"},{\"attributes\":{\"fill_color\":{\"value\":\"#d01c8b\"},\"line_color\":{\"value\":\"#d01c8b\"},\"line_width\":{\"value\":2},\"top\":{\"field\":\"gross income\"},\"width\":{\"value\":0.7},\"x\":{\"field\":\"__x__values\",\"transform\":{\"id\":\"1313\"}}},\"id\":\"1315\",\"type\":\"VBar\"}],\"root_ids\":[\"1278\"]},\"title\":\"Bokeh Application\",\"version\":\"2.1.1\"}};\n",
       "  var render_items = [{\"docid\":\"5685a8f8-919c-4a2c-9784-c8eab9ab3581\",\"root_ids\":[\"1278\"],\"roots\":{\"1278\":\"50285735-f8ec-4ba9-a18a-2a3a041ff05a\"}}];\n",
       "  root.Bokeh.embed.embed_items_notebook(docs_json, render_items);\n",
       "\n",
       "  }\n",
       "  if (root.Bokeh !== undefined) {\n",
       "    embed_document(root);\n",
       "  } else {\n",
       "    var attempts = 0;\n",
       "    var timer = setInterval(function(root) {\n",
       "      if (root.Bokeh !== undefined) {\n",
       "        clearInterval(timer);\n",
       "        embed_document(root);\n",
       "      } else {\n",
       "        attempts++;\n",
       "        if (attempts > 100) {\n",
       "          clearInterval(timer);\n",
       "          console.log(\"Bokeh: ERROR: Unable to run BokehJS code because BokehJS library is missing\");\n",
       "        }\n",
       "      }\n",
       "    }, 10, root)\n",
       "  }\n",
       "})(window);"
      ],
      "application/vnd.bokehjs_exec.v0+json": ""
     },
     "metadata": {
      "application/vnd.bokehjs_exec.v0+json": {
       "id": "1278"
      }
     },
     "output_type": "display_data"
    }
   ],
   "source": [
    "# plot 2 - bar plot\n",
    "p_bar = income_city.plot_bokeh(kind=\"bar\", color='#d01c8b', legend=False, title='Revenue by the city.', show_figure=True)"
   ]
  },
  {
   "cell_type": "code",
   "execution_count": 19,
   "metadata": {},
   "outputs": [
    {
     "data": {
      "text/html": [
       "\n",
       "\n",
       "\n",
       "\n",
       "\n",
       "\n",
       "  <div class=\"bk-root\" id=\"08f4a1b8-a433-4e72-8e59-94bfeac1805b\" data-root-id=\"1431\"></div>\n"
      ]
     },
     "metadata": {},
     "output_type": "display_data"
    },
    {
     "data": {
      "application/javascript": [
       "(function(root) {\n",
       "  function embed_document(root) {\n",
       "    \n",
       "  var docs_json = {\"e7b38abe-6481-4b65-9fd5-296f8a9ab830\":{\"roots\":{\"references\":[{\"attributes\":{\"below\":[{\"id\":\"1442\"}],\"center\":[{\"id\":\"1445\"},{\"id\":\"1449\"},{\"id\":\"1479\"}],\"left\":[{\"id\":\"1446\"}],\"output_backend\":\"webgl\",\"plot_height\":400,\"renderers\":[{\"id\":\"1470\"},{\"id\":\"1487\"},{\"id\":\"1503\"},{\"id\":\"1519\"},{\"id\":\"1535\"},{\"id\":\"1551\"}],\"sizing_mode\":\"fixed\",\"title\":{\"id\":\"1432\"},\"toolbar\":{\"id\":\"1457\"},\"x_range\":{\"id\":\"1434\"},\"x_scale\":{\"id\":\"1438\"},\"y_range\":{\"id\":\"1436\"},\"y_scale\":{\"id\":\"1440\"}},\"id\":\"1431\",\"subtype\":\"Figure\",\"type\":\"Plot\"},{\"attributes\":{\"fill_alpha\":{\"value\":0.1},\"fill_color\":{\"value\":\"#1f77b4\"},\"line_alpha\":{\"value\":0.1},\"line_color\":{\"value\":\"#1f77b4\"},\"line_width\":{\"value\":2},\"top\":{\"field\":\"Electronics\"},\"width\":{\"value\":0.09090909090909091},\"x\":{\"field\":\"__x__values\",\"transform\":{\"id\":\"1466\"}}},\"id\":\"1469\",\"type\":\"VBar\"},{\"attributes\":{},\"id\":\"1453\",\"type\":\"SaveTool\"},{\"attributes\":{},\"id\":\"1477\",\"type\":\"UnionRenderers\"},{\"attributes\":{\"range\":{\"id\":\"1434\"},\"value\":0.050000000000000044},\"id\":\"1515\",\"type\":\"Dodge\"},{\"attributes\":{},\"id\":\"1454\",\"type\":\"ResetTool\"},{\"attributes\":{\"fill_color\":{\"value\":\"#8c564b\"},\"line_color\":{\"value\":\"#8c564b\"},\"line_width\":{\"value\":2},\"top\":{\"field\":\"Sports\"},\"width\":{\"value\":0.09090909090909091},\"x\":{\"field\":\"__x__values\",\"transform\":{\"id\":\"1547\"}}},\"id\":\"1549\",\"type\":\"VBar\"},{\"attributes\":{},\"id\":\"1478\",\"type\":\"Selection\"},{\"attributes\":{\"data_source\":{\"id\":\"1430\"},\"glyph\":{\"id\":\"1549\"},\"hover_glyph\":null,\"muted_glyph\":null,\"nonselection_glyph\":{\"id\":\"1550\"},\"selection_glyph\":null,\"view\":{\"id\":\"1552\"}},\"id\":\"1551\",\"type\":\"GlyphRenderer\"},{\"attributes\":{},\"id\":\"1455\",\"type\":\"HelpTool\"},{\"attributes\":{\"click_policy\":\"hide\",\"items\":[{\"id\":\"1480\"},{\"id\":\"1496\"},{\"id\":\"1512\"},{\"id\":\"1528\"},{\"id\":\"1544\"},{\"id\":\"1560\"}],\"visible\":false},\"id\":\"1479\",\"type\":\"Legend\"},{\"attributes\":{\"fill_alpha\":{\"value\":0.1},\"fill_color\":{\"value\":\"#ff7f0e\"},\"line_alpha\":{\"value\":0.1},\"line_color\":{\"value\":\"#ff7f0e\"},\"line_width\":{\"value\":2},\"top\":{\"field\":\"Fashion\"},\"width\":{\"value\":0.09090909090909091},\"x\":{\"field\":\"__x__values\",\"transform\":{\"id\":\"1483\"}}},\"id\":\"1486\",\"type\":\"VBar\"},{\"attributes\":{\"label\":{\"value\":\" Electronics\"},\"renderers\":[{\"id\":\"1470\"}]},\"id\":\"1480\",\"type\":\"LegendItem\"},{\"attributes\":{},\"id\":\"1436\",\"type\":\"DataRange1d\"},{\"attributes\":{\"active_drag\":\"auto\",\"active_inspect\":\"auto\",\"active_multi\":null,\"active_scroll\":{\"id\":\"1451\"},\"active_tap\":\"auto\",\"tools\":[{\"id\":\"1450\"},{\"id\":\"1451\"},{\"id\":\"1452\"},{\"id\":\"1453\"},{\"id\":\"1454\"},{\"id\":\"1455\"},{\"id\":\"1481\"},{\"id\":\"1497\"},{\"id\":\"1513\"},{\"id\":\"1529\"},{\"id\":\"1545\"},{\"id\":\"1561\"}]},\"id\":\"1457\",\"type\":\"Toolbar\"},{\"attributes\":{\"data_source\":{\"id\":\"1430\"},\"glyph\":{\"id\":\"1517\"},\"hover_glyph\":null,\"muted_glyph\":null,\"nonselection_glyph\":{\"id\":\"1518\"},\"selection_glyph\":null,\"view\":{\"id\":\"1520\"}},\"id\":\"1519\",\"type\":\"GlyphRenderer\"},{\"attributes\":{\"fill_color\":{\"value\":\"#d62728\"},\"line_color\":{\"value\":\"#d62728\"},\"line_width\":{\"value\":2},\"top\":{\"field\":\"Health\"},\"width\":{\"value\":0.09090909090909091},\"x\":{\"field\":\"__x__values\",\"transform\":{\"id\":\"1515\"}}},\"id\":\"1517\",\"type\":\"VBar\"},{\"attributes\":{\"source\":{\"id\":\"1430\"}},\"id\":\"1552\",\"type\":\"CDSView\"},{\"attributes\":{},\"id\":\"1438\",\"type\":\"LinearScale\"},{\"attributes\":{\"callback\":null,\"mode\":\"vline\",\"renderers\":[{\"id\":\"1470\"}],\"tooltips\":[[\"Gender\",\"@__x__values_original\"],[\"Electronics\",\"@{Electronics}\"]]},\"id\":\"1481\",\"type\":\"HoverTool\"},{\"attributes\":{\"source\":{\"id\":\"1430\"}},\"id\":\"1488\",\"type\":\"CDSView\"},{\"attributes\":{},\"id\":\"1440\",\"type\":\"LinearScale\"},{\"attributes\":{\"fill_alpha\":{\"value\":0.1},\"fill_color\":{\"value\":\"#8c564b\"},\"line_alpha\":{\"value\":0.1},\"line_color\":{\"value\":\"#8c564b\"},\"line_width\":{\"value\":2},\"top\":{\"field\":\"Sports\"},\"width\":{\"value\":0.09090909090909091},\"x\":{\"field\":\"__x__values\",\"transform\":{\"id\":\"1547\"}}},\"id\":\"1550\",\"type\":\"VBar\"},{\"attributes\":{\"label\":{\"value\":\" Health\"},\"renderers\":[{\"id\":\"1519\"}]},\"id\":\"1528\",\"type\":\"LegendItem\"},{\"attributes\":{\"range\":{\"id\":\"1434\"},\"value\":-0.15},\"id\":\"1483\",\"type\":\"Dodge\"},{\"attributes\":{\"label\":{\"value\":\" Sports\"},\"renderers\":[{\"id\":\"1551\"}]},\"id\":\"1560\",\"type\":\"LegendItem\"},{\"attributes\":{\"callback\":null,\"mode\":\"vline\",\"renderers\":[{\"id\":\"1519\"}],\"tooltips\":[[\"Gender\",\"@__x__values_original\"],[\"Health\",\"@{Health}\"]]},\"id\":\"1529\",\"type\":\"HoverTool\"},{\"attributes\":{\"axis_label\":\"Gender\",\"formatter\":{\"id\":\"1464\"},\"ticker\":{\"id\":\"1563\"}},\"id\":\"1442\",\"type\":\"LinearAxis\"},{\"attributes\":{\"callback\":null,\"mode\":\"vline\",\"renderers\":[{\"id\":\"1551\"}],\"tooltips\":[[\"Gender\",\"@__x__values_original\"],[\"Sports\",\"@{Sports}\"]]},\"id\":\"1561\",\"type\":\"HoverTool\"},{\"attributes\":{\"fill_alpha\":{\"value\":0.1},\"fill_color\":{\"value\":\"#d62728\"},\"line_alpha\":{\"value\":0.1},\"line_color\":{\"value\":\"#d62728\"},\"line_width\":{\"value\":2},\"top\":{\"field\":\"Health\"},\"width\":{\"value\":0.09090909090909091},\"x\":{\"field\":\"__x__values\",\"transform\":{\"id\":\"1515\"}}},\"id\":\"1518\",\"type\":\"VBar\"},{\"attributes\":{\"text\":\"Sales by Product line and Gender.\"},\"id\":\"1432\",\"type\":\"Title\"},{\"attributes\":{\"range\":{\"id\":\"1434\"},\"value\":0.15000000000000002},\"id\":\"1531\",\"type\":\"Dodge\"},{\"attributes\":{\"callback\":null,\"mode\":\"vline\",\"renderers\":[{\"id\":\"1487\"}],\"tooltips\":[[\"Gender\",\"@__x__values_original\"],[\"Fashion\",\"@{Fashion}\"]]},\"id\":\"1497\",\"type\":\"HoverTool\"},{\"attributes\":{\"ticks\":[0,1]},\"id\":\"1563\",\"type\":\"FixedTicker\"},{\"attributes\":{\"axis\":{\"id\":\"1442\"},\"ticker\":null},\"id\":\"1445\",\"type\":\"Grid\"},{\"attributes\":{\"label\":{\"value\":\" Fashion\"},\"renderers\":[{\"id\":\"1487\"}]},\"id\":\"1496\",\"type\":\"LegendItem\"},{\"attributes\":{\"source\":{\"id\":\"1430\"}},\"id\":\"1520\",\"type\":\"CDSView\"},{\"attributes\":{\"range\":{\"id\":\"1434\"},\"value\":-0.04999999999999999},\"id\":\"1499\",\"type\":\"Dodge\"},{\"attributes\":{\"range\":{\"id\":\"1434\"},\"value\":0.25},\"id\":\"1547\",\"type\":\"Dodge\"},{\"attributes\":{\"formatter\":{\"id\":\"1474\"},\"ticker\":{\"id\":\"1447\"}},\"id\":\"1446\",\"type\":\"LinearAxis\"},{\"attributes\":{\"label\":{\"value\":\" Home\"},\"renderers\":[{\"id\":\"1535\"}]},\"id\":\"1544\",\"type\":\"LegendItem\"},{\"attributes\":{},\"id\":\"1447\",\"type\":\"BasicTicker\"},{\"attributes\":{},\"id\":\"1474\",\"type\":\"BasicTickFormatter\"},{\"attributes\":{\"fill_color\":{\"value\":\"#9467bd\"},\"line_color\":{\"value\":\"#9467bd\"},\"line_width\":{\"value\":2},\"top\":{\"field\":\"Home\"},\"width\":{\"value\":0.09090909090909091},\"x\":{\"field\":\"__x__values\",\"transform\":{\"id\":\"1531\"}}},\"id\":\"1533\",\"type\":\"VBar\"},{\"attributes\":{\"bottom_units\":\"screen\",\"fill_alpha\":0.5,\"fill_color\":\"lightgrey\",\"left_units\":\"screen\",\"level\":\"overlay\",\"line_alpha\":1.0,\"line_color\":\"black\",\"line_dash\":[4,4],\"line_width\":2,\"right_units\":\"screen\",\"top_units\":\"screen\"},\"id\":\"1456\",\"type\":\"BoxAnnotation\"},{\"attributes\":{\"data_source\":{\"id\":\"1430\"},\"glyph\":{\"id\":\"1533\"},\"hover_glyph\":null,\"muted_glyph\":null,\"nonselection_glyph\":{\"id\":\"1534\"},\"selection_glyph\":null,\"view\":{\"id\":\"1536\"}},\"id\":\"1535\",\"type\":\"GlyphRenderer\"},{\"attributes\":{\"axis\":{\"id\":\"1446\"},\"dimension\":1,\"ticker\":null},\"id\":\"1449\",\"type\":\"Grid\"},{\"attributes\":{\"range\":{\"id\":\"1434\"},\"value\":-0.25},\"id\":\"1466\",\"type\":\"Dodge\"},{\"attributes\":{\"fill_color\":{\"value\":\"#2ca02c\"},\"line_color\":{\"value\":\"#2ca02c\"},\"line_width\":{\"value\":2},\"top\":{\"field\":\"Food\"},\"width\":{\"value\":0.09090909090909091},\"x\":{\"field\":\"__x__values\",\"transform\":{\"id\":\"1499\"}}},\"id\":\"1501\",\"type\":\"VBar\"},{\"attributes\":{\"data\":{\"Electronics\":{\"__ndarray__\":\"AAAAAIB32kAAAAAAAJnaQA==\",\"dtype\":\"float64\",\"order\":\"little\",\"shape\":[2]},\"Fashion\":{\"__ndarray__\":\"AAAAAEC53UAAAAAAAE/XQA==\",\"dtype\":\"float64\",\"order\":\"little\",\"shape\":[2]},\"Food\":{\"__ndarray__\":\"AAAAAGAy4EAAAAAAgG/WQA==\",\"dtype\":\"float64\",\"order\":\"little\",\"shape\":[2]},\"Health\":{\"__ndarray__\":\"AAAAAEAg0kAAAAAAQOrdQA==\",\"dtype\":\"float64\",\"order\":\"little\",\"shape\":[2]},\"Home\":{\"__ndarray__\":\"AAAAAEBV3UAAAAAAQETXQA==\",\"dtype\":\"float64\",\"order\":\"little\",\"shape\":[2]},\"Sports\":{\"__ndarray__\":\"AAAAAMDn20AAAAAAAO3ZQA==\",\"dtype\":\"float64\",\"order\":\"little\",\"shape\":[2]},\"__x__values\":[0,1],\"__x__values_original\":[\"Female\",\"Male\"]},\"selected\":{\"id\":\"1478\"},\"selection_policy\":{\"id\":\"1477\"}},\"id\":\"1430\",\"type\":\"ColumnDataSource\"},{\"attributes\":{\"data_source\":{\"id\":\"1430\"},\"glyph\":{\"id\":\"1501\"},\"hover_glyph\":null,\"muted_glyph\":null,\"nonselection_glyph\":{\"id\":\"1502\"},\"selection_glyph\":null,\"view\":{\"id\":\"1504\"}},\"id\":\"1503\",\"type\":\"GlyphRenderer\"},{\"attributes\":{\"fill_color\":{\"value\":\"#ff7f0e\"},\"line_color\":{\"value\":\"#ff7f0e\"},\"line_width\":{\"value\":2},\"top\":{\"field\":\"Fashion\"},\"width\":{\"value\":0.09090909090909091},\"x\":{\"field\":\"__x__values\",\"transform\":{\"id\":\"1483\"}}},\"id\":\"1485\",\"type\":\"VBar\"},{\"attributes\":{\"data_source\":{\"id\":\"1430\"},\"glyph\":{\"id\":\"1485\"},\"hover_glyph\":null,\"muted_glyph\":null,\"nonselection_glyph\":{\"id\":\"1486\"},\"selection_glyph\":null,\"view\":{\"id\":\"1488\"}},\"id\":\"1487\",\"type\":\"GlyphRenderer\"},{\"attributes\":{\"source\":{\"id\":\"1430\"}},\"id\":\"1536\",\"type\":\"CDSView\"},{\"attributes\":{\"code\":\"\\n                                    var labels = {0: 'Female', 1: 'Male'};\\n                                    return labels[tick];\\n                                    \"},\"id\":\"1464\",\"type\":\"FuncTickFormatter\"},{\"attributes\":{\"fill_color\":{\"value\":\"#1f77b4\"},\"line_color\":{\"value\":\"#1f77b4\"},\"line_width\":{\"value\":2},\"top\":{\"field\":\"Electronics\"},\"width\":{\"value\":0.09090909090909091},\"x\":{\"field\":\"__x__values\",\"transform\":{\"id\":\"1466\"}}},\"id\":\"1468\",\"type\":\"VBar\"},{\"attributes\":{\"source\":{\"id\":\"1430\"}},\"id\":\"1504\",\"type\":\"CDSView\"},{\"attributes\":{\"data_source\":{\"id\":\"1430\"},\"glyph\":{\"id\":\"1468\"},\"hover_glyph\":null,\"muted_glyph\":null,\"nonselection_glyph\":{\"id\":\"1469\"},\"selection_glyph\":null,\"view\":{\"id\":\"1471\"}},\"id\":\"1470\",\"type\":\"GlyphRenderer\"},{\"attributes\":{\"fill_alpha\":{\"value\":0.1},\"fill_color\":{\"value\":\"#9467bd\"},\"line_alpha\":{\"value\":0.1},\"line_color\":{\"value\":\"#9467bd\"},\"line_width\":{\"value\":2},\"top\":{\"field\":\"Home\"},\"width\":{\"value\":0.09090909090909091},\"x\":{\"field\":\"__x__values\",\"transform\":{\"id\":\"1531\"}}},\"id\":\"1534\",\"type\":\"VBar\"},{\"attributes\":{\"label\":{\"value\":\" Food\"},\"renderers\":[{\"id\":\"1503\"}]},\"id\":\"1512\",\"type\":\"LegendItem\"},{\"attributes\":{},\"id\":\"1450\",\"type\":\"PanTool\"},{\"attributes\":{\"callback\":null,\"mode\":\"vline\",\"renderers\":[{\"id\":\"1535\"}],\"tooltips\":[[\"Gender\",\"@__x__values_original\"],[\"Home\",\"@{Home}\"]]},\"id\":\"1545\",\"type\":\"HoverTool\"},{\"attributes\":{},\"id\":\"1451\",\"type\":\"WheelZoomTool\"},{\"attributes\":{\"fill_alpha\":{\"value\":0.1},\"fill_color\":{\"value\":\"#2ca02c\"},\"line_alpha\":{\"value\":0.1},\"line_color\":{\"value\":\"#2ca02c\"},\"line_width\":{\"value\":2},\"top\":{\"field\":\"Food\"},\"width\":{\"value\":0.09090909090909091},\"x\":{\"field\":\"__x__values\",\"transform\":{\"id\":\"1499\"}}},\"id\":\"1502\",\"type\":\"VBar\"},{\"attributes\":{\"callback\":null,\"mode\":\"vline\",\"renderers\":[{\"id\":\"1503\"}],\"tooltips\":[[\"Gender\",\"@__x__values_original\"],[\"Food\",\"@{Food}\"]]},\"id\":\"1513\",\"type\":\"HoverTool\"},{\"attributes\":{\"source\":{\"id\":\"1430\"}},\"id\":\"1471\",\"type\":\"CDSView\"},{\"attributes\":{\"overlay\":{\"id\":\"1456\"}},\"id\":\"1452\",\"type\":\"BoxZoomTool\"},{\"attributes\":{},\"id\":\"1434\",\"type\":\"DataRange1d\"}],\"root_ids\":[\"1431\"]},\"title\":\"Bokeh Application\",\"version\":\"2.1.1\"}};\n",
       "  var render_items = [{\"docid\":\"e7b38abe-6481-4b65-9fd5-296f8a9ab830\",\"root_ids\":[\"1431\"],\"roots\":{\"1431\":\"08f4a1b8-a433-4e72-8e59-94bfeac1805b\"}}];\n",
       "  root.Bokeh.embed.embed_items_notebook(docs_json, render_items);\n",
       "\n",
       "  }\n",
       "  if (root.Bokeh !== undefined) {\n",
       "    embed_document(root);\n",
       "  } else {\n",
       "    var attempts = 0;\n",
       "    var timer = setInterval(function(root) {\n",
       "      if (root.Bokeh !== undefined) {\n",
       "        clearInterval(timer);\n",
       "        embed_document(root);\n",
       "      } else {\n",
       "        attempts++;\n",
       "        if (attempts > 100) {\n",
       "          clearInterval(timer);\n",
       "          console.log(\"Bokeh: ERROR: Unable to run BokehJS code because BokehJS library is missing\");\n",
       "        }\n",
       "      }\n",
       "    }, 10, root)\n",
       "  }\n",
       "})(window);"
      ],
      "application/vnd.bokehjs_exec.v0+json": ""
     },
     "metadata": {
      "application/vnd.bokehjs_exec.v0+json": {
       "id": "1431"
      }
     },
     "output_type": "display_data"
    }
   ],
   "source": [
    "# plot 3 - bar plot\n",
    "p_bar2 = total_gender.plot_bokeh(kind=\"bar\", legend=False, title='Sales by Product line and Gender.', show_figure=True)"
   ]
  },
  {
   "cell_type": "code",
   "execution_count": 20,
   "metadata": {},
   "outputs": [
    {
     "data": {
      "text/html": [
       "\n",
       "\n",
       "\n",
       "\n",
       "\n",
       "\n",
       "  <div class=\"bk-root\" id=\"32c8099b-71a1-4565-8433-356c47ace16a\" data-root-id=\"1670\"></div>\n"
      ]
     },
     "metadata": {},
     "output_type": "display_data"
    },
    {
     "data": {
      "application/javascript": [
       "(function(root) {\n",
       "  function embed_document(root) {\n",
       "    \n",
       "  var docs_json = {\"e956a756-6c57-4b1c-94cb-0df5f7100284\":{\"roots\":{\"references\":[{\"attributes\":{\"below\":[{\"id\":\"1681\"}],\"center\":[{\"id\":\"1684\"},{\"id\":\"1688\"},{\"id\":\"1721\"}],\"left\":[{\"id\":\"1685\"}],\"output_backend\":\"webgl\",\"plot_height\":400,\"renderers\":[{\"id\":\"1712\"},{\"id\":\"1726\"}],\"sizing_mode\":\"fixed\",\"title\":{\"id\":\"1671\"},\"toolbar\":{\"id\":\"1696\"},\"x_range\":{\"id\":\"1673\"},\"x_scale\":{\"id\":\"1677\"},\"y_range\":{\"id\":\"1675\"},\"y_scale\":{\"id\":\"1679\"}},\"id\":\"1670\",\"subtype\":\"Figure\",\"type\":\"Plot\"},{\"attributes\":{},\"id\":\"1679\",\"type\":\"LinearScale\"},{\"attributes\":{\"source\":{\"id\":\"1669\"}},\"id\":\"1727\",\"type\":\"CDSView\"},{\"attributes\":{\"formatter\":{\"id\":\"1717\"},\"ticker\":{\"id\":\"1682\"}},\"id\":\"1681\",\"type\":\"LinearAxis\"},{\"attributes\":{\"fill_alpha\":{\"value\":0.1},\"fill_color\":{\"value\":\"#D01C8B\"},\"height\":{\"value\":0.8},\"left\":{\"expr\":{\"id\":\"1707\"}},\"line_alpha\":{\"value\":0.1},\"line_color\":{\"value\":\"#D01C8B\"},\"line_width\":{\"value\":2},\"right\":{\"expr\":{\"id\":\"1708\"}},\"y\":{\"field\":\"__x__values\"}},\"id\":\"1725\",\"type\":\"HBar\"},{\"attributes\":{},\"id\":\"1682\",\"type\":\"BasicTicker\"},{\"attributes\":{\"fields\":[\"Member\",\"Normal\"]},\"id\":\"1708\",\"type\":\"Stack\"},{\"attributes\":{\"axis\":{\"id\":\"1681\"},\"ticker\":null},\"id\":\"1684\",\"type\":\"Grid\"},{\"attributes\":{\"ticks\":[0,1,2]},\"id\":\"1738\",\"type\":\"FixedTicker\"},{\"attributes\":{},\"id\":\"1677\",\"type\":\"LinearScale\"},{\"attributes\":{\"axis_label\":\"City\",\"formatter\":{\"id\":\"1703\"},\"ticker\":{\"id\":\"1738\"}},\"id\":\"1685\",\"type\":\"LinearAxis\"},{\"attributes\":{\"data_source\":{\"id\":\"1669\"},\"glyph\":{\"id\":\"1710\"},\"hover_glyph\":null,\"muted_glyph\":null,\"name\":\"Member\",\"nonselection_glyph\":{\"id\":\"1711\"},\"selection_glyph\":null,\"view\":{\"id\":\"1713\"}},\"id\":\"1712\",\"type\":\"GlyphRenderer\"},{\"attributes\":{\"axis\":{\"id\":\"1685\"},\"dimension\":1,\"ticker\":null},\"id\":\"1688\",\"type\":\"Grid\"},{\"attributes\":{\"fill_color\":{\"value\":\"#FDE724\"},\"height\":{\"value\":0.8},\"left\":{\"expr\":{\"id\":\"1705\"}},\"line_color\":{\"value\":\"#FDE724\"},\"line_width\":{\"value\":2},\"right\":{\"expr\":{\"id\":\"1706\"}},\"y\":{\"field\":\"__x__values\"}},\"id\":\"1710\",\"type\":\"HBar\"},{\"attributes\":{},\"id\":\"1719\",\"type\":\"UnionRenderers\"},{\"attributes\":{\"fields\":[]},\"id\":\"1705\",\"type\":\"Stack\"},{\"attributes\":{},\"id\":\"1717\",\"type\":\"BasicTickFormatter\"},{\"attributes\":{\"callback\":null,\"mode\":\"hline\",\"renderers\":[{\"id\":\"1726\"}],\"tooltips\":[[\"City\",\"@__x__values_original\"],[\"Member\",\"@{Member}\"],[\"Normal\",\"@{Normal}\"]]},\"id\":\"1736\",\"type\":\"HoverTool\"},{\"attributes\":{\"code\":\"\\n                                    var labels = {0: 'Mandalay', 1: 'Naypyitaw', 2: 'Yangon'};\\n                                    return labels[tick];\\n                                    \"},\"id\":\"1703\",\"type\":\"FuncTickFormatter\"},{\"attributes\":{\"source\":{\"id\":\"1669\"}},\"id\":\"1713\",\"type\":\"CDSView\"},{\"attributes\":{\"bottom_units\":\"screen\",\"fill_alpha\":0.5,\"fill_color\":\"lightgrey\",\"left_units\":\"screen\",\"level\":\"overlay\",\"line_alpha\":1.0,\"line_color\":\"black\",\"line_dash\":[4,4],\"line_width\":2,\"right_units\":\"screen\",\"top_units\":\"screen\"},\"id\":\"1695\",\"type\":\"BoxAnnotation\"},{\"attributes\":{},\"id\":\"1689\",\"type\":\"PanTool\"},{\"attributes\":{\"fill_alpha\":{\"value\":0.1},\"fill_color\":{\"value\":\"#FDE724\"},\"height\":{\"value\":0.8},\"left\":{\"expr\":{\"id\":\"1705\"}},\"line_alpha\":{\"value\":0.1},\"line_color\":{\"value\":\"#FDE724\"},\"line_width\":{\"value\":2},\"right\":{\"expr\":{\"id\":\"1706\"}},\"y\":{\"field\":\"__x__values\"}},\"id\":\"1711\",\"type\":\"HBar\"},{\"attributes\":{},\"id\":\"1690\",\"type\":\"WheelZoomTool\"},{\"attributes\":{\"fields\":[\"Member\"]},\"id\":\"1706\",\"type\":\"Stack\"},{\"attributes\":{},\"id\":\"1720\",\"type\":\"Selection\"},{\"attributes\":{\"overlay\":{\"id\":\"1695\"}},\"id\":\"1691\",\"type\":\"BoxZoomTool\"},{\"attributes\":{\"items\":[{\"id\":\"1722\"},{\"id\":\"1735\"}]},\"id\":\"1721\",\"type\":\"Legend\"},{\"attributes\":{\"data\":{\"Member\":{\"__ndarray__\":\"AAAAAAD6o0AAAAAAACqlQAAAAAAA9KNA\",\"dtype\":\"float64\",\"order\":\"little\",\"shape\":[3]},\"Normal\":{\"__ndarray__\":\"AAAAAACIo0AAAAAAAPqjQAAAAAAAjqNA\",\"dtype\":\"float64\",\"order\":\"little\",\"shape\":[3]},\"__x__values\":[0,1,2],\"__x__values_original\":[\"Mandalay\",\"Naypyitaw\",\"Yangon\"]},\"selected\":{\"id\":\"1720\"},\"selection_policy\":{\"id\":\"1719\"}},\"id\":\"1669\",\"type\":\"ColumnDataSource\"},{\"attributes\":{},\"id\":\"1692\",\"type\":\"SaveTool\"},{\"attributes\":{\"label\":{\"value\":\"Member\"},\"renderers\":[{\"id\":\"1712\"}]},\"id\":\"1722\",\"type\":\"LegendItem\"},{\"attributes\":{\"fields\":[\"Member\"]},\"id\":\"1707\",\"type\":\"Stack\"},{\"attributes\":{},\"id\":\"1693\",\"type\":\"ResetTool\"},{\"attributes\":{\"text\":\"Revenue by City and Customer type.\"},\"id\":\"1671\",\"type\":\"Title\"},{\"attributes\":{},\"id\":\"1694\",\"type\":\"HelpTool\"},{\"attributes\":{},\"id\":\"1673\",\"type\":\"DataRange1d\"},{\"attributes\":{\"data_source\":{\"id\":\"1669\"},\"glyph\":{\"id\":\"1724\"},\"hover_glyph\":null,\"muted_glyph\":null,\"name\":\"Normal\",\"nonselection_glyph\":{\"id\":\"1725\"},\"selection_glyph\":null,\"view\":{\"id\":\"1727\"}},\"id\":\"1726\",\"type\":\"GlyphRenderer\"},{\"attributes\":{\"active_drag\":\"auto\",\"active_inspect\":\"auto\",\"active_multi\":null,\"active_scroll\":{\"id\":\"1690\"},\"active_tap\":\"auto\",\"tools\":[{\"id\":\"1689\"},{\"id\":\"1690\"},{\"id\":\"1691\"},{\"id\":\"1692\"},{\"id\":\"1693\"},{\"id\":\"1694\"},{\"id\":\"1736\"}]},\"id\":\"1696\",\"type\":\"Toolbar\"},{\"attributes\":{},\"id\":\"1675\",\"type\":\"DataRange1d\"},{\"attributes\":{\"fill_color\":{\"value\":\"#D01C8B\"},\"height\":{\"value\":0.8},\"left\":{\"expr\":{\"id\":\"1707\"}},\"line_color\":{\"value\":\"#D01C8B\"},\"line_width\":{\"value\":2},\"right\":{\"expr\":{\"id\":\"1708\"}},\"y\":{\"field\":\"__x__values\"}},\"id\":\"1724\",\"type\":\"HBar\"},{\"attributes\":{\"label\":{\"value\":\"Normal\"},\"renderers\":[{\"id\":\"1726\"}]},\"id\":\"1735\",\"type\":\"LegendItem\"}],\"root_ids\":[\"1670\"]},\"title\":\"Bokeh Application\",\"version\":\"2.1.1\"}};\n",
       "  var render_items = [{\"docid\":\"e956a756-6c57-4b1c-94cb-0df5f7100284\",\"root_ids\":[\"1670\"],\"roots\":{\"1670\":\"32c8099b-71a1-4565-8433-356c47ace16a\"}}];\n",
       "  root.Bokeh.embed.embed_items_notebook(docs_json, render_items);\n",
       "\n",
       "  }\n",
       "  if (root.Bokeh !== undefined) {\n",
       "    embed_document(root);\n",
       "  } else {\n",
       "    var attempts = 0;\n",
       "    var timer = setInterval(function(root) {\n",
       "      if (root.Bokeh !== undefined) {\n",
       "        clearInterval(timer);\n",
       "        embed_document(root);\n",
       "      } else {\n",
       "        attempts++;\n",
       "        if (attempts > 100) {\n",
       "          clearInterval(timer);\n",
       "          console.log(\"Bokeh: ERROR: Unable to run BokehJS code because BokehJS library is missing\");\n",
       "        }\n",
       "      }\n",
       "    }, 10, root)\n",
       "  }\n",
       "})(window);"
      ],
      "application/vnd.bokehjs_exec.v0+json": ""
     },
     "metadata": {
      "application/vnd.bokehjs_exec.v0+json": {
       "id": "1670"
      }
     },
     "output_type": "display_data"
    }
   ],
   "source": [
    "# plot 4- stacked bar chart\n",
    "p_stack = total_customer.plot_bokeh(kind='barh', stacked=True, title='Revenue by City and Customer type.', colormap=colors, show_figure=True)"
   ]
  },
  {
   "cell_type": "code",
   "execution_count": 21,
   "metadata": {},
   "outputs": [
    {
     "name": "stdout",
     "output_type": "stream",
     "text": [
      "__x__values_original\n"
     ]
    },
    {
     "data": {
      "text/html": [
       "\n",
       "\n",
       "\n",
       "\n",
       "\n",
       "\n",
       "  <div class=\"bk-root\" id=\"b1f69531-1f24-4faa-900f-7368e80981a0\" data-root-id=\"1850\"></div>\n"
      ]
     },
     "metadata": {},
     "output_type": "display_data"
    },
    {
     "data": {
      "application/javascript": [
       "(function(root) {\n",
       "  function embed_document(root) {\n",
       "    \n",
       "  var docs_json = {\"e5ee97d2-5067-429f-a235-5573325129ad\":{\"roots\":{\"references\":[{\"attributes\":{\"below\":[{\"id\":\"1861\"}],\"center\":[{\"id\":\"1864\"},{\"id\":\"1868\"},{\"id\":\"1899\"}],\"left\":[{\"id\":\"1865\"}],\"plot_height\":400,\"renderers\":[{\"id\":\"1889\"}],\"title\":{\"id\":\"1851\"},\"toolbar\":{\"id\":\"1876\"},\"toolbar_location\":null,\"x_range\":{\"id\":\"1853\"},\"x_scale\":{\"id\":\"1857\"},\"y_range\":{\"id\":\"1855\"},\"y_scale\":{\"id\":\"1859\"}},\"id\":\"1850\",\"subtype\":\"Figure\",\"type\":\"Plot\"},{\"attributes\":{\"axis\":{\"id\":\"1861\"},\"grid_line_color\":null,\"ticker\":null},\"id\":\"1864\",\"type\":\"Grid\"},{\"attributes\":{},\"id\":\"1859\",\"type\":\"LinearScale\"},{\"attributes\":{\"end\":2,\"start\":-1.65},\"id\":\"1853\",\"type\":\"Range1d\"},{\"attributes\":{\"source\":{\"id\":\"1885\"}},\"id\":\"1890\",\"type\":\"CDSView\"},{\"attributes\":{},\"id\":\"1874\",\"type\":\"HelpTool\"},{\"attributes\":{},\"id\":\"1895\",\"type\":\"BasicTickFormatter\"},{\"attributes\":{\"axis\":{\"id\":\"1865\"},\"dimension\":1,\"grid_line_color\":null,\"ticker\":null},\"id\":\"1868\",\"type\":\"Grid\"},{\"attributes\":{\"text\":\"Total sales by products line.\"},\"id\":\"1851\",\"type\":\"Title\"},{\"attributes\":{\"data\":{\"Total\":{\"__ndarray__\":\"u0kMAjGI6kA9CtejPITqQLtJDAIbautA+lPjpTcF6ECpxks3vUzqQMQgsHJa6upA\",\"dtype\":\"float64\",\"order\":\"little\",\"shape\":[6]},\"Total_angle\":{\"__ndarray__\":\"ke0auPDp8D+/JcRYa+fwP1srvzL1efE/SH1rqhqg7j9Bge9ICsTwP8s1TW+EKPE/\",\"dtype\":\"float64\",\"order\":\"little\",\"shape\":[6]},\"__x__values\":[\"Electronics\",\"Fashion\",\"Food\",\"Health\",\"Home\",\"Sports\"],\"__x__values_original\":[\"Electronics\",\"Fashion\",\"Food\",\"Health\",\"Home\",\"Sports\"],\"color\":[\"#1f77b4\",\"#ff7f0e\",\"#2ca02c\",\"#d62728\",\"#9467bd\",\"#8c564b\"],\"inner_radius\":[0.0,0.0,0.0,0.0,0.0,0.0],\"outer_radius\":[0.9,0.9,0.9,0.9,0.9,0.9]},\"selected\":{\"id\":\"1898\"},\"selection_policy\":{\"id\":\"1897\"}},\"id\":\"1885\",\"type\":\"ColumnDataSource\"},{\"attributes\":{\"axis_label\":null,\"formatter\":{\"id\":\"1893\"},\"ticker\":{\"id\":\"1866\"},\"visible\":false},\"id\":\"1865\",\"type\":\"LinearAxis\"},{\"attributes\":{\"callback\":null,\"renderers\":[{\"id\":\"1889\"}],\"tooltips\":[[\"Product line\",\"@__x__values_original\"],[\"Total\",\"@{Total}\"]]},\"id\":\"1901\",\"type\":\"HoverTool\"},{\"attributes\":{},\"id\":\"1893\",\"type\":\"BasicTickFormatter\"},{\"attributes\":{},\"id\":\"1872\",\"type\":\"SaveTool\"},{\"attributes\":{},\"id\":\"1897\",\"type\":\"UnionRenderers\"},{\"attributes\":{\"overlay\":{\"id\":\"1875\"}},\"id\":\"1871\",\"type\":\"BoxZoomTool\"},{\"attributes\":{\"axis_label\":null,\"formatter\":{\"id\":\"1895\"},\"ticker\":{\"id\":\"1903\"},\"visible\":false},\"id\":\"1861\",\"type\":\"LinearAxis\"},{\"attributes\":{},\"id\":\"1898\",\"type\":\"Selection\"},{\"attributes\":{},\"id\":\"1873\",\"type\":\"ResetTool\"},{\"attributes\":{\"items\":[{\"id\":\"1900\"}]},\"id\":\"1899\",\"type\":\"Legend\"},{\"attributes\":{\"end\":1.2,\"start\":-1.2},\"id\":\"1855\",\"type\":\"Range1d\"},{\"attributes\":{},\"id\":\"1870\",\"type\":\"WheelZoomTool\"},{\"attributes\":{\"label\":{\"field\":\"__x__values_original\"},\"renderers\":[{\"id\":\"1889\"}]},\"id\":\"1900\",\"type\":\"LegendItem\"},{\"attributes\":{},\"id\":\"1857\",\"type\":\"LinearScale\"},{\"attributes\":{},\"id\":\"1869\",\"type\":\"PanTool\"},{\"attributes\":{},\"id\":\"1866\",\"type\":\"BasicTicker\"},{\"attributes\":{\"field\":\"Total_angle\",\"include_zero\":true},\"id\":\"1883\",\"type\":\"CumSum\"},{\"attributes\":{\"field\":\"Total_angle\"},\"id\":\"1884\",\"type\":\"CumSum\"},{\"attributes\":{\"bottom_units\":\"screen\",\"fill_alpha\":0.5,\"fill_color\":\"lightgrey\",\"left_units\":\"screen\",\"level\":\"overlay\",\"line_alpha\":1.0,\"line_color\":\"black\",\"line_dash\":[4,4],\"line_width\":2,\"right_units\":\"screen\",\"top_units\":\"screen\"},\"id\":\"1875\",\"type\":\"BoxAnnotation\"},{\"attributes\":{\"ticks\":[0,1,2,3,4,5]},\"id\":\"1903\",\"type\":\"FixedTicker\"},{\"attributes\":{\"end_angle\":{\"expr\":{\"id\":\"1884\"},\"units\":\"rad\"},\"fill_color\":{\"field\":\"color\"},\"inner_radius\":{\"field\":\"inner_radius\",\"units\":\"data\"},\"line_color\":{\"value\":\"white\"},\"line_width\":{\"value\":2},\"outer_radius\":{\"field\":\"outer_radius\",\"units\":\"data\"},\"start_angle\":{\"expr\":{\"id\":\"1883\"},\"units\":\"rad\"},\"x\":{\"value\":0},\"y\":{\"value\":0}},\"id\":\"1887\",\"type\":\"AnnularWedge\"},{\"attributes\":{\"end_angle\":{\"expr\":{\"id\":\"1884\"},\"units\":\"rad\"},\"fill_alpha\":{\"value\":0.1},\"fill_color\":{\"field\":\"color\"},\"inner_radius\":{\"field\":\"inner_radius\",\"units\":\"data\"},\"line_alpha\":{\"value\":0.1},\"line_color\":{\"value\":\"white\"},\"line_width\":{\"value\":2},\"outer_radius\":{\"field\":\"outer_radius\",\"units\":\"data\"},\"start_angle\":{\"expr\":{\"id\":\"1883\"},\"units\":\"rad\"},\"x\":{\"value\":0},\"y\":{\"value\":0}},\"id\":\"1888\",\"type\":\"AnnularWedge\"},{\"attributes\":{\"active_drag\":\"auto\",\"active_inspect\":\"auto\",\"active_multi\":null,\"active_scroll\":\"auto\",\"active_tap\":\"auto\",\"tools\":[{\"id\":\"1869\"},{\"id\":\"1870\"},{\"id\":\"1871\"},{\"id\":\"1872\"},{\"id\":\"1873\"},{\"id\":\"1874\"},{\"id\":\"1901\"}]},\"id\":\"1876\",\"type\":\"Toolbar\"},{\"attributes\":{\"data_source\":{\"id\":\"1885\"},\"glyph\":{\"id\":\"1887\"},\"hover_glyph\":null,\"muted_glyph\":null,\"nonselection_glyph\":{\"id\":\"1888\"},\"selection_glyph\":null,\"view\":{\"id\":\"1890\"}},\"id\":\"1889\",\"type\":\"GlyphRenderer\"}],\"root_ids\":[\"1850\"]},\"title\":\"Bokeh Application\",\"version\":\"2.1.1\"}};\n",
       "  var render_items = [{\"docid\":\"e5ee97d2-5067-429f-a235-5573325129ad\",\"root_ids\":[\"1850\"],\"roots\":{\"1850\":\"b1f69531-1f24-4faa-900f-7368e80981a0\"}}];\n",
       "  root.Bokeh.embed.embed_items_notebook(docs_json, render_items);\n",
       "\n",
       "  }\n",
       "  if (root.Bokeh !== undefined) {\n",
       "    embed_document(root);\n",
       "  } else {\n",
       "    var attempts = 0;\n",
       "    var timer = setInterval(function(root) {\n",
       "      if (root.Bokeh !== undefined) {\n",
       "        clearInterval(timer);\n",
       "        embed_document(root);\n",
       "      } else {\n",
       "        attempts++;\n",
       "        if (attempts > 100) {\n",
       "          clearInterval(timer);\n",
       "          console.log(\"Bokeh: ERROR: Unable to run BokehJS code because BokehJS library is missing\");\n",
       "        }\n",
       "      }\n",
       "    }, 10, root)\n",
       "  }\n",
       "})(window);"
      ],
      "application/vnd.bokehjs_exec.v0+json": ""
     },
     "metadata": {
      "application/vnd.bokehjs_exec.v0+json": {
       "id": "1850"
      }
     },
     "output_type": "display_data"
    }
   ],
   "source": [
    "# plot 5- pie chart\n",
    "p_pie = df.groupby([\"Product line\"])[\"Total\"].sum().plot_bokeh(kind='pie', y='Total', title='Total sales by products line.',show_figure=True) "
   ]
  },
  {
   "cell_type": "code",
   "execution_count": 22,
   "metadata": {},
   "outputs": [
    {
     "data": {
      "text/html": [
       "\n",
       "\n",
       "\n",
       "\n",
       "\n",
       "\n",
       "  <div class=\"bk-root\" id=\"900d612b-ded3-4bdf-8390-ef7b47693e72\" data-root-id=\"2029\"></div>\n"
      ]
     },
     "metadata": {},
     "output_type": "display_data"
    },
    {
     "data": {
      "application/javascript": [
       "(function(root) {\n",
       "  function embed_document(root) {\n",
       "    \n",
       "  var docs_json = {\"1a17e0a0-7fc5-430c-944c-5006007b4a46\":{\"roots\":{\"references\":[{\"attributes\":{\"below\":[{\"id\":\"2040\"}],\"center\":[{\"id\":\"2043\"},{\"id\":\"2047\"},{\"id\":\"2078\"}],\"left\":[{\"id\":\"2044\"}],\"output_backend\":\"webgl\",\"plot_height\":400,\"renderers\":[{\"id\":\"2069\"}],\"sizing_mode\":\"fixed\",\"title\":{\"id\":\"2030\"},\"toolbar\":{\"id\":\"2055\"},\"x_range\":{\"id\":\"2032\"},\"x_scale\":{\"id\":\"2036\"},\"y_range\":{\"id\":\"2034\"},\"y_scale\":{\"id\":\"2038\"}},\"id\":\"2029\",\"subtype\":\"Figure\",\"type\":\"Plot\"},{\"attributes\":{\"axis_label\":\"gross income\",\"formatter\":{\"id\":\"2074\"},\"ticker\":{\"id\":\"2041\"}},\"id\":\"2040\",\"type\":\"LinearAxis\"},{\"attributes\":{\"bottom_units\":\"screen\",\"fill_alpha\":0.5,\"fill_color\":\"lightgrey\",\"left_units\":\"screen\",\"level\":\"overlay\",\"line_alpha\":1.0,\"line_color\":\"black\",\"line_dash\":[4,4],\"line_width\":2,\"right_units\":\"screen\",\"top_units\":\"screen\"},\"id\":\"2054\",\"type\":\"BoxAnnotation\"},{\"attributes\":{},\"id\":\"2041\",\"type\":\"BasicTicker\"},{\"attributes\":{\"fields\":[\"gross income\"]},\"id\":\"2065\",\"type\":\"Stack\"},{\"attributes\":{},\"id\":\"2034\",\"type\":\"DataRange1d\"},{\"attributes\":{\"axis\":{\"id\":\"2040\"},\"ticker\":null},\"id\":\"2043\",\"type\":\"Grid\"},{\"attributes\":{\"axis_label\":\"Product line\",\"formatter\":{\"id\":\"2062\"},\"ticker\":{\"id\":\"2082\"}},\"id\":\"2044\",\"type\":\"LinearAxis\"},{\"attributes\":{},\"id\":\"2036\",\"type\":\"LinearScale\"},{\"attributes\":{\"data_source\":{\"id\":\"2028\"},\"glyph\":{\"id\":\"2067\"},\"hover_glyph\":null,\"muted_glyph\":null,\"name\":\"gross income\",\"nonselection_glyph\":{\"id\":\"2068\"},\"selection_glyph\":null,\"view\":{\"id\":\"2070\"}},\"id\":\"2069\",\"type\":\"GlyphRenderer\"},{\"attributes\":{\"fill_color\":{\"value\":\"#4DAC26\"},\"height\":{\"value\":0.8},\"left\":{\"expr\":{\"id\":\"2064\"}},\"line_color\":{\"value\":\"#4DAC26\"},\"line_width\":{\"value\":2},\"right\":{\"expr\":{\"id\":\"2065\"}},\"y\":{\"field\":\"__x__values\"}},\"id\":\"2067\",\"type\":\"HBar\"},{\"attributes\":{\"axis\":{\"id\":\"2044\"},\"dimension\":1,\"ticker\":null},\"id\":\"2047\",\"type\":\"Grid\"},{\"attributes\":{},\"id\":\"2076\",\"type\":\"UnionRenderers\"},{\"attributes\":{},\"id\":\"2074\",\"type\":\"BasicTickFormatter\"},{\"attributes\":{\"fields\":[]},\"id\":\"2064\",\"type\":\"Stack\"},{\"attributes\":{\"callback\":null,\"mode\":\"hline\",\"renderers\":[{\"id\":\"2069\"}],\"tooltips\":[[\"Product line\",\"@__x__values_original\"],[\"gross income\",\"@{gross income}\"]]},\"id\":\"2080\",\"type\":\"HoverTool\"},{\"attributes\":{\"source\":{\"id\":\"2028\"}},\"id\":\"2070\",\"type\":\"CDSView\"},{\"attributes\":{\"code\":\"\\n                                    var labels = {0: 'Health', 1: 'Home', 2: 'Fashion', 3: 'Electronics', 4: 'Sports', 5: 'Food'};\\n                                    return labels[tick];\\n                                    \"},\"id\":\"2062\",\"type\":\"FuncTickFormatter\"},{\"attributes\":{\"fill_alpha\":{\"value\":0.1},\"fill_color\":{\"value\":\"#4DAC26\"},\"height\":{\"value\":0.8},\"left\":{\"expr\":{\"id\":\"2064\"}},\"line_alpha\":{\"value\":0.1},\"line_color\":{\"value\":\"#4DAC26\"},\"line_width\":{\"value\":2},\"right\":{\"expr\":{\"id\":\"2065\"}},\"y\":{\"field\":\"__x__values\"}},\"id\":\"2068\",\"type\":\"HBar\"},{\"attributes\":{},\"id\":\"2048\",\"type\":\"PanTool\"},{\"attributes\":{},\"id\":\"2077\",\"type\":\"Selection\"},{\"attributes\":{},\"id\":\"2049\",\"type\":\"WheelZoomTool\"},{\"attributes\":{\"items\":[{\"id\":\"2079\"}],\"visible\":false},\"id\":\"2078\",\"type\":\"Legend\"},{\"attributes\":{\"overlay\":{\"id\":\"2054\"}},\"id\":\"2050\",\"type\":\"BoxZoomTool\"},{\"attributes\":{\"label\":{\"value\":\"gross income\"},\"renderers\":[{\"id\":\"2069\"}]},\"id\":\"2079\",\"type\":\"LegendItem\"},{\"attributes\":{},\"id\":\"2051\",\"type\":\"SaveTool\"},{\"attributes\":{\"data\":{\"__x__values\":[0,1,2,3,4,5],\"__x__values_original\":[\"Health\",\"Home\",\"Fashion\",\"Electronics\",\"Sports\",\"Food\"],\"gross income\":{\"__ndarray__\":\"7Hw/NR5NokD+fmq8tAmkQArXo3D9M6RA56WbxAA3pEC5SQwCy4GkQOKlm8Qg46RA\",\"dtype\":\"float64\",\"order\":\"little\",\"shape\":[6]}},\"selected\":{\"id\":\"2077\"},\"selection_policy\":{\"id\":\"2076\"}},\"id\":\"2028\",\"type\":\"ColumnDataSource\"},{\"attributes\":{},\"id\":\"2052\",\"type\":\"ResetTool\"},{\"attributes\":{\"text\":\"The products which generate the most revenue.\"},\"id\":\"2030\",\"type\":\"Title\"},{\"attributes\":{},\"id\":\"2038\",\"type\":\"LinearScale\"},{\"attributes\":{},\"id\":\"2032\",\"type\":\"DataRange1d\"},{\"attributes\":{},\"id\":\"2053\",\"type\":\"HelpTool\"},{\"attributes\":{\"ticks\":[0,1,2,3,4,5]},\"id\":\"2082\",\"type\":\"FixedTicker\"},{\"attributes\":{\"active_drag\":\"auto\",\"active_inspect\":\"auto\",\"active_multi\":null,\"active_scroll\":{\"id\":\"2049\"},\"active_tap\":\"auto\",\"tools\":[{\"id\":\"2048\"},{\"id\":\"2049\"},{\"id\":\"2050\"},{\"id\":\"2051\"},{\"id\":\"2052\"},{\"id\":\"2053\"},{\"id\":\"2080\"}]},\"id\":\"2055\",\"type\":\"Toolbar\"}],\"root_ids\":[\"2029\"]},\"title\":\"Bokeh Application\",\"version\":\"2.1.1\"}};\n",
       "  var render_items = [{\"docid\":\"1a17e0a0-7fc5-430c-944c-5006007b4a46\",\"root_ids\":[\"2029\"],\"roots\":{\"2029\":\"900d612b-ded3-4bdf-8390-ef7b47693e72\"}}];\n",
       "  root.Bokeh.embed.embed_items_notebook(docs_json, render_items);\n",
       "\n",
       "  }\n",
       "  if (root.Bokeh !== undefined) {\n",
       "    embed_document(root);\n",
       "  } else {\n",
       "    var attempts = 0;\n",
       "    var timer = setInterval(function(root) {\n",
       "      if (root.Bokeh !== undefined) {\n",
       "        clearInterval(timer);\n",
       "        embed_document(root);\n",
       "      } else {\n",
       "        attempts++;\n",
       "        if (attempts > 100) {\n",
       "          clearInterval(timer);\n",
       "          console.log(\"Bokeh: ERROR: Unable to run BokehJS code because BokehJS library is missing\");\n",
       "        }\n",
       "      }\n",
       "    }, 10, root)\n",
       "  }\n",
       "})(window);"
      ],
      "application/vnd.bokehjs_exec.v0+json": ""
     },
     "metadata": {
      "application/vnd.bokehjs_exec.v0+json": {
       "id": "2029"
      }
     },
     "output_type": "display_data"
    }
   ],
   "source": [
    "# plot 6 - stacked bar chart\n",
    "p_stack2 = product.plot_bokeh(kind='barh', stacked=True, color='#4DAC26',legend=False, title='The products which generate the most revenue.', show_figure=True)"
   ]
  },
  {
   "cell_type": "markdown",
   "metadata": {},
   "source": [
    "Now we make Dashboard with Grid Layout: "
   ]
  },
  {
   "cell_type": "code",
   "execution_count": 24,
   "metadata": {},
   "outputs": [],
   "source": [
    "# Save the dashboard\n",
    "output_file('sales.html')"
   ]
  },
  {
   "cell_type": "code",
   "execution_count": 25,
   "metadata": {},
   "outputs": [
    {
     "data": {
      "text/html": [
       "\n",
       "\n",
       "\n",
       "\n",
       "\n",
       "\n",
       "  <div class=\"bk-root\" id=\"32cbbcc2-6fca-4b64-98ea-547e91bd6ae7\" data-root-id=\"2713\"></div>\n"
      ]
     },
     "metadata": {},
     "output_type": "display_data"
    },
    {
     "data": {
      "application/javascript": [
       "(function(root) {\n",
       "  function embed_document(root) {\n",
       "    \n",
       "  var docs_json = {\"b2b404db-13cc-41c8-8d4f-e7a2ac695cef\":{\"roots\":{\"references\":[{\"attributes\":{\"children\":[{\"id\":\"2712\"},{\"id\":\"2710\"}]},\"id\":\"2713\",\"type\":\"Column\"},{\"attributes\":{},\"id\":\"1453\",\"type\":\"SaveTool\"},{\"attributes\":{\"source\":{\"id\":\"1885\"}},\"id\":\"1890\",\"type\":\"CDSView\"},{\"attributes\":{},\"id\":\"1454\",\"type\":\"ResetTool\"},{\"attributes\":{},\"id\":\"2034\",\"type\":\"DataRange1d\"},{\"attributes\":{\"axis_label\":\"Date\",\"formatter\":{\"id\":\"1093\"},\"ticker\":{\"id\":\"1014\"}},\"id\":\"1013\",\"type\":\"DatetimeAxis\"},{\"attributes\":{},\"id\":\"1895\",\"type\":\"BasicTickFormatter\"},{\"attributes\":{},\"id\":\"1455\",\"type\":\"HelpTool\"},{\"attributes\":{},\"id\":\"1089\",\"type\":\"UnionRenderers\"},{\"attributes\":{},\"id\":\"1007\",\"type\":\"DataRange1d\"},{\"attributes\":{\"fill_alpha\":{\"value\":0.1},\"fill_color\":{\"value\":\"#ff7f0e\"},\"line_alpha\":{\"value\":0.1},\"line_color\":{\"value\":\"#ff7f0e\"},\"line_width\":{\"value\":2},\"top\":{\"field\":\"Fashion\"},\"width\":{\"value\":0.09090909090909091},\"x\":{\"field\":\"__x__values\",\"transform\":{\"id\":\"1483\"}}},\"id\":\"1486\",\"type\":\"VBar\"},{\"attributes\":{\"callback\":null,\"renderers\":[{\"id\":\"1889\"}],\"tooltips\":[[\"Product line\",\"@__x__values_original\"],[\"Total\",\"@{Total}\"]]},\"id\":\"1901\",\"type\":\"HoverTool\"},{\"attributes\":{\"active_drag\":\"auto\",\"active_inspect\":\"auto\",\"active_multi\":null,\"active_scroll\":{\"id\":\"1451\"},\"active_tap\":\"auto\",\"tools\":[{\"id\":\"1450\"},{\"id\":\"1451\"},{\"id\":\"1452\"},{\"id\":\"1453\"},{\"id\":\"1454\"},{\"id\":\"1455\"},{\"id\":\"1481\"},{\"id\":\"1497\"},{\"id\":\"1513\"},{\"id\":\"1529\"},{\"id\":\"1545\"},{\"id\":\"1561\"}]},\"id\":\"1457\",\"type\":\"Toolbar\"},{\"attributes\":{\"source\":{\"id\":\"1430\"}},\"id\":\"1488\",\"type\":\"CDSView\"},{\"attributes\":{},\"id\":\"2076\",\"type\":\"UnionRenderers\"},{\"attributes\":{},\"id\":\"1898\",\"type\":\"Selection\"},{\"attributes\":{\"items\":[{\"id\":\"1900\"}]},\"id\":\"1899\",\"type\":\"Legend\"},{\"attributes\":{\"label\":{\"field\":\"__x__values_original\"},\"renderers\":[{\"id\":\"1889\"}]},\"id\":\"1900\",\"type\":\"LegendItem\"},{\"attributes\":{\"text\":\"Sales by Product line and Gender.\"},\"id\":\"1432\",\"type\":\"Title\"},{\"attributes\":{\"bottom_units\":\"screen\",\"fill_alpha\":0.5,\"fill_color\":\"lightgrey\",\"left_units\":\"screen\",\"level\":\"overlay\",\"line_alpha\":1.0,\"line_color\":\"black\",\"line_dash\":[4,4],\"line_width\":2,\"right_units\":\"screen\",\"top_units\":\"screen\"},\"id\":\"1695\",\"type\":\"BoxAnnotation\"},{\"attributes\":{\"label\":{\"value\":\" Fashion\"},\"renderers\":[{\"id\":\"1487\"}]},\"id\":\"1496\",\"type\":\"LegendItem\"},{\"attributes\":{\"source\":{\"id\":\"1430\"}},\"id\":\"1520\",\"type\":\"CDSView\"},{\"attributes\":{\"below\":[{\"id\":\"1442\"}],\"center\":[{\"id\":\"1445\"},{\"id\":\"1449\"},{\"id\":\"1479\"}],\"left\":[{\"id\":\"1446\"}],\"output_backend\":\"webgl\",\"plot_height\":400,\"plot_width\":400,\"renderers\":[{\"id\":\"1470\"},{\"id\":\"1487\"},{\"id\":\"1503\"},{\"id\":\"1519\"},{\"id\":\"1535\"},{\"id\":\"1551\"}],\"sizing_mode\":\"fixed\",\"title\":{\"id\":\"1432\"},\"toolbar\":{\"id\":\"1457\"},\"toolbar_location\":null,\"x_range\":{\"id\":\"1434\"},\"x_scale\":{\"id\":\"1438\"},\"y_range\":{\"id\":\"1436\"},\"y_scale\":{\"id\":\"1440\"}},\"id\":\"1431\",\"subtype\":\"Figure\",\"type\":\"Plot\"},{\"attributes\":{\"below\":[{\"id\":\"1013\"}],\"center\":[{\"id\":\"1016\"},{\"id\":\"1020\"},{\"id\":\"1061\"}],\"left\":[{\"id\":\"1017\"}],\"output_backend\":\"webgl\",\"plot_height\":400,\"plot_width\":400,\"renderers\":[{\"id\":\"1039\"},{\"id\":\"1067\"}],\"sizing_mode\":\"fixed\",\"title\":{\"id\":\"1003\"},\"toolbar\":{\"id\":\"1028\"},\"toolbar_location\":null,\"x_range\":{\"id\":\"1005\"},\"x_scale\":{\"id\":\"1009\"},\"y_range\":{\"id\":\"1007\"},\"y_scale\":{\"id\":\"1011\"}},\"id\":\"1002\",\"subtype\":\"Figure\",\"type\":\"Plot\"},{\"attributes\":{\"line_alpha\":0.1,\"line_color\":\"#d01c8b\",\"line_width\":2,\"x\":{\"field\":\"__x__values\"},\"y\":{\"field\":\"Total\"}},\"id\":\"1038\",\"type\":\"Line\"},{\"attributes\":{\"text\":\"7-day moving average of daily sales.\"},\"id\":\"1003\",\"type\":\"Title\"},{\"attributes\":{\"fields\":[\"Member\"]},\"id\":\"1706\",\"type\":\"Stack\"},{\"attributes\":{\"below\":[{\"id\":\"2040\"}],\"center\":[{\"id\":\"2043\"},{\"id\":\"2047\"},{\"id\":\"2078\"}],\"left\":[{\"id\":\"2044\"}],\"output_backend\":\"webgl\",\"plot_height\":400,\"plot_width\":400,\"renderers\":[{\"id\":\"2069\"}],\"sizing_mode\":\"fixed\",\"title\":{\"id\":\"2030\"},\"toolbar\":{\"id\":\"2055\"},\"toolbar_location\":null,\"x_range\":{\"id\":\"2032\"},\"x_scale\":{\"id\":\"2036\"},\"y_range\":{\"id\":\"2034\"},\"y_scale\":{\"id\":\"2038\"}},\"id\":\"2029\",\"subtype\":\"Figure\",\"type\":\"Plot\"},{\"attributes\":{\"bottom_units\":\"screen\",\"fill_alpha\":0.5,\"fill_color\":\"lightgrey\",\"left_units\":\"screen\",\"level\":\"overlay\",\"line_alpha\":1.0,\"line_color\":\"black\",\"line_dash\":[4,4],\"line_width\":2,\"right_units\":\"screen\",\"top_units\":\"screen\"},\"id\":\"1456\",\"type\":\"BoxAnnotation\"},{\"attributes\":{\"data\":{\"__x__values\":[0,1,2,3,4,5],\"__x__values_original\":[\"Health\",\"Home\",\"Fashion\",\"Electronics\",\"Sports\",\"Food\"],\"gross income\":{\"__ndarray__\":\"7Hw/NR5NokD+fmq8tAmkQArXo3D9M6RA56WbxAA3pEC5SQwCy4GkQOKlm8Qg46RA\",\"dtype\":\"float64\",\"order\":\"little\",\"shape\":[6]}},\"selected\":{\"id\":\"2077\"},\"selection_policy\":{\"id\":\"2076\"}},\"id\":\"2028\",\"type\":\"ColumnDataSource\"},{\"attributes\":{},\"id\":\"1009\",\"type\":\"LinearScale\"},{\"attributes\":{\"range\":{\"id\":\"1434\"},\"value\":-0.25},\"id\":\"1466\",\"type\":\"Dodge\"},{\"attributes\":{\"below\":[{\"id\":\"1681\"}],\"center\":[{\"id\":\"1684\"},{\"id\":\"1688\"},{\"id\":\"1721\"}],\"left\":[{\"id\":\"1685\"}],\"output_backend\":\"webgl\",\"plot_height\":400,\"plot_width\":400,\"renderers\":[{\"id\":\"1712\"},{\"id\":\"1726\"}],\"sizing_mode\":\"fixed\",\"title\":{\"id\":\"1671\"},\"toolbar\":{\"id\":\"1696\"},\"toolbar_location\":null,\"x_range\":{\"id\":\"1673\"},\"x_scale\":{\"id\":\"1677\"},\"y_range\":{\"id\":\"1675\"},\"y_scale\":{\"id\":\"1679\"}},\"id\":\"1670\",\"subtype\":\"Figure\",\"type\":\"Plot\"},{\"attributes\":{\"text\":\"The products which generate the most revenue.\"},\"id\":\"2030\",\"type\":\"Title\"},{\"attributes\":{\"fill_color\":{\"value\":\"#ff7f0e\"},\"line_color\":{\"value\":\"#ff7f0e\"},\"line_width\":{\"value\":2},\"top\":{\"field\":\"Fashion\"},\"width\":{\"value\":0.09090909090909091},\"x\":{\"field\":\"__x__values\",\"transform\":{\"id\":\"1483\"}}},\"id\":\"1485\",\"type\":\"VBar\"},{\"attributes\":{},\"id\":\"2032\",\"type\":\"DataRange1d\"},{\"attributes\":{\"data_source\":{\"id\":\"1430\"},\"glyph\":{\"id\":\"1485\"},\"hover_glyph\":null,\"muted_glyph\":null,\"nonselection_glyph\":{\"id\":\"1486\"},\"selection_glyph\":null,\"view\":{\"id\":\"1488\"}},\"id\":\"1487\",\"type\":\"GlyphRenderer\"},{\"attributes\":{\"text\":\"Revenue by City and Customer type.\"},\"id\":\"1671\",\"type\":\"Title\"},{\"attributes\":{\"fill_color\":{\"value\":\"#1f77b4\"},\"line_color\":{\"value\":\"#1f77b4\"},\"line_width\":{\"value\":2},\"top\":{\"field\":\"Electronics\"},\"width\":{\"value\":0.09090909090909091},\"x\":{\"field\":\"__x__values\",\"transform\":{\"id\":\"1466\"}}},\"id\":\"1468\",\"type\":\"VBar\"},{\"attributes\":{\"data_source\":{\"id\":\"1430\"},\"glyph\":{\"id\":\"1468\"},\"hover_glyph\":null,\"muted_glyph\":null,\"nonselection_glyph\":{\"id\":\"1469\"},\"selection_glyph\":null,\"view\":{\"id\":\"1471\"}},\"id\":\"1470\",\"type\":\"GlyphRenderer\"},{\"attributes\":{},\"id\":\"1011\",\"type\":\"LinearScale\"},{\"attributes\":{},\"id\":\"1673\",\"type\":\"DataRange1d\"},{\"attributes\":{},\"id\":\"1675\",\"type\":\"DataRange1d\"},{\"attributes\":{},\"id\":\"1005\",\"type\":\"DataRange1d\"},{\"attributes\":{},\"id\":\"1677\",\"type\":\"LinearScale\"},{\"attributes\":{\"source\":{\"id\":\"1430\"}},\"id\":\"1471\",\"type\":\"CDSView\"},{\"attributes\":{},\"id\":\"1434\",\"type\":\"DataRange1d\"},{\"attributes\":{},\"id\":\"1474\",\"type\":\"BasicTickFormatter\"},{\"attributes\":{},\"id\":\"1679\",\"type\":\"LinearScale\"},{\"attributes\":{\"fill_alpha\":{\"value\":0.1},\"fill_color\":{\"value\":\"#1f77b4\"},\"line_alpha\":{\"value\":0.1},\"line_color\":{\"value\":\"#1f77b4\"},\"line_width\":{\"value\":2},\"top\":{\"field\":\"Electronics\"},\"width\":{\"value\":0.09090909090909091},\"x\":{\"field\":\"__x__values\",\"transform\":{\"id\":\"1466\"}}},\"id\":\"1469\",\"type\":\"VBar\"},{\"attributes\":{\"formatter\":{\"id\":\"1717\"},\"ticker\":{\"id\":\"1682\"}},\"id\":\"1681\",\"type\":\"LinearAxis\"},{\"attributes\":{},\"id\":\"1477\",\"type\":\"UnionRenderers\"},{\"attributes\":{\"num_minor_ticks\":5,\"tickers\":[{\"id\":\"1047\"},{\"id\":\"1048\"},{\"id\":\"1049\"},{\"id\":\"1050\"},{\"id\":\"1051\"},{\"id\":\"1052\"},{\"id\":\"1053\"},{\"id\":\"1054\"},{\"id\":\"1055\"},{\"id\":\"1056\"},{\"id\":\"1057\"},{\"id\":\"1058\"}]},\"id\":\"1014\",\"type\":\"DatetimeTicker\"},{\"attributes\":{},\"id\":\"1682\",\"type\":\"BasicTicker\"},{\"attributes\":{},\"id\":\"1478\",\"type\":\"Selection\"},{\"attributes\":{\"axis\":{\"id\":\"1013\"},\"ticker\":null},\"id\":\"1016\",\"type\":\"Grid\"},{\"attributes\":{\"click_policy\":\"hide\",\"items\":[{\"id\":\"1480\"},{\"id\":\"1496\"},{\"id\":\"1512\"},{\"id\":\"1528\"},{\"id\":\"1544\"},{\"id\":\"1560\"}],\"visible\":false},\"id\":\"1479\",\"type\":\"Legend\"},{\"attributes\":{\"axis\":{\"id\":\"1681\"},\"ticker\":null},\"id\":\"1684\",\"type\":\"Grid\"},{\"attributes\":{\"axis_label\":\"Total\",\"formatter\":{\"id\":\"1043\"},\"ticker\":{\"id\":\"1018\"}},\"id\":\"1017\",\"type\":\"LinearAxis\"},{\"attributes\":{},\"id\":\"1436\",\"type\":\"DataRange1d\"},{\"attributes\":{\"axis_label\":\"City\",\"formatter\":{\"id\":\"1703\"},\"ticker\":{\"id\":\"1738\"}},\"id\":\"1685\",\"type\":\"LinearAxis\"},{\"attributes\":{\"label\":{\"value\":\" Electronics\"},\"renderers\":[{\"id\":\"1470\"}]},\"id\":\"1480\",\"type\":\"LegendItem\"},{\"attributes\":{},\"id\":\"1018\",\"type\":\"BasicTicker\"},{\"attributes\":{\"callback\":null,\"mode\":\"vline\",\"renderers\":[{\"id\":\"1470\"}],\"tooltips\":[[\"Gender\",\"@__x__values_original\"],[\"Electronics\",\"@{Electronics}\"]]},\"id\":\"1481\",\"type\":\"HoverTool\"},{\"attributes\":{},\"id\":\"1438\",\"type\":\"LinearScale\"},{\"attributes\":{},\"id\":\"1893\",\"type\":\"BasicTickFormatter\"},{\"attributes\":{\"axis\":{\"id\":\"1017\"},\"dimension\":1,\"ticker\":null},\"id\":\"1020\",\"type\":\"Grid\"},{\"attributes\":{},\"id\":\"1897\",\"type\":\"UnionRenderers\"},{\"attributes\":{},\"id\":\"1440\",\"type\":\"LinearScale\"},{\"attributes\":{\"axis\":{\"id\":\"1685\"},\"dimension\":1,\"ticker\":null},\"id\":\"1688\",\"type\":\"Grid\"},{\"attributes\":{\"range\":{\"id\":\"1434\"},\"value\":-0.15},\"id\":\"1483\",\"type\":\"Dodge\"},{\"attributes\":{\"axis_label\":\"Gender\",\"formatter\":{\"id\":\"1464\"},\"ticker\":{\"id\":\"1563\"}},\"id\":\"1442\",\"type\":\"LinearAxis\"},{\"attributes\":{\"days\":[\"%d %B %Y\"],\"hours\":[\"%H:%M:%S\"],\"milliseconds\":[\"%H:%M:%S.%f\"],\"minutes\":[\"%H:%M:%S\"],\"months\":[\"%d %B %Y\"],\"seconds\":[\"%H:%M:%S\"],\"years\":[\"%d %B %Y\"]},\"id\":\"1093\",\"type\":\"DatetimeTickFormatter\"},{\"attributes\":{\"fields\":[]},\"id\":\"1705\",\"type\":\"Stack\"},{\"attributes\":{\"callback\":null,\"mode\":\"hline\",\"renderers\":[{\"id\":\"1726\"}],\"tooltips\":[[\"City\",\"@__x__values_original\"],[\"Member\",\"@{Member}\"],[\"Normal\",\"@{Normal}\"]]},\"id\":\"1736\",\"type\":\"HoverTool\"},{\"attributes\":{\"callback\":null,\"mode\":\"vline\",\"renderers\":[{\"id\":\"1487\"}],\"tooltips\":[[\"Gender\",\"@__x__values_original\"],[\"Fashion\",\"@{Fashion}\"]]},\"id\":\"1497\",\"type\":\"HoverTool\"},{\"attributes\":{\"code\":\"\\n                                    var labels = {0: 'Health', 1: 'Home', 2: 'Fashion', 3: 'Electronics', 4: 'Sports', 5: 'Food'};\\n                                    return labels[tick];\\n                                    \"},\"id\":\"2062\",\"type\":\"FuncTickFormatter\"},{\"attributes\":{\"code\":\"\\n                                    var labels = {0: 'Mandalay', 1: 'Naypyitaw', 2: 'Yangon'};\\n                                    return labels[tick];\\n                                    \"},\"id\":\"1703\",\"type\":\"FuncTickFormatter\"},{\"attributes\":{},\"id\":\"1021\",\"type\":\"PanTool\"},{\"attributes\":{\"axis\":{\"id\":\"1442\"},\"ticker\":null},\"id\":\"1445\",\"type\":\"Grid\"},{\"attributes\":{},\"id\":\"1689\",\"type\":\"PanTool\"},{\"attributes\":{\"range\":{\"id\":\"1434\"},\"value\":-0.04999999999999999},\"id\":\"1499\",\"type\":\"Dodge\"},{\"attributes\":{},\"id\":\"1022\",\"type\":\"WheelZoomTool\"},{\"attributes\":{\"formatter\":{\"id\":\"1474\"},\"ticker\":{\"id\":\"1447\"}},\"id\":\"1446\",\"type\":\"LinearAxis\"},{\"attributes\":{},\"id\":\"1690\",\"type\":\"WheelZoomTool\"},{\"attributes\":{\"overlay\":{\"id\":\"1027\"}},\"id\":\"1023\",\"type\":\"BoxZoomTool\"},{\"attributes\":{},\"id\":\"1447\",\"type\":\"BasicTicker\"},{\"attributes\":{\"overlay\":{\"id\":\"1695\"}},\"id\":\"1691\",\"type\":\"BoxZoomTool\"},{\"attributes\":{},\"id\":\"1024\",\"type\":\"SaveTool\"},{\"attributes\":{\"axis\":{\"id\":\"1446\"},\"dimension\":1,\"ticker\":null},\"id\":\"1449\",\"type\":\"Grid\"},{\"attributes\":{},\"id\":\"1692\",\"type\":\"SaveTool\"},{\"attributes\":{\"fill_color\":{\"value\":\"#2ca02c\"},\"line_color\":{\"value\":\"#2ca02c\"},\"line_width\":{\"value\":2},\"top\":{\"field\":\"Food\"},\"width\":{\"value\":0.09090909090909091},\"x\":{\"field\":\"__x__values\",\"transform\":{\"id\":\"1499\"}}},\"id\":\"1501\",\"type\":\"VBar\"},{\"attributes\":{},\"id\":\"1025\",\"type\":\"ResetTool\"},{\"attributes\":{\"data_source\":{\"id\":\"1430\"},\"glyph\":{\"id\":\"1501\"},\"hover_glyph\":null,\"muted_glyph\":null,\"nonselection_glyph\":{\"id\":\"1502\"},\"selection_glyph\":null,\"view\":{\"id\":\"1504\"}},\"id\":\"1503\",\"type\":\"GlyphRenderer\"},{\"attributes\":{\"fields\":[\"Member\"]},\"id\":\"1707\",\"type\":\"Stack\"},{\"attributes\":{},\"id\":\"1693\",\"type\":\"ResetTool\"},{\"attributes\":{},\"id\":\"1026\",\"type\":\"HelpTool\"},{\"attributes\":{},\"id\":\"1694\",\"type\":\"HelpTool\"},{\"attributes\":{\"code\":\"\\n                                    var labels = {0: 'Female', 1: 'Male'};\\n                                    return labels[tick];\\n                                    \"},\"id\":\"1464\",\"type\":\"FuncTickFormatter\"},{\"attributes\":{\"source\":{\"id\":\"1430\"}},\"id\":\"1504\",\"type\":\"CDSView\"},{\"attributes\":{\"line_color\":\"#d01c8b\",\"line_width\":2,\"x\":{\"field\":\"__x__values\"},\"y\":{\"field\":\"Total\"}},\"id\":\"1037\",\"type\":\"Line\"},{\"attributes\":{},\"id\":\"1450\",\"type\":\"PanTool\"},{\"attributes\":{\"label\":{\"value\":\" Food\"},\"renderers\":[{\"id\":\"1503\"}]},\"id\":\"1512\",\"type\":\"LegendItem\"},{\"attributes\":{\"ticks\":[0,1,2,3,4,5]},\"id\":\"1903\",\"type\":\"FixedTicker\"},{\"attributes\":{\"active_drag\":\"auto\",\"active_inspect\":\"auto\",\"active_multi\":null,\"active_scroll\":{\"id\":\"1022\"},\"active_tap\":\"auto\",\"tools\":[{\"id\":\"1021\"},{\"id\":\"1022\"},{\"id\":\"1023\"},{\"id\":\"1024\"},{\"id\":\"1025\"},{\"id\":\"1026\"},{\"id\":\"1091\"}]},\"id\":\"1028\",\"type\":\"Toolbar\"},{\"attributes\":{\"active_drag\":\"auto\",\"active_inspect\":\"auto\",\"active_multi\":null,\"active_scroll\":{\"id\":\"1690\"},\"active_tap\":\"auto\",\"tools\":[{\"id\":\"1689\"},{\"id\":\"1690\"},{\"id\":\"1691\"},{\"id\":\"1692\"},{\"id\":\"1693\"},{\"id\":\"1694\"},{\"id\":\"1736\"}]},\"id\":\"1696\",\"type\":\"Toolbar\"},{\"attributes\":{\"data\":{\"Total\":{\"__ndarray__\":\"AAAAAAAA+H8AAAAAAAD4fwAAAAAAAPh/AAAAAAAA+H8AAAAAAAD4fwAAAAAAAPh/khgEVi6+pkBbj8L16FqnQLlJDAJLjqhA+X5qvPQ1qkC4HoXrUcKqQDMzMzMzmaxAi2zn++lMq0Do+6nxcpCsQPHSTWJQSq1AZmZmZoa0rkAi2/l+Cj2uQFlkO98v+65AwyCwcgiurkC+nxovDQOwQFUOLbI9RK5AkO18P/WIqUDFSzeJIXCrQJ4aL92k9a1A4HoUrhcNsECtcmiRjZevQEgMAivXV7BABIGVQ1vMsUAaWmQ7L8+yQAoCK4dW5LBAVA4tsh3MsEDZJAaBtROvQImXbhJDua5AjcL1KPymr0CC61G4fsusQH6VQ4vMQKxAcGiR7fyjrEDSeOkmMd6uQMZLN4lB6LBAukkMAhtssEDFSzeJYT+uQLcehesRTLBAItv5fnpHsEA/YOXQwluuQC4IrBy6B6lAzSLb+Z76qkApsp3vJx+qQKfx0k3ih6xAopvEIJAhqUDpfD81voCqQKpH4XoUe6xAGVpkOx9Mq0CAwMqhRWamQLufGi9dN6ZA5yYxCAxXo0Be5dAiGwmnQDe0yHYeAaVA2Pl+avyFqEAyXrpJ7E6pQJvvp8bLhalAonA9Crc7rkCF61G4Pk6wQIhBYOWwl69A9Shcj/LtsUCE61G4rmKwQOb7qfGSBLBAHYXrUbhKsEDTeOkmQc2wQLZJDAKrt69AtkkMAgutrkAyiUFghdOrQBYv3SSGrapANYlBYPWPsEARg8DK0XWwQJeZmZl5GaxAS2IQWFnGqkDCILByqOmoQCDb+X4KN6tAFgRWDu0Ar0BZj8L1CAypQDJeukmsT6lAd+kmMWhcqkDv0k1iUAmsQC4IrBxaIa1Aju18P/XpqED/KocW2Q+mQImXbhJjdKZA2k+Nl45lp0BVZDvfj9WnQA==\",\"dtype\":\"float64\",\"order\":\"little\",\"shape\":[89]},\"__x__values\":{\"__ndarray__\":\"AADAW2uAdkIAAIDBvYB2QgAAQCcQgXZCAAAAjWKBdkIAAMDytIF2QgAAgFgHgnZCAABAvlmCdkIAAAAkrIJ2QgAAwIn+gnZCAACA71CDdkIAAEBVo4N2QgAAALv1g3ZCAADAIEiEdkIAAICGmoR2QgAAQOzshHZCAAAAUj+FdkIAAMC3kYV2QgAAgB3khXZCAABAgzaGdkIAAADpiIZ2QgAAwE7bhnZCAACAtC2HdkIAAEAagId2QgAAAIDSh3ZCAADA5SSIdkIAAIBLd4h2QgAAQLHJiHZCAAAAFxyJdkIAAMB8bol2QgAAgOLAiXZCAABASBOKdkIAAACuZYp2QgAAwBO4inZCAACAeQqLdkIAAEDfXIt2QgAAAEWvi3ZCAADAqgGMdkIAAIAQVIx2QgAAQHamjHZCAAAA3PiMdkIAAMBBS412QgAAgKedjXZCAABADfCNdkIAAABzQo52QgAAwNiUjnZCAACAPueOdkIAAECkOY92QgAAAAqMj3ZCAADAb96PdkIAAIDVMJB2QgAAQDuDkHZCAAAAodWQdkIAAMAGKJF2QgAAgGx6kXZCAABA0syRdkIAAAA4H5J2QgAAwJ1xknZCAACAA8SSdkIAAEBpFpN2QgAAAM9ok3ZCAADANLuTdkIAAICaDZR2QgAAQABglHZCAAAAZrKUdkIAAMDLBJV2QgAAgDFXlXZCAABAl6mVdkIAAAD9+5V2QgAAwGJOlnZCAACAyKCWdkIAAEAu85Z2QgAAAJRFl3ZCAADA+ZeXdkIAAIBf6pd2QgAAQMU8mHZCAAAAK4+YdkIAAMCQ4Zh2QgAAgPYzmXZCAABAXIaZdkIAAADC2Jl2QgAAwCcrmnZCAACAjX2adkIAAEDzz5p2QgAAAFkim3ZCAADAvnSbdkIAAIAkx5t2QgAAQIoZnHZCAAAA8GucdkIAAMBVvpx2Qg==\",\"dtype\":\"float64\",\"order\":\"little\",\"shape\":[89]},\"__x__values_original\":{\"__ndarray__\":\"AADAW2uAdkIAAIDBvYB2QgAAQCcQgXZCAAAAjWKBdkIAAMDytIF2QgAAgFgHgnZCAABAvlmCdkIAAAAkrIJ2QgAAwIn+gnZCAACA71CDdkIAAEBVo4N2QgAAALv1g3ZCAADAIEiEdkIAAICGmoR2QgAAQOzshHZCAAAAUj+FdkIAAMC3kYV2QgAAgB3khXZCAABAgzaGdkIAAADpiIZ2QgAAwE7bhnZCAACAtC2HdkIAAEAagId2QgAAAIDSh3ZCAADA5SSIdkIAAIBLd4h2QgAAQLHJiHZCAAAAFxyJdkIAAMB8bol2QgAAgOLAiXZCAABASBOKdkIAAACuZYp2QgAAwBO4inZCAACAeQqLdkIAAEDfXIt2QgAAAEWvi3ZCAADAqgGMdkIAAIAQVIx2QgAAQHamjHZCAAAA3PiMdkIAAMBBS412QgAAgKedjXZCAABADfCNdkIAAABzQo52QgAAwNiUjnZCAACAPueOdkIAAECkOY92QgAAAAqMj3ZCAADAb96PdkIAAIDVMJB2QgAAQDuDkHZCAAAAodWQdkIAAMAGKJF2QgAAgGx6kXZCAABA0syRdkIAAAA4H5J2QgAAwJ1xknZCAACAA8SSdkIAAEBpFpN2QgAAAM9ok3ZCAADANLuTdkIAAICaDZR2QgAAQABglHZCAAAAZrKUdkIAAMDLBJV2QgAAgDFXlXZCAABAl6mVdkIAAAD9+5V2QgAAwGJOlnZCAACAyKCWdkIAAEAu85Z2QgAAAJRFl3ZCAADA+ZeXdkIAAIBf6pd2QgAAQMU8mHZCAAAAK4+YdkIAAMCQ4Zh2QgAAgPYzmXZCAABAXIaZdkIAAADC2Jl2QgAAwCcrmnZCAACAjX2adkIAAEDzz5p2QgAAAFkim3ZCAADAvnSbdkIAAIAkx5t2QgAAQIoZnHZCAAAA8GucdkIAAMBVvpx2Qg==\",\"dtype\":\"float64\",\"order\":\"little\",\"shape\":[89]}},\"selected\":{\"id\":\"1060\"},\"selection_policy\":{\"id\":\"1059\"}},\"id\":\"1035\",\"type\":\"ColumnDataSource\"},{\"attributes\":{},\"id\":\"1451\",\"type\":\"WheelZoomTool\"},{\"attributes\":{\"fill_alpha\":{\"value\":0.1},\"fill_color\":{\"value\":\"#2ca02c\"},\"line_alpha\":{\"value\":0.1},\"line_color\":{\"value\":\"#2ca02c\"},\"line_width\":{\"value\":2},\"top\":{\"field\":\"Food\"},\"width\":{\"value\":0.09090909090909091},\"x\":{\"field\":\"__x__values\",\"transform\":{\"id\":\"1499\"}}},\"id\":\"1502\",\"type\":\"VBar\"},{\"attributes\":{},\"id\":\"1090\",\"type\":\"Selection\"},{\"attributes\":{\"callback\":null,\"mode\":\"vline\",\"renderers\":[{\"id\":\"1503\"}],\"tooltips\":[[\"Gender\",\"@__x__values_original\"],[\"Food\",\"@{Food}\"]]},\"id\":\"1513\",\"type\":\"HoverTool\"},{\"attributes\":{\"overlay\":{\"id\":\"1456\"}},\"id\":\"1452\",\"type\":\"BoxZoomTool\"},{\"attributes\":{\"data_source\":{\"id\":\"1885\"},\"glyph\":{\"id\":\"1887\"},\"hover_glyph\":null,\"muted_glyph\":null,\"nonselection_glyph\":{\"id\":\"1888\"},\"selection_glyph\":null,\"view\":{\"id\":\"1890\"}},\"id\":\"1889\",\"type\":\"GlyphRenderer\"},{\"attributes\":{\"axis\":{\"id\":\"1861\"},\"grid_line_color\":null,\"ticker\":null},\"id\":\"1864\",\"type\":\"Grid\"},{\"attributes\":{\"axis_label\":\"gross income\",\"formatter\":{\"id\":\"2074\"},\"ticker\":{\"id\":\"2041\"}},\"id\":\"2040\",\"type\":\"LinearAxis\"},{\"attributes\":{},\"id\":\"1859\",\"type\":\"LinearScale\"},{\"attributes\":{\"axis\":{\"id\":\"1289\"},\"ticker\":null},\"id\":\"1292\",\"type\":\"Grid\"},{\"attributes\":{\"range\":{\"id\":\"1434\"},\"value\":0.050000000000000044},\"id\":\"1515\",\"type\":\"Dodge\"},{\"attributes\":{},\"id\":\"2041\",\"type\":\"BasicTicker\"},{\"attributes\":{\"axis_label\":\"gross income\",\"formatter\":{\"id\":\"1321\"},\"ticker\":{\"id\":\"1294\"}},\"id\":\"1293\",\"type\":\"LinearAxis\"},{\"attributes\":{},\"id\":\"1874\",\"type\":\"HelpTool\"},{\"attributes\":{\"axis\":{\"id\":\"2040\"},\"ticker\":null},\"id\":\"2043\",\"type\":\"Grid\"},{\"attributes\":{\"axis\":{\"id\":\"1865\"},\"dimension\":1,\"grid_line_color\":null,\"ticker\":null},\"id\":\"1868\",\"type\":\"Grid\"},{\"attributes\":{},\"id\":\"1043\",\"type\":\"BasicTickFormatter\"},{\"attributes\":{},\"id\":\"1294\",\"type\":\"BasicTicker\"},{\"attributes\":{\"data_source\":{\"id\":\"1035\"},\"glyph\":{\"id\":\"1037\"},\"hover_glyph\":null,\"muted_glyph\":null,\"nonselection_glyph\":{\"id\":\"1038\"},\"selection_glyph\":null,\"view\":{\"id\":\"1040\"}},\"id\":\"1039\",\"type\":\"GlyphRenderer\"},{\"attributes\":{\"axis_label\":\"Product line\",\"formatter\":{\"id\":\"2062\"},\"ticker\":{\"id\":\"2082\"}},\"id\":\"2044\",\"type\":\"LinearAxis\"},{\"attributes\":{\"data\":{\"__x__values\":[0,1,2],\"__x__values_original\":[\"Mandalay\",\"Naypyitaw\",\"Yangon\"],\"gross income\":{\"__ndarray__\":\"AAAAAADBs0AAAAAAAJG0QAAAAAAAwbNA\",\"dtype\":\"float64\",\"order\":\"little\",\"shape\":[3]}},\"selected\":{\"id\":\"1325\"},\"selection_policy\":{\"id\":\"1324\"}},\"id\":\"1277\",\"type\":\"ColumnDataSource\"},{\"attributes\":{\"fields\":[\"Member\",\"Normal\"]},\"id\":\"1708\",\"type\":\"Stack\"},{\"attributes\":{\"text\":\"Total sales by products line.\"},\"id\":\"1851\",\"type\":\"Title\"},{\"attributes\":{\"axis\":{\"id\":\"1293\"},\"dimension\":1,\"ticker\":null},\"id\":\"1296\",\"type\":\"Grid\"},{\"attributes\":{\"bottom_units\":\"screen\",\"fill_alpha\":0.5,\"fill_color\":\"lightgrey\",\"left_units\":\"screen\",\"level\":\"overlay\",\"line_alpha\":1.0,\"line_color\":\"black\",\"line_dash\":[4,4],\"line_width\":2,\"right_units\":\"screen\",\"top_units\":\"screen\"},\"id\":\"1027\",\"type\":\"BoxAnnotation\"},{\"attributes\":{\"data_source\":{\"id\":\"1430\"},\"glyph\":{\"id\":\"1517\"},\"hover_glyph\":null,\"muted_glyph\":null,\"nonselection_glyph\":{\"id\":\"1518\"},\"selection_glyph\":null,\"view\":{\"id\":\"1520\"}},\"id\":\"1519\",\"type\":\"GlyphRenderer\"},{\"attributes\":{\"axis_label\":null,\"formatter\":{\"id\":\"1893\"},\"ticker\":{\"id\":\"1866\"},\"visible\":false},\"id\":\"1865\",\"type\":\"LinearAxis\"},{\"attributes\":{\"fill_color\":{\"value\":\"#d62728\"},\"line_color\":{\"value\":\"#d62728\"},\"line_width\":{\"value\":2},\"top\":{\"field\":\"Health\"},\"width\":{\"value\":0.09090909090909091},\"x\":{\"field\":\"__x__values\",\"transform\":{\"id\":\"1515\"}}},\"id\":\"1517\",\"type\":\"VBar\"},{\"attributes\":{\"data\":{\"Total\":{\"__ndarray__\":\"u0kMAjGI6kA9CtejPITqQLtJDAIbautA+lPjpTcF6ECpxks3vUzqQMQgsHJa6upA\",\"dtype\":\"float64\",\"order\":\"little\",\"shape\":[6]},\"Total_angle\":{\"__ndarray__\":\"ke0auPDp8D+/JcRYa+fwP1srvzL1efE/SH1rqhqg7j9Bge9ICsTwP8s1TW+EKPE/\",\"dtype\":\"float64\",\"order\":\"little\",\"shape\":[6]},\"__x__values\":[\"Electronics\",\"Fashion\",\"Food\",\"Health\",\"Home\",\"Sports\"],\"__x__values_original\":[\"Electronics\",\"Fashion\",\"Food\",\"Health\",\"Home\",\"Sports\"],\"color\":[\"#1f77b4\",\"#ff7f0e\",\"#2ca02c\",\"#d62728\",\"#9467bd\",\"#8c564b\"],\"inner_radius\":[0.0,0.0,0.0,0.0,0.0,0.0],\"outer_radius\":[0.9,0.9,0.9,0.9,0.9,0.9]},\"selected\":{\"id\":\"1898\"},\"selection_policy\":{\"id\":\"1897\"}},\"id\":\"1885\",\"type\":\"ColumnDataSource\"},{\"attributes\":{\"axis\":{\"id\":\"2044\"},\"dimension\":1,\"ticker\":null},\"id\":\"2047\",\"type\":\"Grid\"},{\"attributes\":{\"data_source\":{\"id\":\"1669\"},\"glyph\":{\"id\":\"1710\"},\"hover_glyph\":null,\"muted_glyph\":null,\"name\":\"Member\",\"nonselection_glyph\":{\"id\":\"1711\"},\"selection_glyph\":null,\"view\":{\"id\":\"1713\"}},\"id\":\"1712\",\"type\":\"GlyphRenderer\"},{\"attributes\":{\"source\":{\"id\":\"1035\"}},\"id\":\"1040\",\"type\":\"CDSView\"},{\"attributes\":{\"axis_label\":null,\"formatter\":{\"id\":\"1895\"},\"ticker\":{\"id\":\"1903\"},\"visible\":false},\"id\":\"1861\",\"type\":\"LinearAxis\"},{\"attributes\":{\"label\":{\"value\":\" Health\"},\"renderers\":[{\"id\":\"1519\"}]},\"id\":\"1528\",\"type\":\"LegendItem\"},{\"attributes\":{\"fill_color\":{\"value\":\"#FDE724\"},\"height\":{\"value\":0.8},\"left\":{\"expr\":{\"id\":\"1705\"}},\"line_color\":{\"value\":\"#FDE724\"},\"line_width\":{\"value\":2},\"right\":{\"expr\":{\"id\":\"1706\"}},\"y\":{\"field\":\"__x__values\"}},\"id\":\"1710\",\"type\":\"HBar\"},{\"attributes\":{\"callback\":null,\"mode\":\"vline\",\"renderers\":[{\"id\":\"1519\"}],\"tooltips\":[[\"Gender\",\"@__x__values_original\"],[\"Health\",\"@{Health}\"]]},\"id\":\"1529\",\"type\":\"HoverTool\"},{\"attributes\":{\"end\":1.2,\"start\":-1.2},\"id\":\"1855\",\"type\":\"Range1d\"},{\"attributes\":{\"fields\":[]},\"id\":\"2064\",\"type\":\"Stack\"},{\"attributes\":{\"callback\":null,\"mode\":\"hline\",\"renderers\":[{\"id\":\"2069\"}],\"tooltips\":[[\"Product line\",\"@__x__values_original\"],[\"gross income\",\"@{gross income}\"]]},\"id\":\"2080\",\"type\":\"HoverTool\"},{\"attributes\":{},\"id\":\"1297\",\"type\":\"PanTool\"},{\"attributes\":{},\"id\":\"1717\",\"type\":\"BasicTickFormatter\"},{\"attributes\":{},\"id\":\"1719\",\"type\":\"UnionRenderers\"},{\"attributes\":{\"fill_alpha\":{\"value\":0.1},\"fill_color\":{\"value\":\"#d62728\"},\"line_alpha\":{\"value\":0.1},\"line_color\":{\"value\":\"#d62728\"},\"line_width\":{\"value\":2},\"top\":{\"field\":\"Health\"},\"width\":{\"value\":0.09090909090909091},\"x\":{\"field\":\"__x__values\",\"transform\":{\"id\":\"1515\"}}},\"id\":\"1518\",\"type\":\"VBar\"},{\"attributes\":{\"range\":{\"id\":\"1434\"},\"value\":0.15000000000000002},\"id\":\"1531\",\"type\":\"Dodge\"},{\"attributes\":{\"mantissas\":[1,2,5],\"max_interval\":500.0,\"num_minor_ticks\":0},\"id\":\"1047\",\"type\":\"AdaptiveTicker\"},{\"attributes\":{},\"id\":\"2048\",\"type\":\"PanTool\"},{\"attributes\":{\"source\":{\"id\":\"1669\"}},\"id\":\"1713\",\"type\":\"CDSView\"},{\"attributes\":{\"active_drag\":\"auto\",\"active_inspect\":\"auto\",\"active_multi\":null,\"active_scroll\":{\"id\":\"1298\"},\"active_tap\":\"auto\",\"tools\":[{\"id\":\"1297\"},{\"id\":\"1298\"},{\"id\":\"1299\"},{\"id\":\"1300\"},{\"id\":\"1301\"},{\"id\":\"1302\"},{\"id\":\"1328\"}]},\"id\":\"1304\",\"type\":\"Toolbar\"},{\"attributes\":{},\"id\":\"1857\",\"type\":\"LinearScale\"},{\"attributes\":{},\"id\":\"2049\",\"type\":\"WheelZoomTool\"},{\"attributes\":{\"fill_alpha\":{\"value\":0.1},\"fill_color\":{\"value\":\"#FDE724\"},\"height\":{\"value\":0.8},\"left\":{\"expr\":{\"id\":\"1705\"}},\"line_alpha\":{\"value\":0.1},\"line_color\":{\"value\":\"#FDE724\"},\"line_width\":{\"value\":2},\"right\":{\"expr\":{\"id\":\"1706\"}},\"y\":{\"field\":\"__x__values\"}},\"id\":\"1711\",\"type\":\"HBar\"},{\"attributes\":{\"base\":60,\"mantissas\":[1,2,5,10,15,20,30],\"max_interval\":1800000.0,\"min_interval\":1000.0,\"num_minor_ticks\":0},\"id\":\"1048\",\"type\":\"AdaptiveTicker\"},{\"attributes\":{\"below\":[{\"id\":\"1289\"}],\"center\":[{\"id\":\"1292\"},{\"id\":\"1296\"},{\"id\":\"1326\"}],\"left\":[{\"id\":\"1293\"}],\"output_backend\":\"webgl\",\"plot_height\":400,\"plot_width\":400,\"renderers\":[{\"id\":\"1317\"}],\"sizing_mode\":\"fixed\",\"title\":{\"id\":\"1279\"},\"toolbar\":{\"id\":\"1304\"},\"toolbar_location\":null,\"x_range\":{\"id\":\"1281\"},\"x_scale\":{\"id\":\"1285\"},\"y_range\":{\"id\":\"1283\"},\"y_scale\":{\"id\":\"1287\"}},\"id\":\"1278\",\"subtype\":\"Figure\",\"type\":\"Plot\"},{\"attributes\":{\"overlay\":{\"id\":\"2054\"}},\"id\":\"2050\",\"type\":\"BoxZoomTool\"},{\"attributes\":{\"label\":{\"value\":\" Home\"},\"renderers\":[{\"id\":\"1535\"}]},\"id\":\"1544\",\"type\":\"LegendItem\"},{\"attributes\":{\"fill_color\":{\"value\":\"#9467bd\"},\"line_color\":{\"value\":\"#9467bd\"},\"line_width\":{\"value\":2},\"top\":{\"field\":\"Home\"},\"width\":{\"value\":0.09090909090909091},\"x\":{\"field\":\"__x__values\",\"transform\":{\"id\":\"1531\"}}},\"id\":\"1533\",\"type\":\"VBar\"},{\"attributes\":{\"base\":24,\"mantissas\":[1,2,4,6,8,12],\"max_interval\":43200000.0,\"min_interval\":3600000.0,\"num_minor_ticks\":0},\"id\":\"1049\",\"type\":\"AdaptiveTicker\"},{\"attributes\":{},\"id\":\"1720\",\"type\":\"Selection\"},{\"attributes\":{},\"id\":\"2051\",\"type\":\"SaveTool\"},{\"attributes\":{\"data_source\":{\"id\":\"1430\"},\"glyph\":{\"id\":\"1533\"},\"hover_glyph\":null,\"muted_glyph\":null,\"nonselection_glyph\":{\"id\":\"1534\"},\"selection_glyph\":null,\"view\":{\"id\":\"1536\"}},\"id\":\"1535\",\"type\":\"GlyphRenderer\"},{\"attributes\":{\"items\":[{\"id\":\"1722\"},{\"id\":\"1735\"}]},\"id\":\"1721\",\"type\":\"Legend\"},{\"attributes\":{\"data\":{\"Member\":{\"__ndarray__\":\"AAAAAAD6o0AAAAAAACqlQAAAAAAA9KNA\",\"dtype\":\"float64\",\"order\":\"little\",\"shape\":[3]},\"Normal\":{\"__ndarray__\":\"AAAAAACIo0AAAAAAAPqjQAAAAAAAjqNA\",\"dtype\":\"float64\",\"order\":\"little\",\"shape\":[3]},\"__x__values\":[0,1,2],\"__x__values_original\":[\"Mandalay\",\"Naypyitaw\",\"Yangon\"]},\"selected\":{\"id\":\"1720\"},\"selection_policy\":{\"id\":\"1719\"}},\"id\":\"1669\",\"type\":\"ColumnDataSource\"},{\"attributes\":{\"days\":[1,2,3,4,5,6,7,8,9,10,11,12,13,14,15,16,17,18,19,20,21,22,23,24,25,26,27,28,29,30,31]},\"id\":\"1050\",\"type\":\"DaysTicker\"},{\"attributes\":{},\"id\":\"2052\",\"type\":\"ResetTool\"},{\"attributes\":{\"data\":{\"Electronics\":{\"__ndarray__\":\"AAAAAIB32kAAAAAAAJnaQA==\",\"dtype\":\"float64\",\"order\":\"little\",\"shape\":[2]},\"Fashion\":{\"__ndarray__\":\"AAAAAEC53UAAAAAAAE/XQA==\",\"dtype\":\"float64\",\"order\":\"little\",\"shape\":[2]},\"Food\":{\"__ndarray__\":\"AAAAAGAy4EAAAAAAgG/WQA==\",\"dtype\":\"float64\",\"order\":\"little\",\"shape\":[2]},\"Health\":{\"__ndarray__\":\"AAAAAEAg0kAAAAAAQOrdQA==\",\"dtype\":\"float64\",\"order\":\"little\",\"shape\":[2]},\"Home\":{\"__ndarray__\":\"AAAAAEBV3UAAAAAAQETXQA==\",\"dtype\":\"float64\",\"order\":\"little\",\"shape\":[2]},\"Sports\":{\"__ndarray__\":\"AAAAAMDn20AAAAAAAO3ZQA==\",\"dtype\":\"float64\",\"order\":\"little\",\"shape\":[2]},\"__x__values\":[0,1],\"__x__values_original\":[\"Female\",\"Male\"]},\"selected\":{\"id\":\"1478\"},\"selection_policy\":{\"id\":\"1477\"}},\"id\":\"1430\",\"type\":\"ColumnDataSource\"},{\"attributes\":{\"label\":{\"value\":\"Member\"},\"renderers\":[{\"id\":\"1712\"}]},\"id\":\"1722\",\"type\":\"LegendItem\"},{\"attributes\":{\"field\":\"Total_angle\",\"include_zero\":true},\"id\":\"1883\",\"type\":\"CumSum\"},{\"attributes\":{\"days\":[1,4,7,10,13,16,19,22,25,28]},\"id\":\"1051\",\"type\":\"DaysTicker\"},{\"attributes\":{},\"id\":\"2053\",\"type\":\"HelpTool\"},{\"attributes\":{\"bottom_units\":\"screen\",\"fill_alpha\":0.5,\"fill_color\":\"lightgrey\",\"left_units\":\"screen\",\"level\":\"overlay\",\"line_alpha\":1.0,\"line_color\":\"black\",\"line_dash\":[4,4],\"line_width\":2,\"right_units\":\"screen\",\"top_units\":\"screen\"},\"id\":\"1303\",\"type\":\"BoxAnnotation\"},{\"attributes\":{\"source\":{\"id\":\"1430\"}},\"id\":\"1536\",\"type\":\"CDSView\"},{\"attributes\":{\"field\":\"Total_angle\"},\"id\":\"1884\",\"type\":\"CumSum\"},{\"attributes\":{\"days\":[1,8,15,22]},\"id\":\"1052\",\"type\":\"DaysTicker\"},{\"attributes\":{\"days\":[1,15]},\"id\":\"1053\",\"type\":\"DaysTicker\"},{\"attributes\":{\"range\":{\"id\":\"1281\"}},\"id\":\"1313\",\"type\":\"Dodge\"},{\"attributes\":{\"active_drag\":\"auto\",\"active_inspect\":\"auto\",\"active_multi\":null,\"active_scroll\":{\"id\":\"2049\"},\"active_tap\":\"auto\",\"tools\":[{\"id\":\"2048\"},{\"id\":\"2049\"},{\"id\":\"2050\"},{\"id\":\"2051\"},{\"id\":\"2052\"},{\"id\":\"2053\"},{\"id\":\"2080\"}]},\"id\":\"2055\",\"type\":\"Toolbar\"},{\"attributes\":{\"data_source\":{\"id\":\"1669\"},\"glyph\":{\"id\":\"1724\"},\"hover_glyph\":null,\"muted_glyph\":null,\"name\":\"Normal\",\"nonselection_glyph\":{\"id\":\"1725\"},\"selection_glyph\":null,\"view\":{\"id\":\"1727\"}},\"id\":\"1726\",\"type\":\"GlyphRenderer\"},{\"attributes\":{\"fill_alpha\":{\"value\":0.1},\"fill_color\":{\"value\":\"#9467bd\"},\"line_alpha\":{\"value\":0.1},\"line_color\":{\"value\":\"#9467bd\"},\"line_width\":{\"value\":2},\"top\":{\"field\":\"Home\"},\"width\":{\"value\":0.09090909090909091},\"x\":{\"field\":\"__x__values\",\"transform\":{\"id\":\"1531\"}}},\"id\":\"1534\",\"type\":\"VBar\"},{\"attributes\":{},\"id\":\"1285\",\"type\":\"LinearScale\"},{\"attributes\":{\"months\":[0,1,2,3,4,5,6,7,8,9,10,11]},\"id\":\"1054\",\"type\":\"MonthsTicker\"},{\"attributes\":{\"callback\":null,\"mode\":\"vline\",\"renderers\":[{\"id\":\"1535\"}],\"tooltips\":[[\"Gender\",\"@__x__values_original\"],[\"Home\",\"@{Home}\"]]},\"id\":\"1545\",\"type\":\"HoverTool\"},{\"attributes\":{},\"id\":\"1300\",\"type\":\"SaveTool\"},{\"attributes\":{\"fill_color\":{\"value\":\"#D01C8B\"},\"height\":{\"value\":0.8},\"left\":{\"expr\":{\"id\":\"1707\"}},\"line_color\":{\"value\":\"#D01C8B\"},\"line_width\":{\"value\":2},\"right\":{\"expr\":{\"id\":\"1708\"}},\"y\":{\"field\":\"__x__values\"}},\"id\":\"1724\",\"type\":\"HBar\"},{\"attributes\":{\"overlay\":{\"id\":\"1303\"}},\"id\":\"1299\",\"type\":\"BoxZoomTool\"},{\"attributes\":{\"months\":[0,2,4,6,8,10]},\"id\":\"1055\",\"type\":\"MonthsTicker\"},{\"attributes\":{\"active_drag\":\"auto\",\"active_inspect\":\"auto\",\"active_multi\":null,\"active_scroll\":\"auto\",\"active_tap\":\"auto\",\"tools\":[{\"id\":\"1869\"},{\"id\":\"1870\"},{\"id\":\"1871\"},{\"id\":\"1872\"},{\"id\":\"1873\"},{\"id\":\"1874\"},{\"id\":\"1901\"}]},\"id\":\"1876\",\"type\":\"Toolbar\"},{\"attributes\":{\"label\":{\"value\":\"Normal\"},\"renderers\":[{\"id\":\"1726\"}]},\"id\":\"1735\",\"type\":\"LegendItem\"},{\"attributes\":{\"range\":{\"id\":\"1434\"},\"value\":0.25},\"id\":\"1547\",\"type\":\"Dodge\"},{\"attributes\":{\"children\":[[{\"id\":\"1431\"},0,0],[{\"id\":\"1850\"},0,1],[{\"id\":\"1002\"},0,2],[{\"id\":\"2029\"},1,0],[{\"id\":\"1278\"},1,1],[{\"id\":\"1670\"},1,2]]},\"id\":\"2710\",\"type\":\"GridBox\"},{\"attributes\":{\"fill_color\":{\"value\":\"#d01c8b\"},\"line_color\":{\"value\":\"#d01c8b\"},\"line_width\":{\"value\":2},\"top\":{\"field\":\"gross income\"},\"width\":{\"value\":0.7},\"x\":{\"field\":\"__x__values\",\"transform\":{\"id\":\"1313\"}}},\"id\":\"1315\",\"type\":\"VBar\"},{\"attributes\":{\"months\":[0,4,8]},\"id\":\"1056\",\"type\":\"MonthsTicker\"},{\"attributes\":{\"toolbars\":[{\"id\":\"1457\"},{\"id\":\"1876\"},{\"id\":\"1028\"},{\"id\":\"2055\"},{\"id\":\"1304\"},{\"id\":\"1696\"}],\"tools\":[{\"id\":\"1450\"},{\"id\":\"1451\"},{\"id\":\"1452\"},{\"id\":\"1453\"},{\"id\":\"1454\"},{\"id\":\"1455\"},{\"id\":\"1481\"},{\"id\":\"1497\"},{\"id\":\"1513\"},{\"id\":\"1529\"},{\"id\":\"1545\"},{\"id\":\"1561\"},{\"id\":\"1869\"},{\"id\":\"1870\"},{\"id\":\"1871\"},{\"id\":\"1872\"},{\"id\":\"1873\"},{\"id\":\"1874\"},{\"id\":\"1901\"},{\"id\":\"1021\"},{\"id\":\"1022\"},{\"id\":\"1023\"},{\"id\":\"1024\"},{\"id\":\"1025\"},{\"id\":\"1026\"},{\"id\":\"1091\"},{\"id\":\"2048\"},{\"id\":\"2049\"},{\"id\":\"2050\"},{\"id\":\"2051\"},{\"id\":\"2052\"},{\"id\":\"2053\"},{\"id\":\"2080\"},{\"id\":\"1297\"},{\"id\":\"1298\"},{\"id\":\"1299\"},{\"id\":\"1300\"},{\"id\":\"1301\"},{\"id\":\"1302\"},{\"id\":\"1328\"},{\"id\":\"1689\"},{\"id\":\"1690\"},{\"id\":\"1691\"},{\"id\":\"1692\"},{\"id\":\"1693\"},{\"id\":\"1694\"},{\"id\":\"1736\"}]},\"id\":\"2711\",\"type\":\"ProxyToolbar\"},{\"attributes\":{\"data_source\":{\"id\":\"1277\"},\"glyph\":{\"id\":\"1315\"},\"hover_glyph\":null,\"muted_glyph\":null,\"nonselection_glyph\":{\"id\":\"1316\"},\"selection_glyph\":null,\"view\":{\"id\":\"1318\"}},\"id\":\"1317\",\"type\":\"GlyphRenderer\"},{\"attributes\":{\"bottom_units\":\"screen\",\"fill_alpha\":0.5,\"fill_color\":\"lightgrey\",\"left_units\":\"screen\",\"level\":\"overlay\",\"line_alpha\":1.0,\"line_color\":\"black\",\"line_dash\":[4,4],\"line_width\":2,\"right_units\":\"screen\",\"top_units\":\"screen\"},\"id\":\"2054\",\"type\":\"BoxAnnotation\"},{\"attributes\":{\"source\":{\"id\":\"1669\"}},\"id\":\"1727\",\"type\":\"CDSView\"},{\"attributes\":{\"months\":[0,6]},\"id\":\"1057\",\"type\":\"MonthsTicker\"},{\"attributes\":{\"end\":2,\"start\":-1.65},\"id\":\"1853\",\"type\":\"Range1d\"},{\"attributes\":{\"fill_alpha\":{\"value\":0.1},\"fill_color\":{\"value\":\"#D01C8B\"},\"height\":{\"value\":0.8},\"left\":{\"expr\":{\"id\":\"1707\"}},\"line_alpha\":{\"value\":0.1},\"line_color\":{\"value\":\"#D01C8B\"},\"line_width\":{\"value\":2},\"right\":{\"expr\":{\"id\":\"1708\"}},\"y\":{\"field\":\"__x__values\"}},\"id\":\"1725\",\"type\":\"HBar\"},{\"attributes\":{},\"id\":\"1058\",\"type\":\"YearsTicker\"},{\"attributes\":{\"fields\":[\"gross income\"]},\"id\":\"2065\",\"type\":\"Stack\"},{\"attributes\":{\"toolbar\":{\"id\":\"2711\"},\"toolbar_location\":\"above\"},\"id\":\"2712\",\"type\":\"ToolbarBox\"},{\"attributes\":{},\"id\":\"1301\",\"type\":\"ResetTool\"},{\"attributes\":{\"fill_color\":{\"value\":\"#8c564b\"},\"line_color\":{\"value\":\"#8c564b\"},\"line_width\":{\"value\":2},\"top\":{\"field\":\"Sports\"},\"width\":{\"value\":0.09090909090909091},\"x\":{\"field\":\"__x__values\",\"transform\":{\"id\":\"1547\"}}},\"id\":\"1549\",\"type\":\"VBar\"},{\"attributes\":{\"source\":{\"id\":\"1277\"}},\"id\":\"1318\",\"type\":\"CDSView\"},{\"attributes\":{\"data_source\":{\"id\":\"1430\"},\"glyph\":{\"id\":\"1549\"},\"hover_glyph\":null,\"muted_glyph\":null,\"nonselection_glyph\":{\"id\":\"1550\"},\"selection_glyph\":null,\"view\":{\"id\":\"1552\"}},\"id\":\"1551\",\"type\":\"GlyphRenderer\"},{\"attributes\":{},\"id\":\"1321\",\"type\":\"BasicTickFormatter\"},{\"attributes\":{},\"id\":\"1059\",\"type\":\"UnionRenderers\"},{\"attributes\":{},\"id\":\"2036\",\"type\":\"LinearScale\"},{\"attributes\":{\"fill_alpha\":{\"value\":0.1},\"fill_color\":{\"value\":\"#d01c8b\"},\"line_alpha\":{\"value\":0.1},\"line_color\":{\"value\":\"#d01c8b\"},\"line_width\":{\"value\":2},\"top\":{\"field\":\"gross income\"},\"width\":{\"value\":0.7},\"x\":{\"field\":\"__x__values\",\"transform\":{\"id\":\"1313\"}}},\"id\":\"1316\",\"type\":\"VBar\"},{\"attributes\":{\"ticks\":[0,1,2]},\"id\":\"1738\",\"type\":\"FixedTicker\"},{\"attributes\":{\"data_source\":{\"id\":\"2028\"},\"glyph\":{\"id\":\"2067\"},\"hover_glyph\":null,\"muted_glyph\":null,\"name\":\"gross income\",\"nonselection_glyph\":{\"id\":\"2068\"},\"selection_glyph\":null,\"view\":{\"id\":\"2070\"}},\"id\":\"2069\",\"type\":\"GlyphRenderer\"},{\"attributes\":{},\"id\":\"1283\",\"type\":\"DataRange1d\"},{\"attributes\":{},\"id\":\"1060\",\"type\":\"Selection\"},{\"attributes\":{},\"id\":\"1324\",\"type\":\"UnionRenderers\"},{\"attributes\":{\"click_policy\":\"hide\",\"items\":[{\"id\":\"1062\"}]},\"id\":\"1061\",\"type\":\"Legend\"},{\"attributes\":{\"source\":{\"id\":\"1430\"}},\"id\":\"1552\",\"type\":\"CDSView\"},{\"attributes\":{},\"id\":\"1281\",\"type\":\"DataRange1d\"},{\"attributes\":{\"fill_color\":{\"value\":\"#4DAC26\"},\"height\":{\"value\":0.8},\"left\":{\"expr\":{\"id\":\"2064\"}},\"line_color\":{\"value\":\"#4DAC26\"},\"line_width\":{\"value\":2},\"right\":{\"expr\":{\"id\":\"2065\"}},\"y\":{\"field\":\"__x__values\"}},\"id\":\"2067\",\"type\":\"HBar\"},{\"attributes\":{},\"id\":\"1325\",\"type\":\"Selection\"},{\"attributes\":{},\"id\":\"1872\",\"type\":\"SaveTool\"},{\"attributes\":{\"label\":{\"value\":\" Total\"},\"renderers\":[{\"id\":\"1039\"},{\"id\":\"1067\"}]},\"id\":\"1062\",\"type\":\"LegendItem\"},{\"attributes\":{\"code\":\"\\n                                    var labels = {0: 'Mandalay', 1: 'Naypyitaw', 2: 'Yangon'};\\n                                    return labels[tick];\\n                                    \"},\"id\":\"1311\",\"type\":\"FuncTickFormatter\"},{\"attributes\":{\"overlay\":{\"id\":\"1875\"}},\"id\":\"1871\",\"type\":\"BoxZoomTool\"},{\"attributes\":{\"click_policy\":\"hide\",\"items\":[{\"id\":\"1327\"}],\"visible\":false},\"id\":\"1326\",\"type\":\"Legend\"},{\"attributes\":{\"fill_alpha\":{\"value\":0.1},\"fill_color\":{\"value\":\"#8c564b\"},\"line_alpha\":{\"value\":0.1},\"line_color\":{\"value\":\"#8c564b\"},\"line_width\":{\"value\":2},\"top\":{\"field\":\"Sports\"},\"width\":{\"value\":0.09090909090909091},\"x\":{\"field\":\"__x__values\",\"transform\":{\"id\":\"1547\"}}},\"id\":\"1550\",\"type\":\"VBar\"},{\"attributes\":{},\"id\":\"2074\",\"type\":\"BasicTickFormatter\"},{\"attributes\":{},\"id\":\"1873\",\"type\":\"ResetTool\"},{\"attributes\":{\"callback\":null,\"formatters\":{\"@__x__values_original\":\"datetime\"},\"mode\":\"vline\",\"renderers\":[{\"id\":\"1039\"}],\"tooltips\":[[\"Date\",\"@__x__values_original{%F}\"],[\"Total\",\"@{Total}\"]]},\"id\":\"1091\",\"type\":\"HoverTool\"},{\"attributes\":{\"label\":{\"value\":\" Sports\"},\"renderers\":[{\"id\":\"1551\"}]},\"id\":\"1560\",\"type\":\"LegendItem\"},{\"attributes\":{},\"id\":\"1870\",\"type\":\"WheelZoomTool\"},{\"attributes\":{\"data\":{\"Total\":{\"__ndarray__\":\"AAAAAAAA+H8AAAAAAAD4fwAAAAAAAPh/AAAAAAAA+H8AAAAAAAD4fwAAAAAAAPh/khgEVi6+pkBbj8L16FqnQLlJDAJLjqhA+X5qvPQ1qkC4HoXrUcKqQDMzMzMzmaxAi2zn++lMq0Do+6nxcpCsQPHSTWJQSq1AZmZmZoa0rkAi2/l+Cj2uQFlkO98v+65AwyCwcgiurkC+nxovDQOwQFUOLbI9RK5AkO18P/WIqUDFSzeJIXCrQJ4aL92k9a1A4HoUrhcNsECtcmiRjZevQEgMAivXV7BABIGVQ1vMsUAaWmQ7L8+yQAoCK4dW5LBAVA4tsh3MsEDZJAaBtROvQImXbhJDua5AjcL1KPymr0CC61G4fsusQH6VQ4vMQKxAcGiR7fyjrEDSeOkmMd6uQMZLN4lB6LBAukkMAhtssEDFSzeJYT+uQLcehesRTLBAItv5fnpHsEA/YOXQwluuQC4IrBy6B6lAzSLb+Z76qkApsp3vJx+qQKfx0k3ih6xAopvEIJAhqUDpfD81voCqQKpH4XoUe6xAGVpkOx9Mq0CAwMqhRWamQLufGi9dN6ZA5yYxCAxXo0Be5dAiGwmnQDe0yHYeAaVA2Pl+avyFqEAyXrpJ7E6pQJvvp8bLhalAonA9Crc7rkCF61G4Pk6wQIhBYOWwl69A9Shcj/LtsUCE61G4rmKwQOb7qfGSBLBAHYXrUbhKsEDTeOkmQc2wQLZJDAKrt69AtkkMAgutrkAyiUFghdOrQBYv3SSGrapANYlBYPWPsEARg8DK0XWwQJeZmZl5GaxAS2IQWFnGqkDCILByqOmoQCDb+X4KN6tAFgRWDu0Ar0BZj8L1CAypQDJeukmsT6lAd+kmMWhcqkDv0k1iUAmsQC4IrBxaIa1Aju18P/XpqED/KocW2Q+mQImXbhJjdKZA2k+Nl45lp0BVZDvfj9WnQA==\",\"dtype\":\"float64\",\"order\":\"little\",\"shape\":[89]},\"__x__values\":{\"__ndarray__\":\"AADAW2uAdkIAAIDBvYB2QgAAQCcQgXZCAAAAjWKBdkIAAMDytIF2QgAAgFgHgnZCAABAvlmCdkIAAAAkrIJ2QgAAwIn+gnZCAACA71CDdkIAAEBVo4N2QgAAALv1g3ZCAADAIEiEdkIAAICGmoR2QgAAQOzshHZCAAAAUj+FdkIAAMC3kYV2QgAAgB3khXZCAABAgzaGdkIAAADpiIZ2QgAAwE7bhnZCAACAtC2HdkIAAEAagId2QgAAAIDSh3ZCAADA5SSIdkIAAIBLd4h2QgAAQLHJiHZCAAAAFxyJdkIAAMB8bol2QgAAgOLAiXZCAABASBOKdkIAAACuZYp2QgAAwBO4inZCAACAeQqLdkIAAEDfXIt2QgAAAEWvi3ZCAADAqgGMdkIAAIAQVIx2QgAAQHamjHZCAAAA3PiMdkIAAMBBS412QgAAgKedjXZCAABADfCNdkIAAABzQo52QgAAwNiUjnZCAACAPueOdkIAAECkOY92QgAAAAqMj3ZCAADAb96PdkIAAIDVMJB2QgAAQDuDkHZCAAAAodWQdkIAAMAGKJF2QgAAgGx6kXZCAABA0syRdkIAAAA4H5J2QgAAwJ1xknZCAACAA8SSdkIAAEBpFpN2QgAAAM9ok3ZCAADANLuTdkIAAICaDZR2QgAAQABglHZCAAAAZrKUdkIAAMDLBJV2QgAAgDFXlXZCAABAl6mVdkIAAAD9+5V2QgAAwGJOlnZCAACAyKCWdkIAAEAu85Z2QgAAAJRFl3ZCAADA+ZeXdkIAAIBf6pd2QgAAQMU8mHZCAAAAK4+YdkIAAMCQ4Zh2QgAAgPYzmXZCAABAXIaZdkIAAADC2Jl2QgAAwCcrmnZCAACAjX2adkIAAEDzz5p2QgAAAFkim3ZCAADAvnSbdkIAAIAkx5t2QgAAQIoZnHZCAAAA8GucdkIAAMBVvpx2Qg==\",\"dtype\":\"float64\",\"order\":\"little\",\"shape\":[89]},\"__x__values_original\":{\"__ndarray__\":\"AADAW2uAdkIAAIDBvYB2QgAAQCcQgXZCAAAAjWKBdkIAAMDytIF2QgAAgFgHgnZCAABAvlmCdkIAAAAkrIJ2QgAAwIn+gnZCAACA71CDdkIAAEBVo4N2QgAAALv1g3ZCAADAIEiEdkIAAICGmoR2QgAAQOzshHZCAAAAUj+FdkIAAMC3kYV2QgAAgB3khXZCAABAgzaGdkIAAADpiIZ2QgAAwE7bhnZCAACAtC2HdkIAAEAagId2QgAAAIDSh3ZCAADA5SSIdkIAAIBLd4h2QgAAQLHJiHZCAAAAFxyJdkIAAMB8bol2QgAAgOLAiXZCAABASBOKdkIAAACuZYp2QgAAwBO4inZCAACAeQqLdkIAAEDfXIt2QgAAAEWvi3ZCAADAqgGMdkIAAIAQVIx2QgAAQHamjHZCAAAA3PiMdkIAAMBBS412QgAAgKedjXZCAABADfCNdkIAAABzQo52QgAAwNiUjnZCAACAPueOdkIAAECkOY92QgAAAAqMj3ZCAADAb96PdkIAAIDVMJB2QgAAQDuDkHZCAAAAodWQdkIAAMAGKJF2QgAAgGx6kXZCAABA0syRdkIAAAA4H5J2QgAAwJ1xknZCAACAA8SSdkIAAEBpFpN2QgAAAM9ok3ZCAADANLuTdkIAAICaDZR2QgAAQABglHZCAAAAZrKUdkIAAMDLBJV2QgAAgDFXlXZCAABAl6mVdkIAAAD9+5V2QgAAwGJOlnZCAACAyKCWdkIAAEAu85Z2QgAAAJRFl3ZCAADA+ZeXdkIAAIBf6pd2QgAAQMU8mHZCAAAAK4+YdkIAAMCQ4Zh2QgAAgPYzmXZCAABAXIaZdkIAAADC2Jl2QgAAwCcrmnZCAACAjX2adkIAAEDzz5p2QgAAAFkim3ZCAADAvnSbdkIAAIAkx5t2QgAAQIoZnHZCAAAA8GucdkIAAMBVvpx2Qg==\",\"dtype\":\"float64\",\"order\":\"little\",\"shape\":[89]}},\"selected\":{\"id\":\"1090\"},\"selection_policy\":{\"id\":\"1089\"}},\"id\":\"1063\",\"type\":\"ColumnDataSource\"},{\"attributes\":{\"label\":{\"value\":\" gross income\"},\"renderers\":[{\"id\":\"1317\"}]},\"id\":\"1327\",\"type\":\"LegendItem\"},{\"attributes\":{\"callback\":null,\"mode\":\"vline\",\"renderers\":[{\"id\":\"1551\"}],\"tooltips\":[[\"Gender\",\"@__x__values_original\"],[\"Sports\",\"@{Sports}\"]]},\"id\":\"1561\",\"type\":\"HoverTool\"},{\"attributes\":{\"source\":{\"id\":\"2028\"}},\"id\":\"2070\",\"type\":\"CDSView\"},{\"attributes\":{\"callback\":null,\"mode\":\"vline\",\"renderers\":[{\"id\":\"1317\"}],\"tooltips\":[[\"City\",\"@__x__values_original\"],[\"gross income\",\"@{gross income}\"]]},\"id\":\"1328\",\"type\":\"HoverTool\"},{\"attributes\":{\"text\":\"Revenue by the city.\"},\"id\":\"1279\",\"type\":\"Title\"},{\"attributes\":{\"ticks\":[0,1]},\"id\":\"1563\",\"type\":\"FixedTicker\"},{\"attributes\":{\"fill_alpha\":{\"value\":0.1},\"fill_color\":{\"value\":\"#4DAC26\"},\"height\":{\"value\":0.8},\"left\":{\"expr\":{\"id\":\"2064\"}},\"line_alpha\":{\"value\":0.1},\"line_color\":{\"value\":\"#4DAC26\"},\"line_width\":{\"value\":2},\"right\":{\"expr\":{\"id\":\"2065\"}},\"y\":{\"field\":\"__x__values\"}},\"id\":\"2068\",\"type\":\"HBar\"},{\"attributes\":{},\"id\":\"1298\",\"type\":\"WheelZoomTool\"},{\"attributes\":{\"data_source\":{\"id\":\"1063\"},\"glyph\":{\"id\":\"1065\"},\"hover_glyph\":null,\"muted_glyph\":null,\"nonselection_glyph\":{\"id\":\"1066\"},\"selection_glyph\":null,\"view\":{\"id\":\"1068\"}},\"id\":\"1067\",\"type\":\"GlyphRenderer\"},{\"attributes\":{\"ticks\":[0,1,2]},\"id\":\"1330\",\"type\":\"FixedTicker\"},{\"attributes\":{},\"id\":\"2077\",\"type\":\"Selection\"},{\"attributes\":{},\"id\":\"1869\",\"type\":\"PanTool\"},{\"attributes\":{\"items\":[{\"id\":\"2079\"}],\"visible\":false},\"id\":\"2078\",\"type\":\"Legend\"},{\"attributes\":{},\"id\":\"1287\",\"type\":\"LinearScale\"},{\"attributes\":{\"fill_alpha\":{\"value\":0.1},\"fill_color\":{\"value\":\"#d01c8b\"},\"line_alpha\":{\"value\":0.1},\"line_color\":{\"value\":\"#d01c8b\"},\"size\":{\"units\":\"screen\",\"value\":5},\"x\":{\"field\":\"__x__values\"},\"y\":{\"field\":\"Total\"}},\"id\":\"1066\",\"type\":\"Scatter\"},{\"attributes\":{\"below\":[{\"id\":\"1861\"}],\"center\":[{\"id\":\"1864\"},{\"id\":\"1868\"},{\"id\":\"1899\"}],\"left\":[{\"id\":\"1865\"}],\"plot_height\":400,\"plot_width\":400,\"renderers\":[{\"id\":\"1889\"}],\"title\":{\"id\":\"1851\"},\"toolbar\":{\"id\":\"1876\"},\"toolbar_location\":null,\"x_range\":{\"id\":\"1853\"},\"x_scale\":{\"id\":\"1857\"},\"y_range\":{\"id\":\"1855\"},\"y_scale\":{\"id\":\"1859\"}},\"id\":\"1850\",\"subtype\":\"Figure\",\"type\":\"Plot\"},{\"attributes\":{\"source\":{\"id\":\"1063\"}},\"id\":\"1068\",\"type\":\"CDSView\"},{\"attributes\":{\"label\":{\"value\":\"gross income\"},\"renderers\":[{\"id\":\"2069\"}]},\"id\":\"2079\",\"type\":\"LegendItem\"},{\"attributes\":{},\"id\":\"2038\",\"type\":\"LinearScale\"},{\"attributes\":{},\"id\":\"1866\",\"type\":\"BasicTicker\"},{\"attributes\":{\"fill_color\":{\"value\":\"#d01c8b\"},\"line_color\":{\"value\":\"#d01c8b\"},\"size\":{\"units\":\"screen\",\"value\":5},\"x\":{\"field\":\"__x__values\"},\"y\":{\"field\":\"Total\"}},\"id\":\"1065\",\"type\":\"Scatter\"},{\"attributes\":{},\"id\":\"1302\",\"type\":\"HelpTool\"},{\"attributes\":{\"ticks\":[0,1,2,3,4,5]},\"id\":\"2082\",\"type\":\"FixedTicker\"},{\"attributes\":{\"bottom_units\":\"screen\",\"fill_alpha\":0.5,\"fill_color\":\"lightgrey\",\"left_units\":\"screen\",\"level\":\"overlay\",\"line_alpha\":1.0,\"line_color\":\"black\",\"line_dash\":[4,4],\"line_width\":2,\"right_units\":\"screen\",\"top_units\":\"screen\"},\"id\":\"1875\",\"type\":\"BoxAnnotation\"},{\"attributes\":{\"axis_label\":\"City\",\"formatter\":{\"id\":\"1311\"},\"ticker\":{\"id\":\"1330\"}},\"id\":\"1289\",\"type\":\"LinearAxis\"},{\"attributes\":{\"end_angle\":{\"expr\":{\"id\":\"1884\"},\"units\":\"rad\"},\"fill_color\":{\"field\":\"color\"},\"inner_radius\":{\"field\":\"inner_radius\",\"units\":\"data\"},\"line_color\":{\"value\":\"white\"},\"line_width\":{\"value\":2},\"outer_radius\":{\"field\":\"outer_radius\",\"units\":\"data\"},\"start_angle\":{\"expr\":{\"id\":\"1883\"},\"units\":\"rad\"},\"x\":{\"value\":0},\"y\":{\"value\":0}},\"id\":\"1887\",\"type\":\"AnnularWedge\"},{\"attributes\":{\"end_angle\":{\"expr\":{\"id\":\"1884\"},\"units\":\"rad\"},\"fill_alpha\":{\"value\":0.1},\"fill_color\":{\"field\":\"color\"},\"inner_radius\":{\"field\":\"inner_radius\",\"units\":\"data\"},\"line_alpha\":{\"value\":0.1},\"line_color\":{\"value\":\"white\"},\"line_width\":{\"value\":2},\"outer_radius\":{\"field\":\"outer_radius\",\"units\":\"data\"},\"start_angle\":{\"expr\":{\"id\":\"1883\"},\"units\":\"rad\"},\"x\":{\"value\":0},\"y\":{\"value\":0}},\"id\":\"1888\",\"type\":\"AnnularWedge\"}],\"root_ids\":[\"2713\"]},\"title\":\"Bokeh Application\",\"version\":\"2.1.1\"}};\n",
       "  var render_items = [{\"docid\":\"b2b404db-13cc-41c8-8d4f-e7a2ac695cef\",\"root_ids\":[\"2713\"],\"roots\":{\"2713\":\"32cbbcc2-6fca-4b64-98ea-547e91bd6ae7\"}}];\n",
       "  root.Bokeh.embed.embed_items_notebook(docs_json, render_items);\n",
       "\n",
       "  }\n",
       "  if (root.Bokeh !== undefined) {\n",
       "    embed_document(root);\n",
       "  } else {\n",
       "    var attempts = 0;\n",
       "    var timer = setInterval(function(root) {\n",
       "      if (root.Bokeh !== undefined) {\n",
       "        clearInterval(timer);\n",
       "        embed_document(root);\n",
       "      } else {\n",
       "        attempts++;\n",
       "        if (attempts > 100) {\n",
       "          clearInterval(timer);\n",
       "          console.log(\"Bokeh: ERROR: Unable to run BokehJS code because BokehJS library is missing\");\n",
       "        }\n",
       "      }\n",
       "    }, 10, root)\n",
       "  }\n",
       "})(window);"
      ],
      "application/vnd.bokehjs_exec.v0+json": ""
     },
     "metadata": {
      "application/vnd.bokehjs_exec.v0+json": {
       "id": "2713"
      }
     },
     "output_type": "display_data"
    }
   ],
   "source": [
    "plot = pandas_bokeh.plot_grid([[p_bar2, p_pie, p_line],[p_stack2, p_bar, p_stack]], plot_width=400)"
   ]
  },
  {
   "cell_type": "code",
   "execution_count": null,
   "metadata": {},
   "outputs": [],
   "source": []
  }
 ],
 "metadata": {
  "kernelspec": {
   "display_name": "Python 3",
   "language": "python",
   "name": "python3"
  },
  "language_info": {
   "codemirror_mode": {
    "name": "ipython",
    "version": 3
   },
   "file_extension": ".py",
   "mimetype": "text/x-python",
   "name": "python",
   "nbconvert_exporter": "python",
   "pygments_lexer": "ipython3",
   "version": "3.6.7"
  }
 },
 "nbformat": 4,
 "nbformat_minor": 2
}
